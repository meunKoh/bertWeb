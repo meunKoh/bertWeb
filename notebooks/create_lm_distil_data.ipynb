{
 "cells": [
  {
   "cell_type": "code",
   "execution_count": 1,
   "metadata": {},
   "outputs": [
    {
     "name": "stderr",
     "output_type": "stream",
     "text": [
      "[nltk_data] Downloading package punkt to\n",
      "[nltk_data]     C:\\Users\\kkk\\AppData\\Roaming\\nltk_data...\n",
      "[nltk_data]   Package punkt is already up-to-date!\n"
     ]
    }
   ],
   "source": [
    "import json\n",
    "import os\n",
    "import nltk\n",
    "nltk.download('punkt')\n",
    "from nltk.tokenize import sent_tokenize"
   ]
  },
  {
   "cell_type": "code",
   "execution_count": 2,
   "metadata": {},
   "outputs": [],
   "source": [
    "import re\n",
    "import sentencepiece as spm\n",
    "import os\n",
    "import json"
   ]
  },
  {
   "cell_type": "code",
   "execution_count": 3,
   "metadata": {},
   "outputs": [],
   "source": [
    "def clean_str(text):\n",
    "    pattern = '([a-zA-Z0-9_.+-]+@[a-zA-Z0-9-]+\\.[a-zA-Z0-9-.]+)' # E-mail제거\n",
    "    text = re.sub(pattern=pattern, repl='', string=text)\n",
    "    pattern = '(http|ftp|https)://(?:[-\\w.]|(?:%[\\da-fA-F]{2}))+' # URL제거\n",
    "    text = re.sub(pattern=pattern, repl='', string=text)\n",
    "    pattern = '([ㄱ-ㅎㅏ-ㅣ]+)'  # 한글 자음, 모음 제거\n",
    "    text = re.sub(pattern=pattern, repl='', string=text)\n",
    "    pattern = '<[^>]*>'         # HTML 태그 제거\n",
    "    text = re.sub(pattern=pattern, repl='', string=text)\n",
    "    pattern = '[^\\w\\s.?!]'         # 특수기호제거\n",
    "    text = re.sub(pattern=pattern, repl='', string=text)\n",
    "    pattern = '\\s+'         # tab to whitespace\n",
    "    text = re.sub(pattern=pattern, repl=' ', string=text)\n",
    "    pattern = '\\d\\.\\d+'         \n",
    "    text = re.sub(pattern=pattern, repl='USRNUM', string=text)\n",
    "    pattern = '\\d+\\.'         \n",
    "    text = re.sub(pattern=pattern, repl='USRSEQ', string=text)\n",
    "    pattern = '\\d+'         \n",
    "    text = re.sub(pattern=pattern, repl='USRNUM', string=text)\n",
    "    return text  "
   ]
  },
  {
   "cell_type": "markdown",
   "metadata": {},
   "source": [
    "# 1. Language model data 생성"
   ]
  },
  {
   "cell_type": "code",
   "execution_count": 4,
   "metadata": {},
   "outputs": [],
   "source": [
    "file_names = []\n",
    "#for root, dirs, files in os.walk('../data/petitions/all'):\n",
    "for root, dirs, files in os.walk('../data/petitions/sample'):\n",
    "    for fname in files:\n",
    "        full_fname = os.path.join(root, fname)\n",
    "\n",
    "        file_names.append(full_fname)"
   ]
  },
  {
   "cell_type": "code",
   "execution_count": 5,
   "metadata": {
    "scrolled": true
   },
   "outputs": [
    {
     "data": {
      "text/plain": [
       "['../data/petitions/sample\\\\petitions_2017-08',\n",
       " '../data/petitions/sample\\\\petitions_2017-09']"
      ]
     },
     "execution_count": 5,
     "metadata": {},
     "output_type": "execute_result"
    }
   ],
   "source": [
    "file_names"
   ]
  },
  {
   "cell_type": "code",
   "execution_count": 6,
   "metadata": {},
   "outputs": [
    {
     "name": "stdout",
     "output_type": "stream",
     "text": [
      "Total 662 items has been converted\n",
      "Total 17010 items has been converted\n"
     ]
    }
   ],
   "source": [
    "out_file_path = \"../data/petitions/petition.lm.distil.all.clean.train\"\n",
    "with open(out_file_path, 'a', encoding='UTF8') as out_file:\n",
    "    for file_name in file_names:\n",
    "        with open(file_name, \"r\", encoding='utf-8', errors='ignore') as in_file:\n",
    "            datas = in_file.readlines()\n",
    "            \n",
    "            for i in range(len(datas)):\n",
    "                data = json.loads(datas[i])\n",
    "                content = clean_str(data['content'])\n",
    "                content = content.strip()\n",
    "                out_file.write(content + \"\\n\")\n",
    "\n",
    "            print(\"Total {0} items has been converted\".format(len(datas)))"
   ]
  },
  {
   "cell_type": "code",
   "execution_count": null,
   "metadata": {},
   "outputs": [],
   "source": []
  }
 ],
 "metadata": {
  "kernelspec": {
   "display_name": "Python 3",
   "language": "python",
   "name": "python3"
  },
  "language_info": {
   "codemirror_mode": {
    "name": "ipython",
    "version": 3
   },
   "file_extension": ".py",
   "mimetype": "text/x-python",
   "name": "python",
   "nbconvert_exporter": "python",
   "pygments_lexer": "ipython3",
   "version": "3.7.6"
  }
 },
 "nbformat": 4,
 "nbformat_minor": 2
}
