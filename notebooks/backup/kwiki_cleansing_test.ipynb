{
 "cells": [
  {
   "cell_type": "code",
   "execution_count": 1,
   "metadata": {},
   "outputs": [],
   "source": [
    "import json\n",
    "from bs4 import BeautifulSoup"
   ]
  },
  {
   "cell_type": "code",
   "execution_count": 7,
   "metadata": {},
   "outputs": [
    {
     "data": {
      "text/plain": [
       "'C:\\\\Users\\\\alpha'"
      ]
     },
     "execution_count": 7,
     "metadata": {},
     "output_type": "execute_result"
    }
   ],
   "source": [
    "pwd()"
   ]
  },
  {
   "cell_type": "code",
   "execution_count": 8,
   "metadata": {},
   "outputs": [],
   "source": [
    "file_name = 'KorQuAD_2.0_train_01/korquad2.0_train_02.json'\n",
    "with open(file_name, \"r\", encoding='utf-8', errors='ignore') as file:\n",
    "    data = json.load(file)"
   ]
  },
  {
   "cell_type": "code",
   "execution_count": 9,
   "metadata": {},
   "outputs": [
    {
     "data": {
      "text/plain": [
       "2"
      ]
     },
     "execution_count": 9,
     "metadata": {},
     "output_type": "execute_result"
    }
   ],
   "source": [
    "len(data)"
   ]
  },
  {
   "cell_type": "code",
   "execution_count": 14,
   "metadata": {},
   "outputs": [
    {
     "data": {
      "text/plain": [
       "dict_keys(['data', 'version'])"
      ]
     },
     "execution_count": 14,
     "metadata": {},
     "output_type": "execute_result"
    }
   ],
   "source": [
    "data.keys()"
   ]
  },
  {
   "cell_type": "code",
   "execution_count": 15,
   "metadata": {},
   "outputs": [
    {
     "data": {
      "text/plain": [
       "'KorQuAD_2.0_train'"
      ]
     },
     "execution_count": 15,
     "metadata": {},
     "output_type": "execute_result"
    }
   ],
   "source": [
    "data['version']"
   ]
  },
  {
   "cell_type": "code",
   "execution_count": 16,
   "metadata": {},
   "outputs": [
    {
     "data": {
      "text/plain": [
       "list"
      ]
     },
     "execution_count": 16,
     "metadata": {},
     "output_type": "execute_result"
    }
   ],
   "source": [
    "type(data['data'])"
   ]
  },
  {
   "cell_type": "code",
   "execution_count": 17,
   "metadata": {},
   "outputs": [
    {
     "data": {
      "text/plain": [
       "1000"
      ]
     },
     "execution_count": 17,
     "metadata": {},
     "output_type": "execute_result"
    }
   ],
   "source": [
    "len(data['data'])"
   ]
  },
  {
   "cell_type": "code",
   "execution_count": 52,
   "metadata": {},
   "outputs": [
    {
     "data": {
      "text/plain": [
       "dict_keys(['context', 'qas', 'title', 'url', 'raw_html'])"
      ]
     },
     "execution_count": 52,
     "metadata": {},
     "output_type": "execute_result"
    }
   ],
   "source": [
    "data['data'][0].keys()"
   ]
  },
  {
   "cell_type": "code",
   "execution_count": 25,
   "metadata": {},
   "outputs": [
    {
     "data": {
      "text/plain": [
       "'<!DOCTYPE html>\\n<html>\\n<head>\\n<meta>\\n<title>예고범 - 위키백과, 우리 모두의 백과사전</title>\\n\\n\\n<link>\\n\\n<meta>\\n<link>\\n<meta>\\n<meta>\\n<meta>\\n<meta>\\n<link>\\n<link>\\n<link>\\n<link>\\n<link>\\n<link>\\n<link>\\n<link>\\n<link>\\n<link>\\n<link>\\n\\n</head>\\n<body>\\n<div></div>\\n<div></div>\\n<div>\\n<a></a>\\n<div></div>\\n<div>\\n</div>\\n<h1>예고범</h1>\\n<div>\\n<div>위키백과, 우리 모두의 백과사전.</div>\\n<div></div>\\n<div></div>\\n<a>둘러보기로 가기</a>\\n<a>검색하러 가기</a>\\n<div><div><p>《<b>예고범</b>》(<span><a>일본어</a>: </span><span>予告犯</span>)은, 츠츠이 테츠야의 <a>만화</a> 작품이다.\\n</p>\\n<div><input><div><h2>목차</h2><span><label></label></span></div>\\n<ul>\\n<li><a><span>1</span> <span>개요</span></a></li>\\n<li><a><span>2</span> <span>등장인물</span></a>\\n<ul>\\n<li><a><span>2.1</span> <span>예고범 그룹</span></a></li>\\n<li><a><span>2.2</span> <span>경찰 관계자</span></a></li>\\n<li><a><span>2.3</span> <span>타깃이 된 인물·기업·단체</span></a></li>\\n<li><a><span>2.4</span> <span>그 외</span></a></li>\\n</ul>\\n</li>\\n<li><a><span>3</span> <span>서지 정보</span></a></li>\\n<li><a><span>4</span> <span>스핀오프 작품</span></a>\\n<ul>\\n<li><a><span>4.1</span> <span>예고범-THE COPYCAT-</span></a></li>\\n<li><a><span>4.2</span> <span>예고범-THE CHASER-</span></a></li>\\n</ul>\\n</li>\\n<li><a><span>5</span> <span>영화</span></a>\\n<ul>\\n<li><a><span>5.1</span> <span>캐스트</span></a></li>\\n<li><a><span>5.2</span> <span>스태프</span></a></li>\\n</ul>\\n</li>\\n<li><a><span>6</span> <span>텔레비전 드라마</span></a>\\n<ul>\\n<li><a><span>6.1</span> <span>캐스트</span></a></li>\\n<li><a><span>6.2</span> <span>스태프</span></a></li>\\n<li><a><span>6.3</span> <span>방송 일자</span></a></li>\\n</ul>\\n</li>\\n<li><a><span>7</span> <span>외부 링크</span></a></li>\\n</ul>\\n</div>\\n<h2><span></span><span>개요</span><span><span>[</span><a>편집</a><span>]</span></span></h2>\\n<p>《점프 카이》 (<a>슈에이샤</a>)에서 <a>2011년</a>부터 <a>2013년</a> 9호까지 연재되었다. 단행본은 전 3권.\\n</p>\\n<h2><span></span><span>등장인물</span><span><span>[</span><a>편집</a><span>]</span></span></h2>\\n<h3><span></span><span>예고범 그룹</span><span><span>[</span><a>편집</a><span>]</span></span></h3>\\n<dl><dt>게이츠/오쿠다 히로아키</dt>\\n<dd>예고범 그룹 〈신분시〉의 주범격.</dd>\\n<dt>칸사이/카사이 토모히코</dt>\\n<dd><a>오사카</a> 출신.</dd>\\n<dt>메타보/테라하라 신이치</dt>\\n<dd><a>후쿠오카</a> 출신.</dd>\\n<dt>노비타/키무라 코이치</dt>\\n<dd><a>미야기</a> 출신.</dd></dl>\\n<h3><span></span><span>경찰 관계자</span><span><span>[</span><a>편집</a><span>]</span></span></h3>\\n<dl><dt>요시노 에리카</dt>\\n<dd><a>경시청</a> 사이버 범죄 대책과 반장.</dd>\\n<dt>오카모토 다이키</dt>\\n<dd>경시청 사이버 범죄 대책과 소속 형사.</dd>\\n<dt>이치카와 마나부</dt>\\n<dd>경시청 사이버 범죄 대책과 소속 형사.</dd>\\n<dt>마츠모토 신이치</dt>\\n<dd>경시청 사이버 범죄 대책과 과장.</dd>\\n<dt>아라가키</dt>\\n<dd>고속대 대원.</dd></dl>\\n<h3><span></span><span>타깃이 된 인물·기업·단체</span><span><span>[</span><a>편집</a><span>]</span></span></h3>\\n<dl><dt>식품 가공 회사</dt>\\n<dd><a>이시카와현</a> K시에 있는 식품 가공 업자.</dd>\\n<dt>부시키 슈야</dt>\\n<dd>모 외식점의 전 아르바이트 점원.</dd>\\n<dt>세키 슈지</dt>\\n<dd>R대학의 전 학생.</dd>\\n<dt>이케하타 마사요시</dt>\\n<dd>모 넷 서비스 기업에 근무하는 회사원.</dd>\\n<dt>시가디안</dt>\\n<dd><a>고래잡이</a> 반대 운동 등을 행하고 있는 해외의 환경 보호 단체.</dd>\\n<dt>시타라기 타다시</dt>\\n<dd>현직 <a>중의원</a> 의원.</dd></dl>\\n<h3><span></span><span>그 외</span><span><span>[</span><a>편집</a><span>]</span></span></h3>\\n<dl><dt>마스야마 쇼타</dt>\\n<dd><a>토치기 현</a> U시에 사는 중학생.</dd>\\n<dt>호리이</dt>\\n<dd>게이츠가 과거에 근무했던 IT 회사의 사장.</dd>\\n<dt>노모토 청소의 사장과 사장 부인</dt>\\n<dd>빌딩 외벽 청소를 사업으로 하는 청소 회사.</dd>\\n<dt>효로/넬슨 카토 리카르테</dt>\\n<dd><a>필리핀</a> 출신의 <a>일본계 외국인</a>.</dd>\\n<dt>이시다 키요시</dt>\\n<dd>게이츠 등 5인이 먹고 자며 육체 노동을 하던 때의 현장 감독.</dd>\\n<dt>카에데</dt>\\n<dd><a>이와테현</a> K시에 있는 <a>라멘</a> 가게에서 일하는 여성 점원.</dd>\\n<dt>아오야마 유이치</dt>\\n<dd><a>인터넷 카페</a> 〈피트 보이〉에서 일하는 점원.</dd></dl>\\n<h2><span></span><span>서지 정보</span><span><span>[</span><a>편집</a><span>]</span></span></h2>\\n<ul><li>츠츠이 테츠야 《예고범》 <a>슈에이샤</a> 〈영 점프 코믹스〉 전 3권\\n<ol><li>2012년 4월 10일 발매, <a>ISBN</a>\\xa0<a>978-4-08-879310-8</a></li>\\n<li>2012년 12월 10일 발매, <a>ISBN</a>\\xa0<a>978-4-08-879495-2</a></li>\\n<li>2013년 9월 10일 발매, <a>ISBN</a>\\xa0<a>978-4-08-879680-2</a></li></ol></li></ul>\\n<h2><span></span><span>스핀오프 작품</span><span><span>[</span><a>편집</a><span>]</span></span></h2>\\n<h3><span></span><span>예고범-THE COPYCAT-</span><span><span>[</span><a>편집</a><span>]</span></span></h3>\\n<p>《<b>예고범 -THE COPYCAT-</b>》은, 스핀오프 만화 작품이다.\\n</p><p>〈신분시〉의 <a>모방범</a> (카피캣)을 하는 고교생 그룹의 스토리.\\n</p>\\n<h3><span></span><span>예고범-THE CHASER-</span><span><span>[</span><a>편집</a><span>]</span></span></h3>\\n<p>《<b>예고범 -THE CHASER-</b>》는, 스핀오프 <a>소설</a> 작품이다.\\n</p><p>요시노 에리카와 경시청 사이버 범죄 대책과의 그 후 활동을 그린다.\\n</p>\\n<h2><span></span><span>영화</span><span><span>[</span><a>편집</a><span>]</span></span></h2>\\n<p><a>2015년</a> <a>6월 6일</a>, 일본에서 공개되었다. 감독은 나카무라 요시히로. 주연은 <a>이쿠타 토마</a>.\\n</p>\\n<h3><span></span><span>캐스트</span><span><span>[</span><a>편집</a><span>]</span></span></h3>\\n<ul><li>게이츠/오쿠다 히로아키 - <a>이쿠타 토마</a></li>\\n<li>요시노 에리카 - <a>토다 에리카</a></li>\\n<li>칸사이/카사이 토모히코 - <a>스즈키 료헤이</a></li>\\n<li>노비타/키무라 코이치 - 하마다 가쿠</li>\\n<li>메타보/테라하라 신이치 - 아라카와 요시요시</li>\\n<li>오카모토 다이키 - 타쿠마 타카유키</li>\\n<li>이치카와 마나부 - <a>사카구치 켄타로</a></li>\\n<li>아오야마 유이치 - <a>쿠보타 마사타카</a></li>\\n<li>카에데 - <a>코마츠 나나</a></li>\\n<li>효로 - 후쿠야마 코헤이</li>\\n<li>이시다 키요시 - 나카노 시게루</li>\\n<li>키타무라 - <a>타나카 케이</a></li>\\n<li>쿠리하라 - 타키토 켄이치</li>\\n<li>카토 - 혼다 히로타로</li>\\n<li>시타라기 타다시 - <a>코히나타 후미요</a></li></ul>\\n<h3><span></span><span>스태프</span><span><span>[</span><a>편집</a><span>]</span></span></h3>\\n<ul><li>감독 - 나카무라 요시히로</li>\\n<li>원작 - 츠츠이 테츠야</li>\\n<li>각본 - 하야시 타미오</li>\\n<li>음악 - 오오마마 타카시</li>\\n<li>기획·프로듀스 - 히라노 타카시</li>\\n<li>프로듀스 - 타케다 요시타카</li>\\n<li>촬영 - 소마 다이스케</li>\\n<li>미술 - 시미즈 타케시</li>\\n<li>배급 - <a>토호</a></li>\\n<li>제작 프로덕션 - WOWOW FILMS, C&amp;I 엔터테인먼트</li>\\n<li>제작 간사 - <a>TBS</a>, <a>WOWOW</a></li>\\n<li>제작 - 영화 〈예고범〉 제작 위원회</li></ul>\\n<h2><span></span><span>텔레비전 드라마</span><span><span>[</span><a>편집</a><span>]</span></span></h2>\\n<p>《<b>예고범 -THE PAIN-</b>》은, <a>2015년</a> <a>6월 7일</a>부터 <a>7월 5일</a>까지 <a>WOWOW</a> 연속 드라마 W에서 방송된 <a>텔레비전 드라마</a>이다. 전 5화. 주연은 <a>히가시야마 노리유키</a>. 영화판의 스토리로부터 1년 후를 그린 오리지널 스토리이다. 영화판 감독인 나카무라 요시히로가 감독을 맡았고, <a>토다 에리카</a>가 영화판과 같은 역으로 출연했다.\\n</p>\\n<h3><span></span><span>캐스트</span><span><span>[</span><a>편집</a><span>]</span></span></h3>\\n<ul><li>사쿠마 에이지 - <a>히가시야마 노리유키</a></li>\\n<li>요시노 에리카 - <a>토다 에리카</a></li>\\n<li>타부치 유조 - 하시모토 사토시</li>\\n<li>오키나 케이코 - <a>이치카와 미카코</a></li>\\n<li>미즈타니 켄 - <a>키리타니 켄타</a></li>\\n<li>히라사와 아츠시 - 타나카 류조</li>\\n<li>야자키 신타로 - 오오니시 시마</li>\\n<li>카네코 - 코마츠 토시마사</li>\\n<li>사코타 - 마츠바야시 신지</li>\\n<li>신타니 스바루 - 모리오카 류</li>\\n<li>카키네 - 츠무라 노리요시</li>\\n<li>하나야마 토오루 - 무라이 쿠니오</li></ul>\\n<h3><span></span><span>스태프</span><span><span>[</span><a>편집</a><span>]</span></span></h3>\\n<ul><li>원작·스토리 감수 - 츠츠이 테츠야</li>\\n<li>시리즈 구성 - 나카무라 요시히로</li>\\n<li>감독 - 나카무라 요시히로, 히라바야시 카츠토시, 사와다 메구미</li>\\n<li>각본 - 하야시 타미오, 타나카 히로시</li>\\n<li>음악 - 오오마마 타카시</li>\\n<li>프로듀스 - 우에다 하루나</li>\\n<li>제작 프로덕션 - 트윈즈 재팬</li>\\n<li>제작 저작 - <a>WOWOW</a></li></ul>\\n<h3><span></span><span>방송 일자</span><span><span>[</span><a>편집</a><span>]</span></span></h3>\\n<table>\\n<tbody><tr>\\n<th>방송회</th>\\n<th>방송일</th>\\n<th>각본</th>\\n<th>감독\\n</th></tr>\\n<tr>\\n<td>CASE #1\\n</td>\\n<td>2015년 6월 7일</td>\\n<td>하야시 타미오</td>\\n<td>나카무라 요시히로\\n</td></tr>\\n<tr>\\n<td>CASE #2\\n</td>\\n<td>6월 14일</td>\\n<td rowspan=\"4\">타나카 히로시</td>\\n<td>히라바야시 카츠토시\\n</td></tr>\\n<tr>\\n<td>CASE #3\\n</td>\\n<td>6월 21일</td>\\n<td>사와다 메구미\\n</td></tr>\\n<tr>\\n<td>CASE #4\\n</td>\\n<td>6월 28일</td>\\n<td rowspan=\"2\">히라바야시 카츠토시\\n</td></tr>\\n<tr>\\n<td>FINAL CASE\\n</td>\\n<td>7월 5일\\n</td></tr>\\n</tbody></table>\\n<h2><span></span><span>외부 링크</span><span><span>[</span><a>편집</a><span>]</span></span></h2>\\n<ul><li><b><span>(일본어)</span></b> <a>［예고범］ 츠츠이 테츠야｜전율의 넷 테러 만화를 완전 해설! - 점프 카이</a></li>\\n<li><b><span>(일본어)</span></b> <a>영화 《예고범》 공식 사이트</a></li>\\n<li><b><span>(일본어)</span></b> <a>연속 드라마 W 《예고범 -THE PAIN-》 공식 사이트</a></li></ul>\\n<div><table><tbody><tr><th colspan=\"2\"><div><ul><li><a><abbr>v</abbr></a></li><li><a><abbr>d</abbr></a></li><li><a><abbr>e</abbr></a></li><li><a><abbr>h</abbr></a></li></ul></div><div><a>WOWOW</a> <a>연속 드라마 W</a></div></th></tr><tr><th>주 1회<br/>(2008년 ~ 2014년)</th><td><div>\\n<ul><li>《<a>판도라</a>》</li>\\n<li>《<a>프리즈너</a>》</li>\\n<li>《<a>하늘을 나는 타이어</a>》</li>\\n<li>《<a>엄마는 옛날에 아빠였다</a>》</li>\\n<li>《<a>은폐지령</a>》</li>\\n<li>《<a>판도라 II 기아열도</a>》</li>\\n<li>《<a>마크스의 산</a>》</li>\\n<li>《<a>히가시노 게이고 환야</a>》</li>\\n<li>《<a>CO 이식 코디네이터</a>》</li>\\n<li>《<a>변두리 로켓</a>》</li>\\n<li>《<a>판도라 III 혁명전야</a>》</li>\\n<li>《<a>조화의 꿀</a>》</li>\\n<li>《<a>속죄</a>》</li>\\n<li>《<a>분신</a>》</li>\\n<li>《<a>추정유죄</a>》</li>\\n<li>《<a>죄와 벌 A Falsified Romance</a>》</li>\\n<li>《<a>마그마</a>》</li>\\n<li>《<a>플라티나 타운</a>》</li>\\n<li>《<a>히토리시즈카</a>》</li>\\n<li>《<a>하늘의 방주</a>》</li>\\n<li>《<a>여자와 남자의 열대</a>》</li>\\n<li>《<a>레이디 조커</a>》</li>\\n<li>《<a>소돔의 사과~롯을 죽인 딸들</a>》</li>\\n<li>《<a>배달되고 싶은 우리</a>》</li>\\n<li>《<a>흔들리는 소</a>》</li>\\n<li>《<a>빵과 스프, 고양이와 함께 하기 좋은 날</a>》</li>\\n<li>《<a>열쇠 없는 꿈을 꾸다</a>》</li>\\n<li>《<a>LINK</a>》</li>\\n<li>《<a>저편의 아이</a>》</li>\\n<li>《<a>피의 흔적</a>》</li>\\n<li>《<a>세상의 소금</a>》</li>\\n<li>《<a>나라고 하는 운명에 대하여</a>》</li>\\n<li><a>토쿠소우</a>》</li>\\n<li>《<a>모자이크 재팬</a>》</li>\\n<li>《<a>MOZU Season2 ~환상의 날개~</a>》</li>\\n<li>《<a>히가시노 게이고 〈변신〉</a>》</li>\\n<li>《<a>죄인의 거짓말</a>》</li></ul>\\n</div></td></tr><tr><th>주 2회<br/>(2014년 ~ )</th><td><div></div><table><tbody><tr><th>토요 오리지널</th><td><div>\\n<ul><li>《<a>구구는 고양이다</a>》</li>\\n<li>《<a>헤이세이 원숭이와 게의 전쟁</a>》</li>\\n<li>《<a>속죄의 소나타</a>》</li>\\n<li>《<a>유리의 갈대</a>》</li>\\n<li>《<a>어둠의 반주자</a>》</li>\\n<li>《<a>꿈을 주다</a>》</li>\\n<li>《<a>후타가시라</a>》</li>\\n<li>《<a>연하 -Gold Rush-</a>》</li>\\n<li>《<a>바다에 내리다</a>》</li>\\n<li>《<a>5명의 준코</a>》</li>\\n<li>《<a>황무지의 사랑</a>》</li>\\n<li>《<a>반짝반짝</a>》</li>\\n<li>《<a>구구는 고양이다 2-good good the fortune cat-</a>》</li>\\n<li>《<a>키보가오카의 사람들</a>》</li>\\n<li>《<a>현자의 사랑</a>》</li>\\n<li>《<a>후타가시라 2</a>》</li>\\n<li>《<a>콜드 케이스 ~진실의 문~</a>》</li>\\n<li>《<a>오늘은, 일진도 좋고</a>》</li>\\n<li>《<a>호쿠토 -어느 살인자의 회심-</a>》</li>\\n<li>《<a>미야자와 겐지의 식탁</a>》</li>\\n<li>《<a>플라즈~번역 있음 만의 쉐어하우스~</a>》</li>\\n<li>《<a>짝사랑</a>》</li>\\n<li>《<a>명함 게임</a>》</li>\\n<li>《<a>봄이 왔다</a>》</li>\\n<li>《<a>바이바이, 블랙버드</a>》</li>\\n<li>《<a>어둠의 반주자~편집장의 조건</a>》</li>\\n<li>《<a>더블 판타지</a>》</li>\\n<li>《<a>이아리 보이지 않는 얼굴</a>》</li>\\n<li>《<a>콜드 케이스 2 ~진실의 문~</a>》</li>\\n<li>《<a>도난당한 얼굴 ~눈에 띄지 수사반~</a>》</li>\\n<li>《<a>그것을 사랑과 착각하니까</a>》</li>\\n<li>《<a>다잉 아이</a>》</li>\\n<li>《<a>언덕 중간의 집</a>》</li></ul>\\n</div></td></tr><tr><th>일요 오리지널</th><td><div>\\n<ul><li>《<a>주가폭락</a>》</li>\\n<li>《<a>악화</a>》</li>\\n<li>《<a>저물어 가는 여름</a>》</li>\\n<li>《<a>천사의 나이프</a>》</li>\\n<li>《<a>스케이프고트</a>》</li>\\n<li>《<a>테미스의 구형</a>》</li>\\n<li>《<a>예고범 -THE PAIN-</a>》</li>\\n<li>《<a>죽음의 장기</a>》</li>\\n<li>《<a>돌의 고치 살인분석반</a>》</li>\\n<li>《<a>신가리 야마이치 증권 최후의 성전</a>》</li>\\n<li>《<a>오판</a>》</li>\\n<li>《<a>쏠 수 없는 경관</a>》</li>\\n<li>《<a>메가뱅크 최종결전</a>》</li>\\n<li>《<a>뻐꾸기 알은 누구의 것인가</a>》</li>\\n<li>《<a>지지 않는 태양</a>》</li>\\n<li>《<a>히포크라테스 선서</a>》</li>\\n<li>《<a>수정의 고동 살인분석반</a>》</li>\\n<li>《<a>낙원</a>》</li>\\n<li>《<a>제니가타 경부 칠흑의 범죄 파일</a>》</li>\\n<li>《<a>히토야노토게~감옥의 가시~</a>》</li>\\n<li>《<a>사장실의 겨울 -거대 신문사를 잡는 남자-</a>》</li>\\n<li>《<a>범죄증후군 Season2</a>》</li>\\n<li>《<a>아키라와 아키라</a>》</li>\\n<li>《<a>침묵 법정</a>》</li>\\n<li>《<a>돌팔매질~외무성 비자금을 파헤친 수사2과 남자들~</a>》</li>\\n<li>《<a>감사역 노자키</a>》</li>\\n<li>《<a>이노센트 데이즈</a>》</li>\\n<li>《<a>60 오판 대책실</a>》</li>\\n<li>《<a>불발탄 ~검은 돈을 조종하는 남자~</a>》</li>\\n<li>《<a>구로쇼인의 로쿠베에</a>》</li>\\n<li>《<a>진범인</a>》</li>\\n<li>《<a>판도라 Ⅳ AI전쟁</a>》</li>\\n<li>《<a>고고한 메스</a>》</li>\\n<li>《<a>절규</a>》</li></ul>\\n</div></td></tr></tbody></table><div></div></td></tr></tbody></table></div>\\n<div><div><b><a>예고범-THE COPYCAT-</a></b>에 관한\\xa0<a>분류</a>: <a>주간 영 점프의 만화</a></div><div><b><a>예고범-THE PAIN-</a></b>에 관한\\xa0<a>분류</a>: <a>만화의 텔레비전 드라마화 작품</a>\\xa0\\xa0<span>|</span>\\xa0\\xa0<a>2015년 드라마 </a>\\xa0\\xa0<span>|</span>\\xa0\\xa0<a>연속 드라마 W </a></div></div>\\n\\n\\n\\n</div><noscript><img></noscript></div>\\n<div>원본 주소 \"<a>https://ko.wikipedia.org/w/index.php?title=예고범&amp;oldid=21882503</a>\"</div>\\n<div><div><a>분류</a>: <ul><li><a>일본의 만화</a></li><li><a>추리 만화</a></li><li><a>범죄를 소재로 한 작품</a></li><li><a>테러를 소재로 한 작품</a></li><li><a>일본의 영화 작품</a></li><li><a>일본의 범죄 영화</a></li><li><a>테러리즘을 소재로 한 영화</a></li><li><a>만화를 바탕으로 한 영화</a></li></ul></div><div>숨은 분류: <ul><li><a>일본어 표기를 포함한 문서</a></li></ul></div></div>\\n<div></div>\\n</div>\\n</div>\\n<div>\\n<h2>둘러보기 메뉴</h2>\\n<div>\\n<div>\\n<h3>개인 도구</h3>\\n<ul>\\n<li>로그인하지 않음</li><li><a>토론</a></li><li><a>기여</a></li><li><a>계정 만들기</a></li><li><a>로그인</a></li> </ul>\\n</div>\\n<div>\\n<div>\\n<h3>이름공간</h3>\\n<ul>\\n<li><span><a>문서</a></span></li><li><span><a>토론</a></span></li> </ul>\\n</div>\\n<div>\\n<input>\\n<h3>\\n<span>변수</span>\\n</h3>\\n<ul>\\n</ul>\\n</div>\\n</div>\\n<div>\\n<div>\\n<h3>보기</h3>\\n<ul>\\n<li><span><a>읽기</a></span></li><li><span><a>편집</a></span></li><li><span><a>역사 보기</a></span></li> </ul>\\n</div>\\n<div>\\n<input>\\n<h3><span>더 보기</span></h3>\\n<ul>\\n</ul>\\n</div>\\n<div>\\n<h3>\\n<label>검색</label>\\n</h3>\\n<form>\\n<div>\\n<input><input><input><input> </div>\\n</form>\\n</div>\\n</div>\\n</div>\\n<div>\\n<div><a></a></div>\\n<div>\\n<h3>둘러보기</h3>\\n<div>\\n<ul>\\n<li><a>대문</a></li><li><a>사용자 모임</a></li><li><a>요즘 화제</a></li><li><a>최근 바뀜</a></li><li><a>모든 문서 보기</a></li><li><a>임의 문서로</a></li><li><a>도움말</a></li><li><a>기부</a></li> </ul>\\n</div>\\n</div>\\n<div>\\n<h3>도구</h3>\\n<div>\\n<ul>\\n<li><a>여기를 가리키는 문서</a></li><li><a>가리키는 글의 최근 바뀜</a></li><li><a>파일 올리기</a></li><li><a>특수 문서 목록</a></li><li><a>고유 링크</a></li><li><a>문서 정보</a></li><li><a>위키데이터 항목</a></li><li><a>이 문서 인용하기</a></li> </ul>\\n</div>\\n</div>\\n<div>\\n<h3>인쇄/내보내기</h3>\\n<div>\\n<ul>\\n<li><a>책 만들기</a></li><li><a>PDF로 다운로드</a></li><li><a>인쇄용 판</a></li> </ul>\\n</div>\\n</div>\\n<div>\\n<h3>다른 언어</h3>\\n<div>\\n<ul>\\n<li><a>English</a></li><li><a>Français</a></li><li><a>日本語</a></li><li><a>Tagalog</a></li><li><a>中文</a></li> </ul>\\n<div><span><a>링크 편집</a></span></div> </div>\\n</div>\\n</div>\\n</div>\\n<div>\\n<ul>\\n<li> 이 문서는 2018년 7월 27일 (금) 06:45에 마지막으로 편집되었습니다.</li>\\n<li>모든 문서는 <a>크리에이티브 커먼즈 저작자표시-동일조건변경허락 3.0</a>에 따라 사용할 수 있으며, 추가적인 조건이 적용될 수 있습니다. 자세한 내용은 <a>이용 약관</a>을 참고하십시오.<br/>Wikipedia®는 미국 및 다른 국가에 등록되어 있는 <a>Wikimedia Foundation, Inc.</a> 소유의 등록 상표입니다.</li>\\n</ul>\\n<ul>\\n<li><a>개인정보 정책</a></li>\\n<li><a>위키백과 소개</a></li>\\n<li><a>면책 조항</a></li>\\n<li><a>개발자</a></li>\\n<li><a>쿠키 정책</a></li>\\n<li><a>모바일 보기</a></li>\\n</ul>\\n<ul>\\n<li>\\n<a><img></a> </li>\\n<li>\\n<a><img></a> </li>\\n</ul>\\n<div></div>\\n</div>\\n\\n\\n\\n</body>\\n</html>\\n'"
      ]
     },
     "execution_count": 25,
     "metadata": {},
     "output_type": "execute_result"
    }
   ],
   "source": [
    "data['data'][0]['context']"
   ]
  },
  {
   "cell_type": "code",
   "execution_count": 46,
   "metadata": {},
   "outputs": [
    {
     "data": {
      "text/plain": [
       "[{'question': '드라마 예고범의 감독은 누구일까?',\n",
       "  'id': '8089',\n",
       "  'answer': {'text': '나카무라 요시히로, 히라바야시 카츠토시, 사와다 메구미',\n",
       "   'html_answer_text': '나카무라 요시히로, 히라바야시 카츠토시, 사와다 메구미',\n",
       "   'answer_start': 6302,\n",
       "   'html_answer_start': 21842}}]"
      ]
     },
     "execution_count": 46,
     "metadata": {},
     "output_type": "execute_result"
    }
   ],
   "source": [
    "data['data'][0]['qas']"
   ]
  },
  {
   "cell_type": "code",
   "execution_count": 27,
   "metadata": {},
   "outputs": [
    {
     "data": {
      "text/plain": [
       "'예고범'"
      ]
     },
     "execution_count": 27,
     "metadata": {},
     "output_type": "execute_result"
    }
   ],
   "source": [
    "data['data'][0]['title']"
   ]
  },
  {
   "cell_type": "code",
   "execution_count": 4,
   "metadata": {},
   "outputs": [
    {
     "name": "stdout",
     "output_type": "stream",
     "text": [
      "\n",
      "\n",
      "\n",
      "\n",
      "T-X 프로그램 - 위키백과, 우리 모두의 백과사전\n",
      "\n",
      "\n",
      "\n",
      "\n",
      "\n",
      "\n",
      "\n",
      "\n",
      "\n",
      "\n",
      "\n",
      "\n",
      "\n",
      "\n",
      "\n",
      "\n",
      "\n",
      "\n",
      "\n",
      "\n",
      "\n",
      "\n",
      "\n",
      "\n",
      "\n",
      "\n",
      "\n",
      "T-X 프로그램\n",
      "\n",
      "위키백과, 우리 모두의 백과사전.\n",
      "\n",
      "\n",
      "둘러보기로 가기\n",
      "검색하러 가기\n",
      "T-X 프로그램(영어: T-X program)은 미국 공군의 T-38 탤론 고등훈련기를 신형으로 교체하는 사업이다.\n",
      "미국 공군은 최초엔 350대를 구매할 계획이나, 전체적으로 1,000대 이상을 주문할 수도 있다.\n",
      "2017 회계년도 부터 사업이 시작될 예정이다. 2016년말까지 입찰 제안서를 받아, 2017년말에 기종을 결정할 계획이다.\n",
      "\n",
      "목차\n",
      "\n",
      "1 후보기종\n",
      "\n",
      "1.1 레이시온\n",
      "1.2 노스럽 그러먼\n",
      "1.3 록히드 마틴\n",
      "1.4 텍스트론 에어랜드\n",
      "1.5 보잉\n",
      "\n",
      "\n",
      "2 같이 보기\n",
      "3 각주\n",
      "\n",
      "\n",
      "후보기종[편집]\n",
      "레이시온[편집]\n",
      "레이시온은 이탈리아 M-346 마스터로 응찰할 것이다.\n",
      "\n",
      "노스럽 그러먼[편집]\n",
      "노스럽 그러먼은 영국 BAE 호크로 응찰할 것이다.\n",
      "\n",
      "록히드 마틴[편집]\n",
      " T-50 골든이글\n",
      "록히드 마틴은 한국 T-50 골든이글을 제시했다. 경쟁기종 중에서 가장 대형이며, 유일하게 초음속을 낼 수 있다. 2015년 12월 17일 경남 사천 KAI에서 T-X용 T-50 골든이글인 T-50A의 출고식을 가졌다. 박근혜 대통령이 참석했다.\n",
      "\n",
      "치열한 미국 훈련기 수주전…100조원 수출 기대 - T-50A관련 영상\n",
      "Lockheed Martin Flies First T-50A Upgraded Aircraft for T-X Competition\n",
      "\n",
      "T-50A는 가상훈련, 개방형 시스템구조, 공중급유, 5세대 조종석 등을 갖춰 조종사들이 F-35나 F-22 등 최신 전투기에도 쉽게 적응할 수 있도록 했다.[1]\n",
      "미 공군은 차세대 훈련기를 F-35 전투기에 대한 훈련기로 활용할 계획이다.[2]\n",
      "T-X 1차분 물량만 350대, 금액으로 17조원에 이른다. 이를 수주하게 되면 산업 파급 효과는 7조3000억원, 일자리 창출은 연 4만3000명 규모로 전망된다.[3]\n",
      "2017년 말 납품되는 T-X 초기 물량은 360대(17조원)이며 가상적기, 미국 해군 항공모함용 훈련기 등 후속 물량까지 합하면 650대(33조원)에 이른다. 여기에 미국 외 제3국 수출 물량으로 1000여대(55조원)의 교체 수요가 추가적으로 발생할 것으로 예상된다. 이 사업을 수주하면 세계 고등훈련기 시장을 주도하게 돼 최소 1000대 이상(70조원)의 고등훈련기를 수출할 수 있을 것으로 KAI는 전망하고 있다.[4]\n",
      "2016년 3월 12일 일본의 항공군사평론가 세키 켄타로(關 賢太郞)는 \"미국의 T-X 사업에 T-50이 선정된다면, F-35를 도입할 국가들의 고등훈련기 판로가 열릴 것\"이라며 일본 항공자위대가 T-50 골든이글을 도입할 수도 있을 것이라고 전망했다.[5]\n",
      "\n",
      "텍스트론 에어랜드[편집]\n",
      "텍스트론 에어랜드는 텍스트론 에어랜드 스콜피온을 준비중이다.\n",
      "\n",
      "보잉[편집]\n",
      "보잉은 스웨덴 사브와 함께 새로운 훈련기 보잉 T-X를 제시할 것이다. T-50 골든이글 보다 비싸게 만들 것이라고 한다.\n",
      "\n",
      "같이 보기[편집]\n",
      "T-50A\n",
      "보잉 T-X\n",
      "각주[편집]\n",
      "\n",
      "\n",
      "↑ 록히드, 美 공군 T-X 사업에 T-50A 훈련기 제안 결정, 세계일보, 2016-02-13\n",
      "\n",
      "↑ T-X(미국수출형 훈련기) 1000대 팔 수 있을까…T-50 경쟁력은?, 뉴스1, 2015-12-18\n",
      "\n",
      "↑ KAI, T-50 최신화 T-X 첫 선, 경남일보, 2015.12.17\n",
      "\n",
      "↑ 수출물량 350대 10조원규모 對美 수출형 훈련기‘위용’, 헤럴드경제, 2015-12-17\n",
      "\n",
      "↑ 일본 군사평론가 자위대 T-50 도입 할 수도..., 파이낸셜뉴스, 2016-03-17\n",
      "\n",
      "\n",
      "\n",
      "원본 주소 \"https://ko.wikipedia.org/w/index.php?title=T-X_프로그램&oldid=22633317\"\n",
      "분류: 훈련기숨은 분류: 영어 표기를 포함한 문서\n",
      "\n",
      "\n",
      "\n",
      "\n",
      "둘러보기 메뉴\n",
      "\n",
      "\n",
      "개인 도구\n",
      "\n",
      "로그인하지 않음토론기여계정 만들기로그인 \n",
      "\n",
      "\n",
      "\n",
      "이름공간\n",
      "\n",
      "문서토론 \n",
      "\n",
      "\n",
      "\n",
      "\n",
      "변수\n",
      "\n",
      "\n",
      "\n",
      "\n",
      "\n",
      "\n",
      "\n",
      "보기\n",
      "\n",
      "읽기편집역사 보기 \n",
      "\n",
      "\n",
      "\n",
      "더 보기\n",
      "\n",
      "\n",
      "\n",
      "\n",
      "\n",
      "검색\n",
      "\n",
      "\n",
      "\n",
      " \n",
      "\n",
      "\n",
      "\n",
      "\n",
      "\n",
      "\n",
      "\n",
      "둘러보기\n",
      "\n",
      "\n",
      "대문사용자 모임요즘 화제최근 바뀜모든 문서 보기임의 문서로도움말기부 \n",
      "\n",
      "\n",
      "\n",
      "도구\n",
      "\n",
      "\n",
      "여기를 가리키는 문서가리키는 글의 최근 바뀜파일 올리기특수 문서 목록고유 링크문서 정보위키데이터 항목이 문서 인용하기 \n",
      "\n",
      "\n",
      "\n",
      "인쇄/내보내기\n",
      "\n",
      "\n",
      "책 만들기PDF로 다운로드인쇄용 판 \n",
      "\n",
      "\n",
      "\n",
      "다른 언어\n",
      "\n",
      "\n",
      "DeutschEnglishPolskiPortuguês中文 \n",
      "링크 편집 \n",
      "\n",
      "\n",
      "\n",
      "\n",
      "\n",
      " 이 문서는 2018년 9월 29일 (토) 08:03에 마지막으로 편집되었습니다.\n",
      "모든 문서는 크리에이티브 커먼즈 저작자표시-동일조건변경허락 3.0에 따라 사용할 수 있으며, 추가적인 조건이 적용될 수 있습니다. 자세한 내용은 이용 약관을 참고하십시오.Wikipedia®는 미국 및 다른 국가에 등록되어 있는 Wikimedia Foundation, Inc. 소유의 등록 상표입니다.\n",
      "\n",
      "\n",
      "개인정보 정책\n",
      "위키백과 소개\n",
      "면책 조항\n",
      "개발자\n",
      "쿠키 정책\n",
      "모바일 보기\n",
      "\n",
      "\n",
      "\n",
      " \n",
      "\n",
      " \n",
      "\n",
      "\n",
      "\n",
      "\n",
      "\n",
      "\n"
     ]
    }
   ],
   "source": [
    "print(BeautifulSoup(data['data'][0]['context'], 'html.parser').get_text())"
   ]
  },
  {
   "cell_type": "code",
   "execution_count": 2,
   "metadata": {},
   "outputs": [],
   "source": [
    "from koalanlp import API\n",
    "from koalanlp.proc import SentenceSplitter"
   ]
  },
  {
   "cell_type": "code",
   "execution_count": 3,
   "metadata": {},
   "outputs": [],
   "source": [
    "from koalanlp.Util import initialize, finalize"
   ]
  },
  {
   "cell_type": "code",
   "execution_count": 4,
   "metadata": {},
   "outputs": [
    {
     "name": "stderr",
     "output_type": "stream",
     "text": [
      "\u001b[1mpy4j.java_gateway\u001b[0m Callback Server Starting\n",
      "\u001b[1mpy4j.java_gateway\u001b[0m Socket listening on ('127.0.0.1', 25334)\n",
      "\u001b[1mjip\u001b[0m JVM initialization procedure is completed.\n"
     ]
    },
    {
     "name": "stdout",
     "output_type": "stream",
     "text": [
      "('java.lang.String',)\n",
      "('kr.bydelta.koala', 'POS')\n",
      "('kr.bydelta.koala', 'PhraseTag')\n",
      "('kr.bydelta.koala', 'DependencyTag')\n",
      "('kr.bydelta.koala', 'RoleType')\n",
      "('kr.bydelta.koala', 'CoarseEntityType')\n"
     ]
    }
   ],
   "source": [
    "#initialize(java_options=\"-Xmx4g\", KKMA=\"2.0.4\", ETRI=\"2.0.4\")\n",
    "initialize(java_options=\"-Xmx4g\", HNN=\"2.0.0\")"
   ]
  },
  {
   "cell_type": "code",
   "execution_count": 5,
   "metadata": {},
   "outputs": [
    {
     "name": "stdout",
     "output_type": "stream",
     "text": [
      "('kr.bydelta.koala', 'hnn', 'SentenceSplitter')\n",
      "('java.lang.String',)\n",
      "분리할 문장을 이렇게 넣으면 문장이 분리됩니다 . \n",
      "간단하죠 ? \n"
     ]
    }
   ],
   "source": [
    "splitter = SentenceSplitter(API.HNN)\n",
    "paragraph = splitter(\"분리할 문장을 이렇게 넣으면 문장이 분리됩니다. 간단하죠?\")\n",
    "print(paragraph[0])\n",
    "print(paragraph[1])"
   ]
  },
  {
   "cell_type": "code",
   "execution_count": 10,
   "metadata": {},
   "outputs": [],
   "source": [
    "#text = BeautifulSoup(data['data'][0]['context'], 'html.parser').get_text()"
   ]
  },
  {
   "cell_type": "code",
   "execution_count": 10,
   "metadata": {},
   "outputs": [],
   "source": [
    "text = \"\"\"본보가 紙齡 500호를 맞았다. 1947년 11월 3일 창간되어 오늘에 이르기까지 약 스무 해 동안 본보는 대학사회의 여론창달의 선구자적 역할을 게을리하지 않았고 알찬 내용을 담은 지식의 전달자로서의 임무를 소홀히하지 않았다. 본보가 지령 500호를 맞는 사이 우리 사회는 많은 변천을 겪어왔고 대학사회 역시 수다한 변천과정을 겪어왔다. 이것은 반드시 정치적인 변동만을 뜻하는 것이 아니며 이것은 반드시 경제적인 변동만을 뜻하는 것이 아니다. 정치와 경제와 사회 전반에 걸쳐 한국사회가 겪고 있는 급격한 변천의 소용돌이 속에서 이른바 근대화과정은 우리들로 하여금 근대화에 필요한 의식의 전환을 요구하여왔고 무엇보다도 신문을 포함한 매스 미디어의 시대적 사명은 더욱더 漸高되어가는 단계에 이르른 것이다.</p> <p>물론 한국의 언론이 근대화과정에서 보여준 시대적 사명감의 실현은 두드러진 바가 있다. 멀리는 日帝식민지체제로부터의 독립과 李承晩독재정권으로부터의 자유의 수호라는 정치적 근대화과정을 거쳐 전근대적 산업체제로부터 근대적 산업사회로 이행하며 의존경제체제로부터 자립경제체제로 이행해가는 이른바 경제적 근대화과정에서 보여준 한국언론의 그 빛나는 지도적 특성은 다른 어느 나라의 신문의 역사에서도 찾아보기 힘드는 자랑스러운 일이라 아니할 수 없다. 그러나 한 시대의 시대적 상황이 달라지게 되면 그 시대가 요구하는 새로운 의식에로의 전환이 있어야하듯이 한국사회가 지금 겪고 있는 급격한 변천의 과정에서는 또한 그에 적절한 새로운 의식의 흐름이 있어야 한다는 점을 지나쳐 버릴 수는 없을 것같다.</p> <p>흔히 新聞이 갖는 정신적 태도를 제1차원적인 의미에 있어서 소극적 태도의 차원, 그 제2차원적인 의미에 있어서 비판적 태도의 차원, 그 제3차원적인 의미에 있어서 상황적 요인의 차원의 3단계로 나누어 생각한다. 그러면 오늘날 한국신문이 갖는 정신적 태도는 어느 차원에 머무르고 있는 것일까?</p> <p>흔히 우리들은 신문의 사명을 일컬어 「역사의 파수꾼」 혹은 「역사의 심판자」라고 부르고 있다. 우리가 신문의 사명을 이러한 각도에서 평가하는 이유는 우리가 곧 신문의 사명을 제2차원적인 면에서 측정하고 있는 때문일 것이다. 그리하여 한국신문의 병폐를 일컬어 흔히들 「습관적 반응」을 보이며 「습관적 의견」만을 제시하는 신문이라고 한다. 물론 이러한 의견이 반드시 옳은 것이라고 말할 수는 없을는지 모르나 적어도 한국신문이 지닌 습관 가운데 하나라는 것은 부인하지 못할 것같다. 그러니 한국신문이 언제까지나 이와 같은 차원에서 머무르고 있다고 한다면 그것은 새로운 시대가 요구하는 새로운 의식에로의 전환은 거의 불가능한 것이라고 하겠다.</p> <p>지금 우리 사회가 처해있는 상황은 그 어느 때보다도 상황을 과학적으로 분석하고 그 분석을 토대로 그러한 상황의 요인에 대처할 수 있는 올바른 자세를 요구하고 있는 때라고 하겠다. 안으로는 하루바삐 근대적 사회구조로 바꾸어야 한다는 시대적 요구가 그러하며 밖으로는 나날이 가중되어오는 국제적 긴박감이 또한 그러하다. 이러한 상황 아래서 이제 한국의 신문이 걸어가야 할 정도란 「우리가 지금 어디에 서있는가」라는 상황요인의 분석태도라고 하겠다.</p> <p>사실 남이 하는 일을 꼬집고 비판하고 그리고 욕하는 일은 쉬운 것이다. 그러나 실제로 우리들이 어떻게 해야 하며 그 결과에 대해 우리들 스스로가 어떻게 책임을 져야 하느냐 하는 문제는 그리 쉬운 일이 아닐 것이다. 바꾸어 표현하면 흔히 말하는 「역사의 파수꾼」 혹은 「역사의 심판자」로서의 신문의 역할은 쉬울는지 몰라도 「역사의 예견자」 혹은 「역사의 통찰자」로서의 역할은 그렇게 간단한 일이 아니라는 점이다. 사실 지금까지 한국의 언론이 前者의 특성은 강조하면서 後者의 특성은 소홀히 하여왔다는 점을 지적해 두어야 할 것같다.</p> <p>이와 같은 점을 여기서 강조하고자 하는 뜻은 이와 같은 종래의 정신적 자세는 한국언론의 병폐이자 동시에 한국지식인의 일반적인 병폐로 간혹 지적되어 왔다는 점을 감안하여 이제 지성인의 사회라고 말할 수 있는 대학신문이 앞으로 어떤 길로 나아가야 할 것인가에 대한 것을 밝혀두자는 데 있다.</p> <p>지령 500호를 맞은 본보 역시 오늘의 시점에서 자성하여본다면 한국의 언론이 지니고 있는 일반적 개념의 카테고리 내에서 벗어나지 못한 것이 사실이며 이제 500호를 계기로 그와 같은 차원으로부터 한 단계 높은 차원 즉 「상황요인의 차원」에로 높여야겠다는 점을 절실히 느끼기 때문이다. 지금까지 본보가 대학신문의 지도적 위치에서 대학신문의 갈 길을 예시하여온 것처럼 지령 500호를 계기로 새로운 길을 모색하는 길잡이가 되어주리라 믿는다.</p>\"\"\""
   ]
  },
  {
   "cell_type": "code",
   "execution_count": 11,
   "metadata": {},
   "outputs": [
    {
     "name": "stdout",
     "output_type": "stream",
     "text": [
      "('kr.bydelta.koala', 'hnn', 'SentenceSplitter')\n",
      "('java.lang.String',)\n"
     ]
    }
   ],
   "source": [
    "splitter = SentenceSplitter(API.HNN)\n",
    "paragraph = splitter(text)"
   ]
  },
  {
   "cell_type": "code",
   "execution_count": 13,
   "metadata": {},
   "outputs": [
    {
     "name": "stdout",
     "output_type": "stream",
     "text": [
      "본보가 紙齡 500호를 맞았다 . \n",
      "====================================================================\n",
      "1947년 11월 3일 창간되어 오늘에 이르기까지 약 스무 해 동안 본보는 대학사회의 여론창달의 선구자적 역할을 게을리하지 않았고 알찬 내용을 담은 지식의 전달자로서의 임무를 소홀히하지 않았다 . \n",
      "====================================================================\n",
      "본보가 지령 500호를 맞는 사이 우리 사회는 많은 변천을 겪어왔고 대학사회 역시 수다한 변천과정을 겪어왔다 . \n",
      "====================================================================\n",
      "이것은 반드시 정치적인 변동만을 뜻하는 것이 아니며 이것은 반드시 경제적인 변동만을 뜻하는 것이 아니다 . \n",
      "====================================================================\n",
      "정치와 경제와 사회 전반에 걸쳐 한국사회가 겪고 있는 급격한 변천의 소용돌이 속에서 이른바 근대화과정은 우리들로 하여금 근대화에 필요한 의식의 전환을 요구하여왔고 무엇보다도 신문을 포함한 매스 미디어의 시대적 사명은 더욱더 漸高되어가는 단계에 이르른 것이다 . \n",
      "====================================================================\n",
      "</p> <p>물론 한국의 언론이 근대화과정에서 보여준 시대적 사명감의 실현은 두드러진 바가 있다 . \n",
      "====================================================================\n",
      "멀리는 日帝식민지체제로부터의 독립과 李承晩독재정권으로부터의 자유의 수호라는 정치적 근대화과정을 거쳐 전근대적 산업체제로부터 근대적 산업사회로 이행하며 의존경제체제로부터 자립경제체제로 이행해가는 이른바 경제적 근대화과정에서 보여준 한국언론의 그 빛나는 지도적 특성은 다른 어느 나라의 신문의 역사에서도 찾아보기 힘드는 자랑스러운 일이라 아니할 수 없다 . \n",
      "====================================================================\n",
      "그러나 한 시대의 시대적 상황이 달라지게 되면 그 시대가 요구하는 새로운 의식에로의 전환이 있어야하듯이 한국사회가 지금 겪고 있는 급격한 변천의 과정에서는 또한 그에 적절한 새로운 의식의 흐름이 있어야 한다는 점을 지나쳐 버릴 수는 없을 것같다 . \n",
      "====================================================================\n",
      "</p> <p>흔히 新聞이 갖는 정신적 태도를 제1차원적인 의미에 있어서 소극적 태도의 차원, 그 제2차원적인 의미에 있어서 비판적 태도의 차원, 그 제3차원적인 의미에 있어서 상황적 요인의 차원의 3단계로 나누어 생각한다 . \n",
      "====================================================================\n",
      "그러면 오늘날 한국신문이 갖는 정신적 태도는 어느 차원에 머무르고 있는 것일까 ? \n",
      "====================================================================\n",
      "</p> <p>흔히 우리들은 신문의 사명을 일컬어 「역사의 파수꾼」 혹은 「역사의 심판자」라고 부르고 있다 . \n",
      "====================================================================\n",
      "우리가 신문의 사명을 이러한 각도에서 평가하는 이유는 우리가 곧 신문의 사명을 제2차원적인 면에서 측정하고 있는 때문일 것이다 . \n",
      "====================================================================\n",
      "그리하여 한국신문의 병폐를 일컬어 흔히들 「습관적 반응」을 보이며 「습관적 의견」만을 제시하는 신문이라고 한다 . \n",
      "====================================================================\n",
      "물론 이러한 의견이 반드시 옳은 것이라고 말할 수는 없을는지 모르나 적어도 한국신문이 지닌 습관 가운데 하나라는 것은 부인하지 못할 것같다 . \n",
      "====================================================================\n",
      "그러니 한국신문이 언제까지나 이와 같은 차원에서 머무르고 있다고 한다면 그것은 새로운 시대가 요구하는 새로운 의식에로의 전환은 거의 불가능한 것이라고 하겠다 . \n",
      "====================================================================\n",
      "</p> <p>지금 우리 사회가 처해있는 상황은 그 어느 때보다도 상황을 과학적으로 분석하고 그 분석을 토대로 그러한 상황의 요인에 대처할 수 있는 올바른 자세를 요구하고 있는 때라고 하겠다 . \n",
      "====================================================================\n",
      "안으로는 하루바삐 근대적 사회구조로 바꾸어야 한다는 시대적 요구가 그러하며 밖으로는 나날이 가중되어오는 국제적 긴박감이 또한 그러하다 . \n",
      "====================================================================\n",
      "이러한 상황 아래서 이제 한국의 신문이 걸어가야 할 정도란 「우리가 지금 어디에 서있는가」라는 상황요인의 분석태도라고 하겠다 . \n",
      "====================================================================\n",
      "</p> <p>사실 남이 하는 일을 꼬집고 비판하고 그리고 욕하는 일은 쉬운 것이다 . \n",
      "====================================================================\n",
      "그러나 실제로 우리들이 어떻게 해야 하며 그 결과에 대해 우리들 스스로가 어떻게 책임을 져야 하느냐 하는 문제는 그리 쉬운 일이 아닐 것이다 . \n",
      "====================================================================\n",
      "바꾸어 표현하면 흔히 말하는 「역사의 파수꾼」 혹은 「역사의 심판자」로서의 신문의 역할은 쉬울는지 몰라도 「역사의 예견자」 혹은 「역사의 통찰자」로서의 역할은 그렇게 간단한 일이 아니라는 점이다 . \n",
      "====================================================================\n",
      "사실 지금까지 한국의 언론이 前者의 특성은 강조하면서 後者의 특성은 소홀히 하여왔다는 점을 지적해 두어야 할 것같다 . \n",
      "====================================================================\n",
      "</p> <p>이와 같은 점을 여기서 강조하고자 하는 뜻은 이와 같은 종래의 정신적 자세는 한국언론의 병폐이자 동시에 한국지식인의 일반적인 병폐로 간혹 지적되어 왔다는 점을 감안하여 이제 지성인의 사회라고 말할 수 있는 대학신문이 앞으로 어떤 길로 나아가야 할 것인가에 대한 것을 밝혀두자는 데 있다 . \n",
      "====================================================================\n",
      "</p> <p>지령 500호를 맞은 본보 역시 오늘의 시점에서 자성하여본다면 한국의 언론이 지니고 있는 일반적 개념의 카테고리 내에서 벗어나지 못한 것이 사실이며 이제 500호를 계기로 그와 같은 차원으로부터 한 단계 높은 차원 즉 「상황요인의 차원」에로 높여야겠다는 점을 절실히 느끼기 때문이다 . \n",
      "====================================================================\n",
      "지금까지 본보가 대학신문의 지도적 위치에서 대학신문의 갈 길을 예시하여온 것처럼 지령 500호를 계기로 새로운 길을 모색하는 길잡이가 되어주리라 믿는다 . \n",
      "====================================================================\n",
      "</p> \n",
      "====================================================================\n"
     ]
    }
   ],
   "source": [
    "for s in paragraph:\n",
    "    print(s)\n",
    "    print('====================================================================')"
   ]
  },
  {
   "cell_type": "code",
   "execution_count": 21,
   "metadata": {},
   "outputs": [
    {
     "name": "stderr",
     "output_type": "stream",
     "text": [
      "\u001b[1mpy4j.java_gateway\u001b[0m Callback Server Shutting Down\n"
     ]
    }
   ],
   "source": [
    "finalize()"
   ]
  },
  {
   "cell_type": "code",
   "execution_count": null,
   "metadata": {},
   "outputs": [],
   "source": []
  }
 ],
 "metadata": {
  "kernelspec": {
   "display_name": "Python 3",
   "language": "python",
   "name": "python3"
  },
  "language_info": {
   "codemirror_mode": {
    "name": "ipython",
    "version": 3
   },
   "file_extension": ".py",
   "mimetype": "text/x-python",
   "name": "python",
   "nbconvert_exporter": "python",
   "pygments_lexer": "ipython3",
   "version": "3.7.3"
  }
 },
 "nbformat": 4,
 "nbformat_minor": 2
}
