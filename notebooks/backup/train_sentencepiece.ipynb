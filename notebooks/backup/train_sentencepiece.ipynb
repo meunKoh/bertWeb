{
 "cells": [
  {
   "cell_type": "code",
   "execution_count": 1,
   "metadata": {},
   "outputs": [],
   "source": [
    "import sentencepiece as spm"
   ]
  },
  {
   "cell_type": "code",
   "execution_count": 11,
   "metadata": {},
   "outputs": [],
   "source": [
    "input_file = 'data/petitions/petition.lm.2018.train'\n",
    "templates = '--input={} --model_prefix={} --vocab_size={} --character_coverage={} --model_type={} --user_defined_symbols={}'\n",
    "vocab_size = 30000\n",
    "prefix = 'data/petitions/sp-30000'\n",
    "character_coverage = 0.9995\n",
    "model_type = 'bpe'\n",
    "user_defined_symbols='<seq>,<num>'\n",
    "cmd = templates.format(input_file, prefix, vocab_size, character_coverage, model_type)"
   ]
  },
  {
   "cell_type": "code",
   "execution_count": 12,
   "metadata": {},
   "outputs": [
    {
     "data": {
      "text/plain": [
       "True"
      ]
     },
     "execution_count": 12,
     "metadata": {},
     "output_type": "execute_result"
    }
   ],
   "source": [
    "spm.SentencePieceTrainer.Train(cmd)"
   ]
  },
  {
   "cell_type": "code",
   "execution_count": 13,
   "metadata": {},
   "outputs": [
    {
     "data": {
      "text/plain": [
       "True"
      ]
     },
     "execution_count": 13,
     "metadata": {},
     "output_type": "execute_result"
    }
   ],
   "source": [
    "sp = spm.SentencePieceProcessor()\n",
    "prefix = 'data/petitions/sp-30000'\n",
    "sp.Load('{}.model'.format(prefix))"
   ]
  },
  {
   "cell_type": "code",
   "execution_count": 14,
   "metadata": {},
   "outputs": [
    {
     "data": {
      "text/plain": [
       "['▁은행',\n",
       " '간',\n",
       " '▁인수',\n",
       " '합',\n",
       " '병',\n",
       " '▁반대',\n",
       " '와',\n",
       " '▁장시간',\n",
       " '노동',\n",
       " '▁해',\n",
       " '소를',\n",
       " '▁요구',\n",
       " '중인',\n",
       " '▁금융',\n",
       " '노조',\n",
       " '가',\n",
       " '▁조합원',\n",
       " '▁쟁',\n",
       " '의',\n",
       " '행위',\n",
       " '▁찬반',\n",
       " '투표',\n",
       " '를',\n",
       " '▁벌',\n",
       " '여',\n",
       " '▁압도',\n",
       " '적',\n",
       " '▁찬성',\n",
       " '률',\n",
       " '로',\n",
       " '▁파',\n",
       " '업을',\n",
       " '▁가',\n",
       " '결',\n",
       " '했다',\n",
       " '.']"
      ]
     },
     "execution_count": 14,
     "metadata": {},
     "output_type": "execute_result"
    }
   ],
   "source": [
    "sp.EncodeAsPieces('은행간 인수합병 반대와 장시간노동 해소를 요구중인 금융노조가 조합원 쟁의행위 찬반투표를 벌여 압도적 찬성률로 파업을 가결했다.')"
   ]
  },
  {
   "cell_type": "code",
   "execution_count": null,
   "metadata": {},
   "outputs": [],
   "source": []
  }
 ],
 "metadata": {
  "kernelspec": {
   "display_name": "Python 3",
   "language": "python",
   "name": "python3"
  },
  "language_info": {
   "codemirror_mode": {
    "name": "ipython",
    "version": 3
   },
   "file_extension": ".py",
   "mimetype": "text/x-python",
   "name": "python",
   "nbconvert_exporter": "python",
   "pygments_lexer": "ipython3",
   "version": "3.7.4"
  }
 },
 "nbformat": 4,
 "nbformat_minor": 2
}
