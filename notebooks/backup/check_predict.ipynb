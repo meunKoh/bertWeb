{
 "cells": [
  {
   "cell_type": "code",
   "execution_count": 1,
   "metadata": {},
   "outputs": [],
   "source": [
    "import pandas as pd\n",
    "test_file_path = \"data/petitions/petition.mcc.without-etc.2018.clean1.dev\"\n",
    "predict_result_file_path = \"data/petitions/submit_results.tsv\""
   ]
  },
  {
   "cell_type": "code",
   "execution_count": 8,
   "metadata": {},
   "outputs": [],
   "source": [
    "df_test = pd.read_csv(test_file_path, names=['idx', 'contents','actual'],sep='\\t', header=0)\n",
    "df_predict = pd.read_csv(predict_result_file_path, names=['idx', 'predict'],sep='\\t')"
   ]
  },
  {
   "cell_type": "code",
   "execution_count": 9,
   "metadata": {},
   "outputs": [
    {
     "name": "stdout",
     "output_type": "stream",
     "text": [
      "10000\n",
      "10000\n"
     ]
    }
   ],
   "source": [
    "print(len(df_test))\n",
    "print(len(df_predict))"
   ]
  },
  {
   "cell_type": "code",
   "execution_count": 10,
   "metadata": {},
   "outputs": [
    {
     "name": "stdout",
     "output_type": "stream",
     "text": [
      "      idx                                           contents  actual\n",
      "0   89752  일간베스트오늘의 유머메갈리아 등의 모든 유해사이트 폐쇄 혹은 차단 부탁드립니다......       3\n",
      "1  108063  현재 북한 핵폐기를 둘러싸고 남 북 미 증 과 주변 강대국들이 자국의 이익을 놓고 ...      14\n",
      "2   18350  뛰어난 비즈니스맨이자 정치인인 트럼프대통령의 미국 우선주의에 대해 상당한 공감이간다...       9\n",
      "3  161078  강진 여고생 사건오원춘 인육 사건 등 경찰이 필요할 때에 경찰이 없어서 피해를 받는...       8\n",
      "4   46263  부영 철근 빼먹고 부실시공 언론기사에 보면 철근 빼먹고 부실시공한 부영이 USRNU...       1\n",
      "      idx  predict\n",
      "0   89752        3\n",
      "1  108063        9\n",
      "2   18350        9\n",
      "3  161078        8\n",
      "4   46263        1\n"
     ]
    }
   ],
   "source": [
    "print(df_test.head())\n",
    "print(df_predict.head())"
   ]
  },
  {
   "cell_type": "code",
   "execution_count": 11,
   "metadata": {},
   "outputs": [],
   "source": [
    "df_all = pd.merge(df_test, df_predict)"
   ]
  },
  {
   "cell_type": "code",
   "execution_count": 12,
   "metadata": {},
   "outputs": [
    {
     "data": {
      "text/html": [
       "<div>\n",
       "<style scoped>\n",
       "    .dataframe tbody tr th:only-of-type {\n",
       "        vertical-align: middle;\n",
       "    }\n",
       "\n",
       "    .dataframe tbody tr th {\n",
       "        vertical-align: top;\n",
       "    }\n",
       "\n",
       "    .dataframe thead th {\n",
       "        text-align: right;\n",
       "    }\n",
       "</style>\n",
       "<table border=\"1\" class=\"dataframe\">\n",
       "  <thead>\n",
       "    <tr style=\"text-align: right;\">\n",
       "      <th></th>\n",
       "      <th>idx</th>\n",
       "      <th>contents</th>\n",
       "      <th>actual</th>\n",
       "      <th>predict</th>\n",
       "    </tr>\n",
       "  </thead>\n",
       "  <tbody>\n",
       "    <tr>\n",
       "      <td>0</td>\n",
       "      <td>89752</td>\n",
       "      <td>일간베스트오늘의 유머메갈리아 등의 모든 유해사이트 폐쇄 혹은 차단 부탁드립니다......</td>\n",
       "      <td>3</td>\n",
       "      <td>3</td>\n",
       "    </tr>\n",
       "    <tr>\n",
       "      <td>1</td>\n",
       "      <td>108063</td>\n",
       "      <td>현재 북한 핵폐기를 둘러싸고 남 북 미 증 과 주변 강대국들이 자국의 이익을 놓고 ...</td>\n",
       "      <td>14</td>\n",
       "      <td>9</td>\n",
       "    </tr>\n",
       "    <tr>\n",
       "      <td>2</td>\n",
       "      <td>18350</td>\n",
       "      <td>뛰어난 비즈니스맨이자 정치인인 트럼프대통령의 미국 우선주의에 대해 상당한 공감이간다...</td>\n",
       "      <td>9</td>\n",
       "      <td>9</td>\n",
       "    </tr>\n",
       "    <tr>\n",
       "      <td>3</td>\n",
       "      <td>161078</td>\n",
       "      <td>강진 여고생 사건오원춘 인육 사건 등 경찰이 필요할 때에 경찰이 없어서 피해를 받는...</td>\n",
       "      <td>8</td>\n",
       "      <td>8</td>\n",
       "    </tr>\n",
       "    <tr>\n",
       "      <td>4</td>\n",
       "      <td>46263</td>\n",
       "      <td>부영 철근 빼먹고 부실시공 언론기사에 보면 철근 빼먹고 부실시공한 부영이 USRNU...</td>\n",
       "      <td>1</td>\n",
       "      <td>1</td>\n",
       "    </tr>\n",
       "  </tbody>\n",
       "</table>\n",
       "</div>"
      ],
      "text/plain": [
       "      idx                                           contents  actual  predict\n",
       "0   89752  일간베스트오늘의 유머메갈리아 등의 모든 유해사이트 폐쇄 혹은 차단 부탁드립니다......       3        3\n",
       "1  108063  현재 북한 핵폐기를 둘러싸고 남 북 미 증 과 주변 강대국들이 자국의 이익을 놓고 ...      14        9\n",
       "2   18350  뛰어난 비즈니스맨이자 정치인인 트럼프대통령의 미국 우선주의에 대해 상당한 공감이간다...       9        9\n",
       "3  161078  강진 여고생 사건오원춘 인육 사건 등 경찰이 필요할 때에 경찰이 없어서 피해를 받는...       8        8\n",
       "4   46263  부영 철근 빼먹고 부실시공 언론기사에 보면 철근 빼먹고 부실시공한 부영이 USRNU...       1        1"
      ]
     },
     "execution_count": 12,
     "metadata": {},
     "output_type": "execute_result"
    }
   ],
   "source": [
    "df_all.head()"
   ]
  },
  {
   "cell_type": "code",
   "execution_count": 13,
   "metadata": {},
   "outputs": [],
   "source": [
    "from sklearn.metrics import classification_report"
   ]
  },
  {
   "cell_type": "code",
   "execution_count": 15,
   "metadata": {},
   "outputs": [
    {
     "name": "stdout",
     "output_type": "stream",
     "text": [
      "              precision    recall  f1-score   support\n",
      "\n",
      "       경제민주화       0.48      0.48      0.48       569\n",
      "    교통/건축/국토       0.59      0.79      0.67       907\n",
      "        농산어촌       0.54      0.28      0.37        47\n",
      " 문화/예술/체육/언론       0.59      0.70      0.64       534\n",
      "          미래       0.28      0.06      0.10       540\n",
      "        반려동물       0.79      0.83      0.81       113\n",
      "        보건복지       0.56      0.66      0.61       699\n",
      "        성장동력       0.26      0.03      0.05       232\n",
      "       안전/환경       0.54      0.55      0.55       864\n",
      "    외교/통일/국방       0.60      0.72      0.65       843\n",
      "       육아/교육       0.64      0.74      0.69       643\n",
      "      인권/성평등       0.59      0.53      0.56       952\n",
      "         일자리       0.54      0.67      0.59       708\n",
      "   저출산/고령화대책       0.51      0.38      0.44       100\n",
      "        정치개혁       0.58      0.65      0.61      1658\n",
      "          행정       0.36      0.11      0.17       591\n",
      "\n",
      "    accuracy                           0.57     10000\n",
      "   macro avg       0.53      0.51      0.50     10000\n",
      "weighted avg       0.54      0.57      0.54     10000\n",
      "\n"
     ]
    }
   ],
   "source": [
    "print(classification_report(df_all['actual'], df_all['predict'], target_names=['경제민주화', \n",
    "'교통/건축/국토', \n",
    "'농산어촌',\n",
    "'문화/예술/체육/언론',\n",
    "'미래',\n",
    "'반려동물',\n",
    "'보건복지',\n",
    "'성장동력',\n",
    "'안전/환경',\n",
    "'외교/통일/국방',\n",
    "'육아/교육',\n",
    "'인권/성평등',\n",
    "'일자리',\n",
    "'저출산/고령화대책',\n",
    "'정치개혁',\n",
    "'행정']))"
   ]
  },
  {
   "cell_type": "code",
   "execution_count": null,
   "metadata": {},
   "outputs": [],
   "source": []
  }
 ],
 "metadata": {
  "kernelspec": {
   "display_name": "Python 3",
   "language": "python",
   "name": "python3"
  },
  "language_info": {
   "codemirror_mode": {
    "name": "ipython",
    "version": 3
   },
   "file_extension": ".py",
   "mimetype": "text/x-python",
   "name": "python",
   "nbconvert_exporter": "python",
   "pygments_lexer": "ipython3",
   "version": "3.7.4"
  }
 },
 "nbformat": 4,
 "nbformat_minor": 2
}
