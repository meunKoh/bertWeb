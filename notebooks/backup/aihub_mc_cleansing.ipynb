{
 "cells": [
  {
   "cell_type": "code",
   "execution_count": 1,
   "metadata": {},
   "outputs": [],
   "source": [
    "import json\n",
    "#from bs4 import BeautifulSoup"
   ]
  },
  {
   "cell_type": "code",
   "execution_count": 2,
   "metadata": {},
   "outputs": [
    {
     "data": {
      "text/plain": [
       "'C:\\\\Users\\\\alpha'"
      ]
     },
     "execution_count": 2,
     "metadata": {},
     "output_type": "execute_result"
    }
   ],
   "source": [
    "pwd()"
   ]
  },
  {
   "cell_type": "code",
   "execution_count": 3,
   "metadata": {},
   "outputs": [],
   "source": [
    "file_name = 'aihub/ko_nia_normal_squad_all.json'\n",
    "with open(file_name, \"r\", encoding='utf-8', errors='ignore') as file:\n",
    "    data = json.load(file)"
   ]
  },
  {
   "cell_type": "code",
   "execution_count": 18,
   "metadata": {},
   "outputs": [
    {
     "name": "stdout",
     "output_type": "stream",
     "text": [
      "<class 'dict'> 3\n"
     ]
    }
   ],
   "source": [
    "print(type(data), len(data))"
   ]
  },
  {
   "cell_type": "code",
   "execution_count": 5,
   "metadata": {},
   "outputs": [
    {
     "data": {
      "text/plain": [
       "dict_keys(['creator', 'version', 'data'])"
      ]
     },
     "execution_count": 5,
     "metadata": {},
     "output_type": "execute_result"
    }
   ],
   "source": [
    "data.keys()"
   ]
  },
  {
   "cell_type": "code",
   "execution_count": 7,
   "metadata": {},
   "outputs": [
    {
     "name": "stdout",
     "output_type": "stream",
     "text": [
      "MINDs Lab. 1\n"
     ]
    }
   ],
   "source": [
    "print(data['creator'], data['version'])"
   ]
  },
  {
   "cell_type": "code",
   "execution_count": 19,
   "metadata": {},
   "outputs": [
    {
     "name": "stdout",
     "output_type": "stream",
     "text": [
      "<class 'list'> 49089\n"
     ]
    }
   ],
   "source": [
    "print(type(data['data']), len(data['data']))"
   ]
  },
  {
   "cell_type": "code",
   "execution_count": 10,
   "metadata": {},
   "outputs": [
    {
     "data": {
      "text/plain": [
       "dict_keys(['title', 'paragraphs', 'source'])"
      ]
     },
     "execution_count": 10,
     "metadata": {},
     "output_type": "execute_result"
    }
   ],
   "source": [
    "data['data'][0].keys()"
   ]
  },
  {
   "cell_type": "code",
   "execution_count": 21,
   "metadata": {},
   "outputs": [
    {
     "data": {
      "text/plain": [
       "[{'context': \"한국청소년단체협의회와 여성가족부는 22일부터 28일까지 서울과 충북 괴산에서 '국제청소년포럼'을 연다고 21일 밝혔다. 한국 미국 캐나다 호주 등 전 세계 32개국 75여명의 대학생, 청소년들이 모여 전 세계적 현안문제에 대한 대안과 해결책을 모색하는 자리다. 이번 포럼의 주제는 '청소년과 뉴미디어'다. 스마트폰 SNS 태블릿PC 등 새로운 커뮤니케이션 매체인 '뉴미디어'에 대한 성찰과 문제점에 대해 토론한다. 기조강연을 시작으로 국가별 주제관련 사례발표, 그룹 토론 및 전체총회, '청소년선언문' 작성 및 채택 등 다양한 프로그램을 운영한다. 개회식은 22일 서울 방화동에 있는 국제청소년센터 국제회의장에서 한다. 전 세계 32개국 대학생ㆍ청소년 참가자와 전국의 청소년기관단체장과 청소년지도자 여성가족부 주한외교사절 등 100여명이 참석할 예정이다. 23일에는 유엔미래포럼 박영숙 대표가 '뉴미디어의 균형 있는 발전을 위한 청소년의 역할'에 대해 기조강연을 한다. 뉴미디어의 올바른 활용방안과 청소년문화의 형성에 대해 설명할 계획이다. 27일 폐회식에서는 '청소년선언문'을 채택한다. 선언문에는 전 세계적으로 뉴미디어의 바람직한 발전을 촉구하며 각국 청년들이 함께 실천할 수 있는 내용 등이 담길 예정이다. 한국청소년단체협의회는 포럼이 끝난 뒤 UN 등 국제기구와 참가자 각국 정부 등 국제사회에 선언문을 전달할 예정이다.\",\n",
       "  'qas': [{'question': \"서울과 충북 괴산에서 '국제청소년포럼'을 여는 곳은?\",\n",
       "    'answers': [{'answer_start': 0, 'text': '한국청소년단체협의회와 여성가족부'}],\n",
       "    'id': 'c1_57059-1',\n",
       "    'classtype': 'work_who'},\n",
       "   {'question': \"'국제 청소년포럼'이 열리는 때는?\",\n",
       "    'answers': [{'answer_start': 19, 'text': '22일부터 28일'}],\n",
       "    'id': 'c1_57060-1',\n",
       "    'classtype': 'work_when'},\n",
       "   {'question': '이번 포럼의 주제는?',\n",
       "    'answers': [{'answer_start': 157, 'text': \"'청소년과 뉴미디어'\"}],\n",
       "    'id': 'c1_57061-1',\n",
       "    'classtype': 'work_what'},\n",
       "   {'question': '포럼은 어떻게 진행되는가?',\n",
       "    'answers': [{'answer_start': 232,\n",
       "      'text': \"기조강연을 시작으로 국가별 주제관련 사례발표, 그룹 토론 및 전체총회, '청소년선언문' 작성 및 채택 등 다양한 프로그램을 운영한다.\"}],\n",
       "    'id': 'c1_57062-1',\n",
       "    'classtype': 'work_how'}]}]"
      ]
     },
     "execution_count": 21,
     "metadata": {},
     "output_type": "execute_result"
    }
   ],
   "source": []
  },
  {
   "cell_type": "code",
   "execution_count": 15,
   "metadata": {},
   "outputs": [
    {
     "name": "stdout",
     "output_type": "stream",
     "text": [
      "한국청소년단체협의회와 여성가족부는 22일부터 28일까지 서울과 충북 괴산에서 '국제청소년포럼'을 연다고 21일 밝혔다. 한국 미국 캐나다 호주 등 전 세계 32개국 75여명의 대학생, 청소년들이 모여 전 세계적 현안문제에 대한 대안과 해결책을 모색하는 자리다. 이번 포럼의 주제는 '청소년과 뉴미디어'다. 스마트폰 SNS 태블릿PC 등 새로운 커뮤니케이션 매체인 '뉴미디어'에 대한 성찰과 문제점에 대해 토론한다. 기조강연을 시작으로 국가별 주제관련 사례발표, 그룹 토론 및 전체총회, '청소년선언문' 작성 및 채택 등 다양한 프로그램을 운영한다. 개회식은 22일 서울 방화동에 있는 국제청소년센터 국제회의장에서 한다. 전 세계 32개국 대학생ㆍ청소년 참가자와 전국의 청소년기관단체장과 청소년지도자 여성가족부 주한외교사절 등 100여명이 참석할 예정이다. 23일에는 유엔미래포럼 박영숙 대표가 '뉴미디어의 균형 있는 발전을 위한 청소년의 역할'에 대해 기조강연을 한다. 뉴미디어의 올바른 활용방안과 청소년문화의 형성에 대해 설명할 계획이다. 27일 폐회식에서는 '청소년선언문'을 채택한다. 선언문에는 전 세계적으로 뉴미디어의 바람직한 발전을 촉구하며 각국 청년들이 함께 실천할 수 있는 내용 등이 담길 예정이다. 한국청소년단체협의회는 포럼이 끝난 뒤 UN 등 국제기구와 참가자 각국 정부 등 국제사회에 선언문을 전달할 예정이다.\n"
     ]
    }
   ],
   "source": [
    "for i in range(1):\n",
    "    print(data['data'][i]['paragraphs'][0]['context'])"
   ]
  },
  {
   "cell_type": "code",
   "execution_count": 4,
   "metadata": {},
   "outputs": [],
   "source": [
    "from koalanlp import API\n",
    "from koalanlp.proc import SentenceSplitter\n",
    "from koalanlp.Util import initialize, finalize"
   ]
  },
  {
   "cell_type": "code",
   "execution_count": 5,
   "metadata": {},
   "outputs": [
    {
     "name": "stderr",
     "output_type": "stream",
     "text": [
      "\u001b[1mpy4j.java_gateway\u001b[0m Callback Server Starting\n",
      "\u001b[1mpy4j.java_gateway\u001b[0m Socket listening on ('127.0.0.1', 25334)\n",
      "\u001b[1mjip\u001b[0m JVM initialization procedure is completed.\n"
     ]
    }
   ],
   "source": [
    "#initialize(java_options=\"-Xmx4g\", KKMA=\"2.0.4\", ETRI=\"2.0.4\")\n",
    "initialize(java_options=\"-Xmx4g\", HNN=\"2.0.0\")"
   ]
  },
  {
   "cell_type": "code",
   "execution_count": 6,
   "metadata": {},
   "outputs": [],
   "source": [
    "splitter = SentenceSplitter(API.HNN)"
   ]
  },
  {
   "cell_type": "code",
   "execution_count": 35,
   "metadata": {},
   "outputs": [
    {
     "name": "stdout",
     "output_type": "stream",
     "text": [
      "0 한국청소년단체협의회와 여성가족부는 22일부터 28일까지 서울과 충북 괴산에서 '국제청소년포럼'을 연다고 21일 밝혔다 . \n",
      "1 한국 미국 캐나다 호주 등 전 세계 32개국 75여명의 대학생, 청소년들이 모여 전 세계적 현안문제에 대한 대안과 해결책을 모색하는 자리다 . \n",
      "2 이번 포럼의 주제는 '청소년과 뉴미디어'다 . \n",
      "3 스마트폰 SNS 태블릿PC 등 새로운 커뮤니케이션 매체인 '뉴미디어'에 대한 성찰과 문제점에 대해 토론한다 . \n",
      "4 기조강연을 시작으로 국가별 주제관련 사례발표, 그룹 토론 및 전체총회, '청소년선언문' 작성 및 채택 등 다양한 프로그램을 운영한다 . \n",
      "5 개회식은 22일 서울 방화동에 있는 국제청소년센터 국제회의장에서 한다 . \n",
      "6 전 세계 32개국 대학생ㆍ청소년 참가자와 전국의 청소년기관단체장과 청소년지도자 여성가족부 주한외교사절 등 100여명이 참석할 예정이다 . \n",
      "7 23일에는 유엔미래포럼 박영숙 대표가 '뉴미디어의 균형 있는 발전을 위한 청소년의 역할'에 대해 기조강연을 한다 . \n",
      "8 뉴미디어의 올바른 활용방안과 청소년문화의 형성에 대해 설명할 계획이다 . \n",
      "9 27일 폐회식에서는 '청소년선언문'을 채택한다 . \n",
      "10 선언문에는 전 세계적으로 뉴미디어의 바람직한 발전을 촉구하며 각국 청년들이 함께 실천할 수 있는 내용 등이 담길 예정이다 . \n",
      "11 한국청소년단체협의회는 포럼이 끝난 뒤 UN 등 국제기구와 참가자 각국 정부 등 국제사회에 선언문을 전달할 예정이다 . \n"
     ]
    }
   ],
   "source": [
    "for i in range(1):\n",
    "    paragraph = data['data'][i]['paragraphs'][0]['context']\n",
    "    sentences = splitter(paragraph)\n",
    "    for j, sentence in enumerate(sentences):\n",
    "        print(j, sentence)"
   ]
  },
  {
   "cell_type": "code",
   "execution_count": 10,
   "metadata": {
    "scrolled": true
   },
   "outputs": [
    {
     "name": "stdout",
     "output_type": "stream",
     "text": [
      "1000 items has been converted\n",
      "2000 items has been converted\n",
      "3000 items has been converted\n",
      "4000 items has been converted\n",
      "5000 items has been converted\n",
      "6000 items has been converted\n",
      "7000 items has been converted\n",
      "8000 items has been converted\n",
      "9000 items has been converted\n",
      "10000 items has been converted\n",
      "11000 items has been converted\n",
      "12000 items has been converted\n",
      "13000 items has been converted\n",
      "14000 items has been converted\n",
      "15000 items has been converted\n",
      "16000 items has been converted\n",
      "17000 items has been converted\n",
      "18000 items has been converted\n",
      "19000 items has been converted\n",
      "20000 items has been converted\n",
      "21000 items has been converted\n",
      "22000 items has been converted\n",
      "23000 items has been converted\n",
      "24000 items has been converted\n",
      "25000 items has been converted\n",
      "26000 items has been converted\n",
      "27000 items has been converted\n",
      "28000 items has been converted\n",
      "29000 items has been converted\n",
      "30000 items has been converted\n",
      "31000 items has been converted\n",
      "32000 items has been converted\n",
      "33000 items has been converted\n",
      "34000 items has been converted\n",
      "35000 items has been converted\n",
      "36000 items has been converted\n",
      "37000 items has been converted\n",
      "38000 items has been converted\n",
      "39000 items has been converted\n",
      "40000 items has been converted\n",
      "41000 items has been converted\n",
      "42000 items has been converted\n",
      "43000 items has been converted\n",
      "44000 items has been converted\n",
      "45000 items has been converted\n",
      "46000 items has been converted\n",
      "47000 items has been converted\n",
      "48000 items has been converted\n",
      "49000 items has been converted\n",
      "Total 49089 items has been converted\n"
     ]
    }
   ],
   "source": [
    "file_path = \"aihub/aihub_mc.train\"\n",
    "\n",
    "with open(file_path, 'a', encoding='UTF8') as file:\n",
    "    for i in range(len(data['data'])):\n",
    "        paragraph = data['data'][i]['paragraphs'][0]['context']\n",
    "        sentences = splitter(paragraph)\n",
    "        for sentence in sentences:\n",
    "            sentence = sentence.strip()\n",
    "            if sentence.startswith(\"\\\"\"):\n",
    "                sentence = sentence[1:]\n",
    "            if sentence.endswith(\"\\\"\"):\n",
    "                sentence = sentence[0:-1]\n",
    "            if sentence.endswith(\".\") or sentence.endswith(\"!\") or sentence.endswith(\"?\"):\n",
    "                sentence = sentence[:-2] + sentence[len(sentence) - 1]\n",
    "                \n",
    "            sentence = sentence.replace('‘', '\\'')\n",
    "            sentence = sentence.replace('’', '\\'')\n",
    "            sentence = sentence.replace('“', '\\'')\n",
    "            sentence = sentence.replace('”', '\\'')\n",
    "            \n",
    "            file.write(sentence + \"\\n\")\n",
    "        \n",
    "        if i != 0 and i % 1000 == 0:\n",
    "            print(i, \"items has been converted\")\n",
    "            \n",
    "        #if i == 5000:\n",
    "        #    break\n",
    "            \n",
    "    print(\"Total {0} items has been converted\".format(len(data['data'])))"
   ]
  },
  {
   "cell_type": "code",
   "execution_count": 37,
   "metadata": {},
   "outputs": [
    {
     "name": "stderr",
     "output_type": "stream",
     "text": [
      "\u001b[1mpy4j.java_gateway\u001b[0m Callback Server Shutting Down\n"
     ]
    }
   ],
   "source": [
    "finalize()"
   ]
  },
  {
   "cell_type": "code",
   "execution_count": null,
   "metadata": {},
   "outputs": [],
   "source": []
  },
  {
   "cell_type": "code",
   "execution_count": 7,
   "metadata": {},
   "outputs": [],
   "source": [
    "s= \"지난 주말 방영분에서 월정사 혜안 스님이 얘기한 대로 ‘오직 할 뿐’이다.\""
   ]
  },
  {
   "cell_type": "code",
   "execution_count": 9,
   "metadata": {},
   "outputs": [
    {
     "name": "stdout",
     "output_type": "stream",
     "text": [
      "지난 주말 방영분에서 월정사 혜안 스님이 얘기한 대로 '오직 할 뿐'이다.\n"
     ]
    }
   ],
   "source": [
    "s = s.replace('‘', '\\'')\n",
    "s = s.replace('’', '\\'')\n",
    "s = s.replace('“', '\\'')\n",
    "s = s.replace('”', '\\'')\n",
    "print(s)"
   ]
  },
  {
   "cell_type": "code",
   "execution_count": null,
   "metadata": {},
   "outputs": [],
   "source": []
  }
 ],
 "metadata": {
  "kernelspec": {
   "display_name": "Python 3",
   "language": "python",
   "name": "python3"
  },
  "language_info": {
   "codemirror_mode": {
    "name": "ipython",
    "version": 3
   },
   "file_extension": ".py",
   "mimetype": "text/x-python",
   "name": "python",
   "nbconvert_exporter": "python",
   "pygments_lexer": "ipython3",
   "version": "3.7.4"
  }
 },
 "nbformat": 4,
 "nbformat_minor": 2
}
