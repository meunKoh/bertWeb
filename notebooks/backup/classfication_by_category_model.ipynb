{
 "cells": [
  {
   "cell_type": "code",
   "execution_count": 1,
   "metadata": {},
   "outputs": [
    {
     "name": "stderr",
     "output_type": "stream",
     "text": [
      "[nltk_data] Downloading package punkt to\n",
      "[nltk_data]     C:\\Users\\alpha\\AppData\\Roaming\\nltk_data...\n",
      "[nltk_data]   Package punkt is already up-to-date!\n"
     ]
    }
   ],
   "source": [
    "import json\n",
    "import os\n",
    "import nltk\n",
    "nltk.download('punkt')\n",
    "from nltk.tokenize import sent_tokenize"
   ]
  },
  {
   "cell_type": "code",
   "execution_count": 2,
   "metadata": {},
   "outputs": [],
   "source": [
    "import re\n",
    "#import sentencepiece as spm\n",
    "import os\n",
    "import json\n",
    "\n",
    "def clean_str(text):\n",
    "    pattern = '([a-zA-Z0-9_.+-]+@[a-zA-Z0-9-]+\\.[a-zA-Z0-9-.]+)' # E-mail제거\n",
    "    text = re.sub(pattern=pattern, repl='', string=text)\n",
    "    pattern = '(http|ftp|https)://(?:[-\\w.]|(?:%[\\da-fA-F]{2}))+' # URL제거\n",
    "    text = re.sub(pattern=pattern, repl='', string=text)\n",
    "    pattern = '([ㄱ-ㅎㅏ-ㅣ]+)'  # 한글 자음, 모음 제거\n",
    "    text = re.sub(pattern=pattern, repl='', string=text)\n",
    "    pattern = '<[^>]*>'         # HTML 태그 제거\n",
    "    text = re.sub(pattern=pattern, repl='', string=text)\n",
    "    pattern = '[^\\w\\s.?!]'         # 특수기호제거\n",
    "    text = re.sub(pattern=pattern, repl='', string=text)\n",
    "    pattern = '\\s+'         # tab to whitespace\n",
    "    text = re.sub(pattern=pattern, repl=' ', string=text)\n",
    "    pattern = '\\d\\.\\d+'         \n",
    "    text = re.sub(pattern=pattern, repl='USRNUM', string=text)\n",
    "    pattern = '\\d+\\.'         \n",
    "    text = re.sub(pattern=pattern, repl='USRSEQ', string=text)\n",
    "    pattern = '\\d+'         \n",
    "    text = re.sub(pattern=pattern, repl='USRNUM', string=text)\n",
    "    return text  "
   ]
  },
  {
   "cell_type": "markdown",
   "metadata": {},
   "source": [
    "# 4 Multi-classification model data 생성"
   ]
  },
  {
   "cell_type": "code",
   "execution_count": 3,
   "metadata": {},
   "outputs": [],
   "source": [
    "file_names = []\n",
    "for root, dirs, files in os.walk('data/petitions/2017-and-2019'):\n",
    "    for fname in files:\n",
    "        full_fname = os.path.join(root, fname)\n",
    "\n",
    "        file_names.append(full_fname)"
   ]
  },
  {
   "cell_type": "code",
   "execution_count": 4,
   "metadata": {},
   "outputs": [
    {
     "name": "stdout",
     "output_type": "stream",
     "text": [
      "1 file has been converted\n",
      "2 file has been converted\n",
      "3 file has been converted\n",
      "4 file has been converted\n",
      "5 file has been converted\n",
      "6 file has been converted\n",
      "7 file has been converted\n",
      "8 file has been converted\n",
      "9 file has been converted\n",
      "10 file has been converted\n",
      "11 file has been converted\n",
      "12 file has been converted\n",
      "13 file has been converted\n",
      "Total 138201 datas has been converted\n"
     ]
    }
   ],
   "source": [
    "c_list = []\n",
    "for i, file_name in enumerate(file_names):\n",
    "    with open(file_name, \"r\", encoding='utf-8', errors='ignore') as in_file:\n",
    "        datas = in_file.readlines()\n",
    "\n",
    "        for j in range(len(datas)):\n",
    "            data = json.loads(datas[j])\n",
    "            content = clean_str(data['content'])\n",
    "            category = data['category']\n",
    "            begin = data['begin']\n",
    "            c_list.append((content, category, begin))\n",
    "            \n",
    "    print(\"{0} file has been converted\".format(i+1))\n",
    "print(\"Total {0} datas has been converted\".format(len(c_list)))"
   ]
  },
  {
   "cell_type": "code",
   "execution_count": 5,
   "metadata": {},
   "outputs": [],
   "source": [
    "import pandas as pd\n",
    "from sklearn.utils import shuffle"
   ]
  },
  {
   "cell_type": "code",
   "execution_count": 6,
   "metadata": {},
   "outputs": [],
   "source": [
    "df = pd.DataFrame(c_list, columns=['contents','category','begin']) "
   ]
  },
  {
   "cell_type": "code",
   "execution_count": 7,
   "metadata": {},
   "outputs": [
    {
     "data": {
      "text/html": [
       "<div>\n",
       "<style scoped>\n",
       "    .dataframe tbody tr th:only-of-type {\n",
       "        vertical-align: middle;\n",
       "    }\n",
       "\n",
       "    .dataframe tbody tr th {\n",
       "        vertical-align: top;\n",
       "    }\n",
       "\n",
       "    .dataframe thead th {\n",
       "        text-align: right;\n",
       "    }\n",
       "</style>\n",
       "<table border=\"1\" class=\"dataframe\">\n",
       "  <thead>\n",
       "    <tr style=\"text-align: right;\">\n",
       "      <th></th>\n",
       "      <th>contents</th>\n",
       "      <th>category</th>\n",
       "      <th>begin</th>\n",
       "    </tr>\n",
       "  </thead>\n",
       "  <tbody>\n",
       "    <tr>\n",
       "      <td>0</td>\n",
       "      <td>안녕하세요. 현재 사대 교대 등 교원양성학교들의 예비교사들이 임용절벽에 매우 힘들어...</td>\n",
       "      <td>육아/교육</td>\n",
       "      <td>2017-08-25</td>\n",
       "    </tr>\n",
       "    <tr>\n",
       "      <td>1</td>\n",
       "      <td>서울시에서는 USRNUM년부터 정수지와 배수지 청소용 화학제품인 세정제에 대하여 첨...</td>\n",
       "      <td>안전/환경</td>\n",
       "      <td>2017-08-25</td>\n",
       "    </tr>\n",
       "    <tr>\n",
       "      <td>2</td>\n",
       "      <td>얼마 전 살충제 계란 파동 등으로 씨끄러웠던 중 친환경업체한살림 등의 DDT파동으로...</td>\n",
       "      <td>기타</td>\n",
       "      <td>2017-08-25</td>\n",
       "    </tr>\n",
       "    <tr>\n",
       "      <td>3</td>\n",
       "      <td>길고양이들 밥주고있는 사람입니다. 최근에 동네주민과 트러블이 생겨 싸움이 일어났습니...</td>\n",
       "      <td>반려동물</td>\n",
       "      <td>2017-08-25</td>\n",
       "    </tr>\n",
       "    <tr>\n",
       "      <td>4</td>\n",
       "      <td>안녕하세요 지인분이 성관계 몰래카메라가 유출되어 방송통신 심의 위원회에 접수해서 처...</td>\n",
       "      <td>인권/성평등</td>\n",
       "      <td>2017-08-25</td>\n",
       "    </tr>\n",
       "  </tbody>\n",
       "</table>\n",
       "</div>"
      ],
      "text/plain": [
       "                                            contents category       begin\n",
       "0  안녕하세요. 현재 사대 교대 등 교원양성학교들의 예비교사들이 임용절벽에 매우 힘들어...    육아/교육  2017-08-25\n",
       "1  서울시에서는 USRNUM년부터 정수지와 배수지 청소용 화학제품인 세정제에 대하여 첨...    안전/환경  2017-08-25\n",
       "2  얼마 전 살충제 계란 파동 등으로 씨끄러웠던 중 친환경업체한살림 등의 DDT파동으로...       기타  2017-08-25\n",
       "3  길고양이들 밥주고있는 사람입니다. 최근에 동네주민과 트러블이 생겨 싸움이 일어났습니...     반려동물  2017-08-25\n",
       "4  안녕하세요 지인분이 성관계 몰래카메라가 유출되어 방송통신 심의 위원회에 접수해서 처...   인권/성평등  2017-08-25"
      ]
     },
     "execution_count": 7,
     "metadata": {},
     "output_type": "execute_result"
    }
   ],
   "source": [
    "df.head(5)"
   ]
  },
  {
   "cell_type": "code",
   "execution_count": 8,
   "metadata": {},
   "outputs": [
    {
     "data": {
      "text/plain": [
       "138201"
      ]
     },
     "execution_count": 8,
     "metadata": {},
     "output_type": "execute_result"
    }
   ],
   "source": [
    "len(df)"
   ]
  },
  {
   "cell_type": "code",
   "execution_count": 9,
   "metadata": {},
   "outputs": [
    {
     "data": {
      "text/plain": [
       "category\n",
       "경제민주화           3040\n",
       "교통/건축/국토        6783\n",
       "기타             18332\n",
       "농산어촌             677\n",
       "문화/예술/체육/언론     4626\n",
       "미래              6115\n",
       "반려동물            1461\n",
       "보건복지            9015\n",
       "성장동력            1482\n",
       "안전/환경          13320\n",
       "외교/통일/국방        6926\n",
       "육아/교육          10260\n",
       "인권/성평등         14923\n",
       "일자리             6339\n",
       "저출산/고령화대책       1354\n",
       "정치개혁           26951\n",
       "행정              6597\n",
       "Name: category, dtype: int64"
      ]
     },
     "execution_count": 9,
     "metadata": {},
     "output_type": "execute_result"
    }
   ],
   "source": [
    "df.groupby('category')['category'].count()"
   ]
  },
  {
   "cell_type": "code",
   "execution_count": 10,
   "metadata": {},
   "outputs": [],
   "source": [
    "# 기타 항목 제거\n",
    "df = df.loc[df['category'] != '기타']"
   ]
  },
  {
   "cell_type": "code",
   "execution_count": 11,
   "metadata": {},
   "outputs": [
    {
     "data": {
      "text/plain": [
       "119869"
      ]
     },
     "execution_count": 11,
     "metadata": {},
     "output_type": "execute_result"
    }
   ],
   "source": [
    "len(df)"
   ]
  },
  {
   "cell_type": "code",
   "execution_count": 12,
   "metadata": {},
   "outputs": [],
   "source": [
    "'''category_dictionary = {\n",
    "    '경제민주화' : '0', \n",
    "    '교통/건축/국토' : '1', \n",
    "    '농산어촌' : '2',\n",
    "    '문화/예술/체육/언론' : '3',\n",
    "    '미래' : '4',\n",
    "    '반려동물' : '5',\n",
    "    '보건복지' : '6',\n",
    "    '성장동력' : '7',\n",
    "    '안전/환경' : '8',\n",
    "    '외교/통일/국방' : '9',\n",
    "    '육아/교육' : '10',\n",
    "    '인권/성평등' : '11',\n",
    "    '일자리' : '12',\n",
    "    '저출산/고령화대책' : '13',\n",
    "    '정치개혁' : '14',\n",
    "    '행정' : '15',\n",
    "    '기타' : '16',\n",
    "} '''\n",
    "\n",
    "category_dictionary = {\n",
    "    '경제민주화' : '0', \n",
    "    '교통/건축/국토' : '1', \n",
    "    '농산어촌' : '2',\n",
    "    '문화/예술/체육/언론' : '3',\n",
    "    '미래' : '4',\n",
    "    '반려동물' : '5',\n",
    "    '보건복지' : '6',\n",
    "    '성장동력' : '7',\n",
    "    '안전/환경' : '8',\n",
    "    '외교/통일/국방' : '9',\n",
    "    '육아/교육' : '10',\n",
    "    '인권/성평등' : '11',\n",
    "    '일자리' : '12',\n",
    "    '저출산/고령화대책' : '13',\n",
    "    '정치개혁' : '14',\n",
    "    '행정' : '15',\n",
    "} "
   ]
  },
  {
   "cell_type": "code",
   "execution_count": 13,
   "metadata": {},
   "outputs": [],
   "source": [
    "df['category_label'] = df['category'].map(category_dictionary)"
   ]
  },
  {
   "cell_type": "code",
   "execution_count": 14,
   "metadata": {},
   "outputs": [
    {
     "data": {
      "text/html": [
       "<div>\n",
       "<style scoped>\n",
       "    .dataframe tbody tr th:only-of-type {\n",
       "        vertical-align: middle;\n",
       "    }\n",
       "\n",
       "    .dataframe tbody tr th {\n",
       "        vertical-align: top;\n",
       "    }\n",
       "\n",
       "    .dataframe thead th {\n",
       "        text-align: right;\n",
       "    }\n",
       "</style>\n",
       "<table border=\"1\" class=\"dataframe\">\n",
       "  <thead>\n",
       "    <tr style=\"text-align: right;\">\n",
       "      <th></th>\n",
       "      <th>contents</th>\n",
       "      <th>category</th>\n",
       "      <th>begin</th>\n",
       "      <th>category_label</th>\n",
       "    </tr>\n",
       "  </thead>\n",
       "  <tbody>\n",
       "    <tr>\n",
       "      <td>0</td>\n",
       "      <td>안녕하세요. 현재 사대 교대 등 교원양성학교들의 예비교사들이 임용절벽에 매우 힘들어...</td>\n",
       "      <td>육아/교육</td>\n",
       "      <td>2017-08-25</td>\n",
       "      <td>10</td>\n",
       "    </tr>\n",
       "    <tr>\n",
       "      <td>1</td>\n",
       "      <td>서울시에서는 USRNUM년부터 정수지와 배수지 청소용 화학제품인 세정제에 대하여 첨...</td>\n",
       "      <td>안전/환경</td>\n",
       "      <td>2017-08-25</td>\n",
       "      <td>8</td>\n",
       "    </tr>\n",
       "    <tr>\n",
       "      <td>3</td>\n",
       "      <td>길고양이들 밥주고있는 사람입니다. 최근에 동네주민과 트러블이 생겨 싸움이 일어났습니...</td>\n",
       "      <td>반려동물</td>\n",
       "      <td>2017-08-25</td>\n",
       "      <td>5</td>\n",
       "    </tr>\n",
       "    <tr>\n",
       "      <td>4</td>\n",
       "      <td>안녕하세요 지인분이 성관계 몰래카메라가 유출되어 방송통신 심의 위원회에 접수해서 처...</td>\n",
       "      <td>인권/성평등</td>\n",
       "      <td>2017-08-25</td>\n",
       "      <td>11</td>\n",
       "    </tr>\n",
       "    <tr>\n",
       "      <td>5</td>\n",
       "      <td>대통령님 민주주의 사회에서는 국공립과 사립은 공존하여 서로 경쟁 발전해야하며 시급한...</td>\n",
       "      <td>육아/교육</td>\n",
       "      <td>2017-08-25</td>\n",
       "      <td>10</td>\n",
       "    </tr>\n",
       "  </tbody>\n",
       "</table>\n",
       "</div>"
      ],
      "text/plain": [
       "                                            contents category       begin  \\\n",
       "0  안녕하세요. 현재 사대 교대 등 교원양성학교들의 예비교사들이 임용절벽에 매우 힘들어...    육아/교육  2017-08-25   \n",
       "1  서울시에서는 USRNUM년부터 정수지와 배수지 청소용 화학제품인 세정제에 대하여 첨...    안전/환경  2017-08-25   \n",
       "3  길고양이들 밥주고있는 사람입니다. 최근에 동네주민과 트러블이 생겨 싸움이 일어났습니...     반려동물  2017-08-25   \n",
       "4  안녕하세요 지인분이 성관계 몰래카메라가 유출되어 방송통신 심의 위원회에 접수해서 처...   인권/성평등  2017-08-25   \n",
       "5  대통령님 민주주의 사회에서는 국공립과 사립은 공존하여 서로 경쟁 발전해야하며 시급한...    육아/교육  2017-08-25   \n",
       "\n",
       "  category_label  \n",
       "0             10  \n",
       "1              8  \n",
       "3              5  \n",
       "4             11  \n",
       "5             10  "
      ]
     },
     "execution_count": 14,
     "metadata": {},
     "output_type": "execute_result"
    }
   ],
   "source": [
    "df.head(5)"
   ]
  },
  {
   "cell_type": "code",
   "execution_count": 15,
   "metadata": {},
   "outputs": [],
   "source": [
    "df[\"contents_length\"]= df[\"contents\"].str.len() "
   ]
  },
  {
   "cell_type": "code",
   "execution_count": 16,
   "metadata": {},
   "outputs": [],
   "source": [
    "# contens 갯수 확인 후 제거\n",
    "df = df.loc[(df['contents_length'] > 20) & (df['contents_length'] < 30000)] "
   ]
  },
  {
   "cell_type": "code",
   "execution_count": 17,
   "metadata": {},
   "outputs": [
    {
     "data": {
      "text/html": [
       "<div>\n",
       "<style scoped>\n",
       "    .dataframe tbody tr th:only-of-type {\n",
       "        vertical-align: middle;\n",
       "    }\n",
       "\n",
       "    .dataframe tbody tr th {\n",
       "        vertical-align: top;\n",
       "    }\n",
       "\n",
       "    .dataframe thead th {\n",
       "        text-align: right;\n",
       "    }\n",
       "</style>\n",
       "<table border=\"1\" class=\"dataframe\">\n",
       "  <thead>\n",
       "    <tr style=\"text-align: right;\">\n",
       "      <th></th>\n",
       "      <th>contents</th>\n",
       "      <th>category</th>\n",
       "      <th>begin</th>\n",
       "      <th>category_label</th>\n",
       "      <th>contents_length</th>\n",
       "    </tr>\n",
       "  </thead>\n",
       "  <tbody>\n",
       "    <tr>\n",
       "      <td>37249</td>\n",
       "      <td>이명박 전대통령 출국을금지 했으면합니다</td>\n",
       "      <td>정치개혁</td>\n",
       "      <td>2017-11-11</td>\n",
       "      <td>14</td>\n",
       "      <td>21</td>\n",
       "    </tr>\n",
       "    <tr>\n",
       "      <td>114023</td>\n",
       "      <td>사법개혁??? 가능 하긴 한겁니꽈???</td>\n",
       "      <td>정치개혁</td>\n",
       "      <td>2019-03-04</td>\n",
       "      <td>14</td>\n",
       "      <td>21</td>\n",
       "    </tr>\n",
       "    <tr>\n",
       "      <td>37941</td>\n",
       "      <td>출국금지시키고 검찰수사 받게 해야합니다</td>\n",
       "      <td>정치개혁</td>\n",
       "      <td>2017-11-11</td>\n",
       "      <td>14</td>\n",
       "      <td>21</td>\n",
       "    </tr>\n",
       "    <tr>\n",
       "      <td>106987</td>\n",
       "      <td>진심 이따구로 대답할꺼면 왜 만들었는지</td>\n",
       "      <td>인권/성평등</td>\n",
       "      <td>2019-02-22</td>\n",
       "      <td>11</td>\n",
       "      <td>21</td>\n",
       "    </tr>\n",
       "    <tr>\n",
       "      <td>28230</td>\n",
       "      <td>특별법제정해서라도 사회에서격리시켜주세요</td>\n",
       "      <td>안전/환경</td>\n",
       "      <td>2017-11-09</td>\n",
       "      <td>8</td>\n",
       "      <td>21</td>\n",
       "    </tr>\n",
       "    <tr>\n",
       "      <td>...</td>\n",
       "      <td>...</td>\n",
       "      <td>...</td>\n",
       "      <td>...</td>\n",
       "      <td>...</td>\n",
       "      <td>...</td>\n",
       "    </tr>\n",
       "    <tr>\n",
       "      <td>73013</td>\n",
       "      <td>모든 국민이 피해자인 아파트비리에 대한 적폐청산을 해 주세요 문재인 대통령님! 안녕...</td>\n",
       "      <td>미래</td>\n",
       "      <td>2019-01-03</td>\n",
       "      <td>4</td>\n",
       "      <td>25937</td>\n",
       "    </tr>\n",
       "    <tr>\n",
       "      <td>73197</td>\n",
       "      <td>대한민국을 휩쓸고 있는 예멘난민문제..누구보다 앞장서서 해결해야 하는 전담부서인 여...</td>\n",
       "      <td>정치개혁</td>\n",
       "      <td>2019-01-03</td>\n",
       "      <td>14</td>\n",
       "      <td>27279</td>\n",
       "    </tr>\n",
       "    <tr>\n",
       "      <td>96860</td>\n",
       "      <td>이해식 대변인 브리핑 평창올림픽 USRNUM년으로 돌아보는 격세지감의 한반도 평화 ...</td>\n",
       "      <td>성장동력</td>\n",
       "      <td>2019-02-09</td>\n",
       "      <td>7</td>\n",
       "      <td>27399</td>\n",
       "    </tr>\n",
       "    <tr>\n",
       "      <td>124190</td>\n",
       "      <td>대한민국을 휩쓸고 있는 예멘난민문제..누구보다 앞장서서 해결해야 하는 전담부서인 여...</td>\n",
       "      <td>인권/성평등</td>\n",
       "      <td>2019-03-14</td>\n",
       "      <td>11</td>\n",
       "      <td>27403</td>\n",
       "    </tr>\n",
       "    <tr>\n",
       "      <td>101971</td>\n",
       "      <td>대한민국을 휩쓸고 있는 예멘난민문제..누구보다 앞장서서 해결해야 하는 전담부서인 여...</td>\n",
       "      <td>정치개혁</td>\n",
       "      <td>2019-02-15</td>\n",
       "      <td>14</td>\n",
       "      <td>27576</td>\n",
       "    </tr>\n",
       "  </tbody>\n",
       "</table>\n",
       "<p>107766 rows × 5 columns</p>\n",
       "</div>"
      ],
      "text/plain": [
       "                                                 contents category  \\\n",
       "37249                               이명박 전대통령 출국을금지 했으면합니다     정치개혁   \n",
       "114023                              사법개혁??? 가능 하긴 한겁니꽈???     정치개혁   \n",
       "37941                               출국금지시키고 검찰수사 받게 해야합니다     정치개혁   \n",
       "106987                              진심 이따구로 대답할꺼면 왜 만들었는지   인권/성평등   \n",
       "28230                               특별법제정해서라도 사회에서격리시켜주세요    안전/환경   \n",
       "...                                                   ...      ...   \n",
       "73013   모든 국민이 피해자인 아파트비리에 대한 적폐청산을 해 주세요 문재인 대통령님! 안녕...       미래   \n",
       "73197   대한민국을 휩쓸고 있는 예멘난민문제..누구보다 앞장서서 해결해야 하는 전담부서인 여...     정치개혁   \n",
       "96860   이해식 대변인 브리핑 평창올림픽 USRNUM년으로 돌아보는 격세지감의 한반도 평화 ...     성장동력   \n",
       "124190  대한민국을 휩쓸고 있는 예멘난민문제..누구보다 앞장서서 해결해야 하는 전담부서인 여...   인권/성평등   \n",
       "101971  대한민국을 휩쓸고 있는 예멘난민문제..누구보다 앞장서서 해결해야 하는 전담부서인 여...     정치개혁   \n",
       "\n",
       "             begin category_label  contents_length  \n",
       "37249   2017-11-11             14               21  \n",
       "114023  2019-03-04             14               21  \n",
       "37941   2017-11-11             14               21  \n",
       "106987  2019-02-22             11               21  \n",
       "28230   2017-11-09              8               21  \n",
       "...            ...            ...              ...  \n",
       "73013   2019-01-03              4            25937  \n",
       "73197   2019-01-03             14            27279  \n",
       "96860   2019-02-09              7            27399  \n",
       "124190  2019-03-14             11            27403  \n",
       "101971  2019-02-15             14            27576  \n",
       "\n",
       "[107766 rows x 5 columns]"
      ]
     },
     "execution_count": 17,
     "metadata": {},
     "output_type": "execute_result"
    }
   ],
   "source": [
    "df.sort_values(by=['contents_length'])"
   ]
  },
  {
   "cell_type": "code",
   "execution_count": 18,
   "metadata": {},
   "outputs": [],
   "source": [
    "df = shuffle(df)"
   ]
  },
  {
   "cell_type": "code",
   "execution_count": 19,
   "metadata": {},
   "outputs": [
    {
     "data": {
      "text/html": [
       "<div>\n",
       "<style scoped>\n",
       "    .dataframe tbody tr th:only-of-type {\n",
       "        vertical-align: middle;\n",
       "    }\n",
       "\n",
       "    .dataframe tbody tr th {\n",
       "        vertical-align: top;\n",
       "    }\n",
       "\n",
       "    .dataframe thead th {\n",
       "        text-align: right;\n",
       "    }\n",
       "</style>\n",
       "<table border=\"1\" class=\"dataframe\">\n",
       "  <thead>\n",
       "    <tr style=\"text-align: right;\">\n",
       "      <th></th>\n",
       "      <th>contents</th>\n",
       "      <th>category</th>\n",
       "      <th>begin</th>\n",
       "      <th>category_label</th>\n",
       "      <th>contents_length</th>\n",
       "    </tr>\n",
       "  </thead>\n",
       "  <tbody>\n",
       "    <tr>\n",
       "      <td>51637</td>\n",
       "      <td>특활비 과연 제대로 이용 되고 있나요? 국회의원 에게 지급되는 비용에 대한 투명성조...</td>\n",
       "      <td>정치개혁</td>\n",
       "      <td>2017-11-28</td>\n",
       "      <td>14</td>\n",
       "      <td>320</td>\n",
       "    </tr>\n",
       "    <tr>\n",
       "      <td>84741</td>\n",
       "      <td>대한민국의 광화문 광장은 현대사의 상징입니다. 보수하고 고쳐나가고 더 좋은 환경으로...</td>\n",
       "      <td>교통/건축/국토</td>\n",
       "      <td>2019-01-21</td>\n",
       "      <td>1</td>\n",
       "      <td>259</td>\n",
       "    </tr>\n",
       "    <tr>\n",
       "      <td>10248</td>\n",
       "      <td>휠체어를 사용하는 지제장애 USRNUM급입니다. 장애인은 대중교통 이용이 너무 어려...</td>\n",
       "      <td>교통/건축/국토</td>\n",
       "      <td>2017-09-06</td>\n",
       "      <td>1</td>\n",
       "      <td>711</td>\n",
       "    </tr>\n",
       "    <tr>\n",
       "      <td>545</td>\n",
       "      <td>엄연한 회원들을 팔아서 유지하고 있는 대한민국USRNUM전몰군경 유족회와 유자녀회?...</td>\n",
       "      <td>행정</td>\n",
       "      <td>2017-08-31</td>\n",
       "      <td>15</td>\n",
       "      <td>599</td>\n",
       "    </tr>\n",
       "    <tr>\n",
       "      <td>91640</td>\n",
       "      <td>김경수 경남도지사 드로킹 판결을 위해 법정에선 허익범 특검이 드로킹 김동원 씨 진술...</td>\n",
       "      <td>정치개혁</td>\n",
       "      <td>2019-01-30</td>\n",
       "      <td>14</td>\n",
       "      <td>204</td>\n",
       "    </tr>\n",
       "  </tbody>\n",
       "</table>\n",
       "</div>"
      ],
      "text/plain": [
       "                                                contents  category  \\\n",
       "51637  특활비 과연 제대로 이용 되고 있나요? 국회의원 에게 지급되는 비용에 대한 투명성조...      정치개혁   \n",
       "84741  대한민국의 광화문 광장은 현대사의 상징입니다. 보수하고 고쳐나가고 더 좋은 환경으로...  교통/건축/국토   \n",
       "10248  휠체어를 사용하는 지제장애 USRNUM급입니다. 장애인은 대중교통 이용이 너무 어려...  교통/건축/국토   \n",
       "545    엄연한 회원들을 팔아서 유지하고 있는 대한민국USRNUM전몰군경 유족회와 유자녀회?...        행정   \n",
       "91640  김경수 경남도지사 드로킹 판결을 위해 법정에선 허익범 특검이 드로킹 김동원 씨 진술...      정치개혁   \n",
       "\n",
       "            begin category_label  contents_length  \n",
       "51637  2017-11-28             14              320  \n",
       "84741  2019-01-21              1              259  \n",
       "10248  2017-09-06              1              711  \n",
       "545    2017-08-31             15              599  \n",
       "91640  2019-01-30             14              204  "
      ]
     },
     "execution_count": 19,
     "metadata": {},
     "output_type": "execute_result"
    }
   ],
   "source": [
    "df.head(5)"
   ]
  },
  {
   "cell_type": "code",
   "execution_count": 20,
   "metadata": {},
   "outputs": [
    {
     "data": {
      "text/plain": [
       "category\n",
       "경제민주화           2983\n",
       "교통/건축/국토        6646\n",
       "농산어촌             653\n",
       "문화/예술/체육/언론     4473\n",
       "미래              5562\n",
       "반려동물            1415\n",
       "보건복지            8503\n",
       "성장동력            1396\n",
       "안전/환경          12284\n",
       "외교/통일/국방        6673\n",
       "육아/교육           9448\n",
       "인권/성평등         13280\n",
       "일자리             6174\n",
       "저출산/고령화대책       1325\n",
       "정치개혁           20571\n",
       "행정              6380\n",
       "Name: category, dtype: int64"
      ]
     },
     "execution_count": 20,
     "metadata": {},
     "output_type": "execute_result"
    }
   ],
   "source": [
    "df.groupby('category')['category'].count()"
   ]
  },
  {
   "cell_type": "code",
   "execution_count": 31,
   "metadata": {},
   "outputs": [],
   "source": [
    "file_path = \"data/petitions/petition.mcc.cls-2-7-13.train\"\n",
    "df_by_cls = df.loc[(df['category_label'] == '2') | (df['category_label'] == '7') | (df['category_label'] == '13')]\n",
    "df_by_cls.to_csv(file_path, columns=['contents','category_label'],sep='\\t', encoding='utf-8')"
   ]
  },
  {
   "cell_type": "code",
   "execution_count": 34,
   "metadata": {},
   "outputs": [],
   "source": [
    "df_cls = pd.read_csv(file_path, names=['idx', 'contents','category_label'],sep='\\t', header=0)\n",
    "df_2018 = pd.read_csv('data/petitions/petition.mcc.without-etc.2018.clean1.train', names=['idx', 'contents','category_label'],sep='\\t', header=0)"
   ]
  },
  {
   "cell_type": "code",
   "execution_count": 42,
   "metadata": {},
   "outputs": [
    {
     "data": {
      "text/html": [
       "<div>\n",
       "<style scoped>\n",
       "    .dataframe tbody tr th:only-of-type {\n",
       "        vertical-align: middle;\n",
       "    }\n",
       "\n",
       "    .dataframe tbody tr th {\n",
       "        vertical-align: top;\n",
       "    }\n",
       "\n",
       "    .dataframe thead th {\n",
       "        text-align: right;\n",
       "    }\n",
       "</style>\n",
       "<table border=\"1\" class=\"dataframe\">\n",
       "  <thead>\n",
       "    <tr style=\"text-align: right;\">\n",
       "      <th></th>\n",
       "      <th>idx</th>\n",
       "      <th>contents</th>\n",
       "      <th>category_label</th>\n",
       "    </tr>\n",
       "  </thead>\n",
       "  <tbody>\n",
       "    <tr>\n",
       "      <td>0</td>\n",
       "      <td>16279</td>\n",
       "      <td>USRNUM대 초반입니다. 난임으로 인공수정 체외수정까지 기존 지원 다썼습니다. U...</td>\n",
       "      <td>13</td>\n",
       "    </tr>\n",
       "    <tr>\n",
       "      <td>1</td>\n",
       "      <td>17098</td>\n",
       "      <td>정읍도 교육시설이 희박해 대학가기 힘듭니다.</td>\n",
       "      <td>2</td>\n",
       "    </tr>\n",
       "    <tr>\n",
       "      <td>2</td>\n",
       "      <td>17830</td>\n",
       "      <td>각나라의 최첨단 기술을 보여주는 올림픽 무대에서 멋진 기술로 USRNUM차산업혁명의...</td>\n",
       "      <td>7</td>\n",
       "    </tr>\n",
       "    <tr>\n",
       "      <td>3</td>\n",
       "      <td>52141</td>\n",
       "      <td>문제가 있는 부분은 개선하면 됩니다. 개선도 천천히 폐부를 잘라내면 됩니다. 확대해...</td>\n",
       "      <td>13</td>\n",
       "    </tr>\n",
       "    <tr>\n",
       "      <td>4</td>\n",
       "      <td>73018</td>\n",
       "      <td>신규간호사 USRNUM만명 양성 의사도 신규로 USRNUM만명 양성해야 정부가 간호...</td>\n",
       "      <td>7</td>\n",
       "    </tr>\n",
       "  </tbody>\n",
       "</table>\n",
       "</div>"
      ],
      "text/plain": [
       "     idx                                           contents  category_label\n",
       "0  16279  USRNUM대 초반입니다. 난임으로 인공수정 체외수정까지 기존 지원 다썼습니다. U...              13\n",
       "1  17098                           정읍도 교육시설이 희박해 대학가기 힘듭니다.               2\n",
       "2  17830  각나라의 최첨단 기술을 보여주는 올림픽 무대에서 멋진 기술로 USRNUM차산업혁명의...               7\n",
       "3  52141  문제가 있는 부분은 개선하면 됩니다. 개선도 천천히 폐부를 잘라내면 됩니다. 확대해...              13\n",
       "4  73018  신규간호사 USRNUM만명 양성 의사도 신규로 USRNUM만명 양성해야 정부가 간호...               7"
      ]
     },
     "execution_count": 42,
     "metadata": {},
     "output_type": "execute_result"
    }
   ],
   "source": [
    "df_cls.head()"
   ]
  },
  {
   "cell_type": "code",
   "execution_count": 41,
   "metadata": {},
   "outputs": [
    {
     "data": {
      "text/html": [
       "<div>\n",
       "<style scoped>\n",
       "    .dataframe tbody tr th:only-of-type {\n",
       "        vertical-align: middle;\n",
       "    }\n",
       "\n",
       "    .dataframe tbody tr th {\n",
       "        vertical-align: top;\n",
       "    }\n",
       "\n",
       "    .dataframe thead th {\n",
       "        text-align: right;\n",
       "    }\n",
       "</style>\n",
       "<table border=\"1\" class=\"dataframe\">\n",
       "  <thead>\n",
       "    <tr style=\"text-align: right;\">\n",
       "      <th></th>\n",
       "      <th>idx</th>\n",
       "      <th>contents</th>\n",
       "      <th>category_label</th>\n",
       "    </tr>\n",
       "  </thead>\n",
       "  <tbody>\n",
       "    <tr>\n",
       "      <td>0</td>\n",
       "      <td>60830</td>\n",
       "      <td>직접 진상을 조사해야지 무슨자체조사? 박영선 의원은 출입카드 없이 들어간점 직접 해...</td>\n",
       "      <td>3</td>\n",
       "    </tr>\n",
       "    <tr>\n",
       "      <td>1</td>\n",
       "      <td>238910</td>\n",
       "      <td>A형B형독감을예방하려면USRNUM가를맞아야하는데USRNUM만운너무비싸요 백신무료로맞...</td>\n",
       "      <td>10</td>\n",
       "    </tr>\n",
       "    <tr>\n",
       "      <td>2</td>\n",
       "      <td>94782</td>\n",
       "      <td>저는 USRNUM년생이자 롯데구단 팬인 USRNUM살 남자 청년입니다... 제가 구...</td>\n",
       "      <td>3</td>\n",
       "    </tr>\n",
       "    <tr>\n",
       "      <td>3</td>\n",
       "      <td>98040</td>\n",
       "      <td>경고 부분 발췌는 오용될 수 있는 내용을 포함하고 있으므로 전문이 아닌 부분 발췌와...</td>\n",
       "      <td>14</td>\n",
       "    </tr>\n",
       "    <tr>\n",
       "      <td>4</td>\n",
       "      <td>76842</td>\n",
       "      <td>물론 그들이 노력해서 얻은 것이겠지만 나쁜짓 안했어도 보통 월급 쟁이면 최저시급만 ...</td>\n",
       "      <td>14</td>\n",
       "    </tr>\n",
       "  </tbody>\n",
       "</table>\n",
       "</div>"
      ],
      "text/plain": [
       "      idx                                           contents  category_label\n",
       "0   60830  직접 진상을 조사해야지 무슨자체조사? 박영선 의원은 출입카드 없이 들어간점 직접 해...               3\n",
       "1  238910  A형B형독감을예방하려면USRNUM가를맞아야하는데USRNUM만운너무비싸요 백신무료로맞...              10\n",
       "2   94782  저는 USRNUM년생이자 롯데구단 팬인 USRNUM살 남자 청년입니다... 제가 구...               3\n",
       "3   98040  경고 부분 발췌는 오용될 수 있는 내용을 포함하고 있으므로 전문이 아닌 부분 발췌와...              14\n",
       "4   76842  물론 그들이 노력해서 얻은 것이겠지만 나쁜짓 안했어도 보통 월급 쟁이면 최저시급만 ...              14"
      ]
     },
     "execution_count": 41,
     "metadata": {},
     "output_type": "execute_result"
    }
   ],
   "source": [
    "df_2018.head()"
   ]
  },
  {
   "cell_type": "code",
   "execution_count": 46,
   "metadata": {},
   "outputs": [],
   "source": [
    "df_concat = pd.concat([df_cls, df_2018])"
   ]
  },
  {
   "cell_type": "code",
   "execution_count": 47,
   "metadata": {},
   "outputs": [],
   "source": [
    "df_concat = shuffle(df_concat)"
   ]
  },
  {
   "cell_type": "code",
   "execution_count": 48,
   "metadata": {},
   "outputs": [
    {
     "data": {
      "text/html": [
       "<div>\n",
       "<style scoped>\n",
       "    .dataframe tbody tr th:only-of-type {\n",
       "        vertical-align: middle;\n",
       "    }\n",
       "\n",
       "    .dataframe tbody tr th {\n",
       "        vertical-align: top;\n",
       "    }\n",
       "\n",
       "    .dataframe thead th {\n",
       "        text-align: right;\n",
       "    }\n",
       "</style>\n",
       "<table border=\"1\" class=\"dataframe\">\n",
       "  <thead>\n",
       "    <tr style=\"text-align: right;\">\n",
       "      <th></th>\n",
       "      <th>idx</th>\n",
       "      <th>contents</th>\n",
       "      <th>category_label</th>\n",
       "    </tr>\n",
       "  </thead>\n",
       "  <tbody>\n",
       "    <tr>\n",
       "      <td>36788</td>\n",
       "      <td>228700</td>\n",
       "      <td>어느당이라고는 말하지않겠습니다 민주정권이라고 너무함부로대하고 불법을 맘것저지르는일은...</td>\n",
       "      <td>15</td>\n",
       "    </tr>\n",
       "    <tr>\n",
       "      <td>66098</td>\n",
       "      <td>132591</td>\n",
       "      <td>박근혜정부때 서민들의 주머니을 생각을 안하고털기위해 USRNUM원이라는 금액을 올린...</td>\n",
       "      <td>14</td>\n",
       "    </tr>\n",
       "    <tr>\n",
       "      <td>47240</td>\n",
       "      <td>19763</td>\n",
       "      <td>저희는 양주시 장흥에서 화훼업을 하고있는 농가입니다. 일률적으로 고르게 작물을 재배...</td>\n",
       "      <td>2</td>\n",
       "    </tr>\n",
       "    <tr>\n",
       "      <td>2839</td>\n",
       "      <td>70019</td>\n",
       "      <td>투자는 개인이 번 돈으로 개인의 의지로 하고 있습니다. 나라에서 보호 규제 등 전혀...</td>\n",
       "      <td>7</td>\n",
       "    </tr>\n",
       "    <tr>\n",
       "      <td>52538</td>\n",
       "      <td>163471</td>\n",
       "      <td>작금의 대한민국의 국가인권위원회는 누구를 위한 인권위원회 인가요? 강럭범죄를 저지른...</td>\n",
       "      <td>11</td>\n",
       "    </tr>\n",
       "  </tbody>\n",
       "</table>\n",
       "</div>"
      ],
      "text/plain": [
       "          idx                                           contents  \\\n",
       "36788  228700  어느당이라고는 말하지않겠습니다 민주정권이라고 너무함부로대하고 불법을 맘것저지르는일은...   \n",
       "66098  132591  박근혜정부때 서민들의 주머니을 생각을 안하고털기위해 USRNUM원이라는 금액을 올린...   \n",
       "47240   19763  저희는 양주시 장흥에서 화훼업을 하고있는 농가입니다. 일률적으로 고르게 작물을 재배...   \n",
       "2839    70019  투자는 개인이 번 돈으로 개인의 의지로 하고 있습니다. 나라에서 보호 규제 등 전혀...   \n",
       "52538  163471  작금의 대한민국의 국가인권위원회는 누구를 위한 인권위원회 인가요? 강럭범죄를 저지른...   \n",
       "\n",
       "       category_label  \n",
       "36788              15  \n",
       "66098              14  \n",
       "47240               2  \n",
       "2839                7  \n",
       "52538              11  "
      ]
     },
     "execution_count": 48,
     "metadata": {},
     "output_type": "execute_result"
    }
   ],
   "source": [
    "df_concat.head()"
   ]
  },
  {
   "cell_type": "code",
   "execution_count": 51,
   "metadata": {},
   "outputs": [
    {
     "data": {
      "text/plain": [
       "category_label\n",
       "0      5602\n",
       "1      9078\n",
       "2      1203\n",
       "3      5801\n",
       "4      5336\n",
       "5      1145\n",
       "6      7016\n",
       "7      3785\n",
       "8      8528\n",
       "9      8410\n",
       "10     6644\n",
       "11     9205\n",
       "12     7182\n",
       "13     2373\n",
       "14    16217\n",
       "15     5849\n",
       "Name: category_label, dtype: int64"
      ]
     },
     "execution_count": 51,
     "metadata": {},
     "output_type": "execute_result"
    }
   ],
   "source": [
    "df_concat.groupby('category_label')['category_label'].count()"
   ]
  },
  {
   "cell_type": "code",
   "execution_count": 49,
   "metadata": {},
   "outputs": [],
   "source": [
    "attached_file_path = \"data/petitions/petition.mcc.attached.train\"\n",
    "df_concat.to_csv(attached_file_path, columns=['contents','category_label'],sep='\\t', encoding='utf-8')"
   ]
  },
  {
   "cell_type": "code",
   "execution_count": null,
   "metadata": {},
   "outputs": [],
   "source": []
  }
 ],
 "metadata": {
  "kernelspec": {
   "display_name": "Python 3",
   "language": "python",
   "name": "python3"
  },
  "language_info": {
   "codemirror_mode": {
    "name": "ipython",
    "version": 3
   },
   "file_extension": ".py",
   "mimetype": "text/x-python",
   "name": "python",
   "nbconvert_exporter": "python",
   "pygments_lexer": "ipython3",
   "version": "3.7.4"
  }
 },
 "nbformat": 4,
 "nbformat_minor": 2
}
