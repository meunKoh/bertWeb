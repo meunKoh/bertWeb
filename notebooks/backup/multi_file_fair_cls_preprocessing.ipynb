{
 "cells": [
  {
   "cell_type": "code",
   "execution_count": 1,
   "metadata": {},
   "outputs": [
    {
     "name": "stderr",
     "output_type": "stream",
     "text": [
      "[nltk_data] Downloading package punkt to\n",
      "[nltk_data]     C:\\Users\\alpha\\AppData\\Roaming\\nltk_data...\n",
      "[nltk_data]   Package punkt is already up-to-date!\n"
     ]
    }
   ],
   "source": [
    "import json\n",
    "import os\n",
    "import nltk\n",
    "nltk.download('punkt')\n",
    "from nltk.tokenize import sent_tokenize"
   ]
  },
  {
   "cell_type": "code",
   "execution_count": 2,
   "metadata": {},
   "outputs": [],
   "source": [
    "import re\n",
    "\n",
    "def clean_str(text):\n",
    "    pattern = '([a-zA-Z0-9_.+-]+@[a-zA-Z0-9-]+\\.[a-zA-Z0-9-.]+)' # E-mail제거\n",
    "    text = re.sub(pattern=pattern, repl='', string=text)\n",
    "    pattern = '(http|ftp|https)://(?:[-\\w.]|(?:%[\\da-fA-F]{2}))+' # URL제거\n",
    "    text = re.sub(pattern=pattern, repl='', string=text)\n",
    "    pattern = '([ㄱ-ㅎㅏ-ㅣ]+)'  # 한글 자음, 모음 제거\n",
    "    text = re.sub(pattern=pattern, repl='', string=text)\n",
    "    pattern = '<[^>]*>'         # HTML 태그 제거\n",
    "    text = re.sub(pattern=pattern, repl='', string=text)\n",
    "    pattern = '[^\\w\\s.?!]'         # 특수기호제거\n",
    "    text = re.sub(pattern=pattern, repl='', string=text)\n",
    "    pattern = '\\s+'         # tab to whitespace\n",
    "    text = re.sub(pattern=pattern, repl=' ', string=text)\n",
    "    return text  "
   ]
  },
  {
   "cell_type": "markdown",
   "metadata": {},
   "source": [
    "# 1. Language model data 생성"
   ]
  },
  {
   "cell_type": "code",
   "execution_count": 3,
   "metadata": {},
   "outputs": [],
   "source": [
    "file_names = []\n",
    "for root, dirs, files in os.walk('data/petitions/2018'):\n",
    "    for fname in files:\n",
    "        full_fname = os.path.join(root, fname)\n",
    "\n",
    "        file_names.append(full_fname)"
   ]
  },
  {
   "cell_type": "code",
   "execution_count": 4,
   "metadata": {},
   "outputs": [
    {
     "name": "stdout",
     "output_type": "stream",
     "text": [
      "2000 items has been converted\n",
      "3000 items has been converted\n",
      "4000 items has been converted\n",
      "6000 items has been converted\n",
      "8000 items has been converted\n",
      "9000 items has been converted\n",
      "10000 items has been converted\n",
      "11000 items has been converted\n",
      "12000 items has been converted\n",
      "13000 items has been converted\n",
      "14000 items has been converted\n",
      "15000 items has been converted\n",
      "17000 items has been converted\n",
      "18000 items has been converted\n",
      "19000 items has been converted\n",
      "20000 items has been converted\n",
      "21000 items has been converted\n",
      "22000 items has been converted\n",
      "24000 items has been converted\n",
      "29000 items has been converted\n",
      "Total 31247 items has been converted\n",
      "2000 items has been converted\n",
      "3000 items has been converted\n",
      "6000 items has been converted\n",
      "7000 items has been converted\n"
     ]
    },
    {
     "ename": "KeyboardInterrupt",
     "evalue": "",
     "output_type": "error",
     "traceback": [
      "\u001b[1;31m---------------------------------------------------------------------------\u001b[0m",
      "\u001b[1;31mKeyboardInterrupt\u001b[0m                         Traceback (most recent call last)",
      "\u001b[1;32m<ipython-input-4-756c087885c2>\u001b[0m in \u001b[0;36m<module>\u001b[1;34m\u001b[0m\n\u001b[0;32m     19\u001b[0m                     \u001b[0msentence\u001b[0m \u001b[1;33m=\u001b[0m \u001b[0msentence\u001b[0m\u001b[1;33m.\u001b[0m\u001b[0mstrip\u001b[0m\u001b[1;33m(\u001b[0m\u001b[1;33m)\u001b[0m\u001b[1;33m\u001b[0m\u001b[1;33m\u001b[0m\u001b[0m\n\u001b[0;32m     20\u001b[0m \u001b[1;33m\u001b[0m\u001b[0m\n\u001b[1;32m---> 21\u001b[1;33m                     \u001b[0mout_file\u001b[0m\u001b[1;33m.\u001b[0m\u001b[0mwrite\u001b[0m\u001b[1;33m(\u001b[0m\u001b[0msentence\u001b[0m \u001b[1;33m+\u001b[0m \u001b[1;34m\"\\n\"\u001b[0m\u001b[1;33m)\u001b[0m\u001b[1;33m\u001b[0m\u001b[1;33m\u001b[0m\u001b[0m\n\u001b[0m\u001b[0;32m     22\u001b[0m \u001b[1;33m\u001b[0m\u001b[0m\n\u001b[0;32m     23\u001b[0m                 \u001b[1;32mif\u001b[0m \u001b[0mi\u001b[0m \u001b[1;33m!=\u001b[0m \u001b[1;36m0\u001b[0m \u001b[1;32mand\u001b[0m \u001b[0mi\u001b[0m \u001b[1;33m%\u001b[0m \u001b[1;36m1000\u001b[0m \u001b[1;33m==\u001b[0m \u001b[1;36m0\u001b[0m\u001b[1;33m:\u001b[0m\u001b[1;33m\u001b[0m\u001b[1;33m\u001b[0m\u001b[0m\n",
      "\u001b[1;31mKeyboardInterrupt\u001b[0m: "
     ]
    }
   ],
   "source": [
    "out_file_path = \"data/petitions/petition.lm.train\"\n",
    "with open(out_file_path, 'a', encoding='UTF8') as out_file:\n",
    "    for file_name in file_names:\n",
    "        with open(file_name, \"r\", encoding='utf-8', errors='ignore') as in_file:\n",
    "            datas = in_file.readlines()\n",
    "            \n",
    "            for i in range(len(datas)):\n",
    "                data = json.loads(datas[i])\n",
    "\n",
    "                content = clean_str(data['content'])\n",
    "\n",
    "                sentences = sent_tokenize(content)\n",
    "\n",
    "                # BERT 모델은 문단 내 문장의 개수가 2개 이상이여야 함\n",
    "                if len(sentences) < 2:\n",
    "                    continue\n",
    "\n",
    "                for sentence in sentences:\n",
    "                    sentence = sentence.strip()\n",
    "\n",
    "                    out_file.write(sentence + \"\\n\")\n",
    "\n",
    "                if i != 0 and i % 1000 == 0:\n",
    "                    print(i, \"items has been converted\")\n",
    "\n",
    "                out_file.write(\"\\n\")\n",
    "\n",
    "                #if i == 5000:\n",
    "                #    break\n",
    "\n",
    "            print(\"Total {0} items has been converted\".format(len(datas)))"
   ]
  },
  {
   "cell_type": "markdown",
   "metadata": {},
   "source": [
    "# 2. Wordpiece model 생성"
   ]
  },
  {
   "cell_type": "code",
   "execution_count": 19,
   "metadata": {},
   "outputs": [],
   "source": [
    "import sentencepiece as spm"
   ]
  },
  {
   "cell_type": "code",
   "execution_count": 20,
   "metadata": {},
   "outputs": [],
   "source": [
    "input_file = 'data/petitions/petition.lm.train'\n",
    "templates = '--input={} --model_prefix={} --vocab_size={}'\n",
    "vocab_size = 30000\n",
    "prefix = 'data/petitions/sp-30000'\n",
    "cmd = templates.format(input_file, prefix, vocab_size)"
   ]
  },
  {
   "cell_type": "code",
   "execution_count": 21,
   "metadata": {},
   "outputs": [
    {
     "data": {
      "text/plain": [
       "True"
      ]
     },
     "execution_count": 21,
     "metadata": {},
     "output_type": "execute_result"
    }
   ],
   "source": [
    "# train\n",
    "spm.SentencePieceTrainer.Train(cmd)"
   ]
  },
  {
   "cell_type": "markdown",
   "metadata": {},
   "source": [
    "# 3. 사전 생성"
   ]
  },
  {
   "cell_type": "code",
   "execution_count": 22,
   "metadata": {},
   "outputs": [],
   "source": [
    "in_file_path = \"data/petitions/sp-30000.vocab\"\n",
    "out_file_path = \"data/petitions/vocab.txt\"\n",
    "\n",
    "with open(in_file_path, encoding='utf-8') as f_in:\n",
    "    with open(out_file_path, 'a', encoding='UTF8') as f_out:\n",
    "        f_out.write(\"[PAD]\\n\")\n",
    "        f_out.write(\"[CLS]\\n\")\n",
    "        f_out.write(\"[SEP]\\n\")\n",
    "        f_out.write(\"[MASK]\\n\")\n",
    "        for word in f_in:\n",
    "            if word.split('\\t')[0].strip() == '<unk>':\n",
    "                f_out.write(\"[UNK]\\n\")\n",
    "            else:\n",
    "                f_out.write(word.split('\\t')[0].strip() + \"\\n\")"
   ]
  },
  {
   "cell_type": "markdown",
   "metadata": {},
   "source": [
    "# 4 Multi-classification model data 생성"
   ]
  },
  {
   "cell_type": "code",
   "execution_count": 20,
   "metadata": {},
   "outputs": [],
   "source": [
    "file_names = []\n",
    "for root, dirs, files in os.walk('data/petitions/all'):\n",
    "    for fname in files:\n",
    "        full_fname = os.path.join(root, fname)\n",
    "\n",
    "        file_names.append(full_fname)"
   ]
  },
  {
   "cell_type": "code",
   "execution_count": 21,
   "metadata": {},
   "outputs": [
    {
     "name": "stdout",
     "output_type": "stream",
     "text": [
      "1 file has been converted\n",
      "2 file has been converted\n",
      "3 file has been converted\n",
      "4 file has been converted\n",
      "5 file has been converted\n",
      "6 file has been converted\n",
      "7 file has been converted\n",
      "8 file has been converted\n",
      "9 file has been converted\n",
      "10 file has been converted\n",
      "11 file has been converted\n",
      "12 file has been converted\n",
      "13 file has been converted\n",
      "14 file has been converted\n",
      "15 file has been converted\n",
      "16 file has been converted\n",
      "17 file has been converted\n",
      "18 file has been converted\n",
      "19 file has been converted\n",
      "20 file has been converted\n",
      "21 file has been converted\n",
      "22 file has been converted\n",
      "23 file has been converted\n",
      "24 file has been converted\n",
      "25 file has been converted\n",
      "Total 436660 datas has been converted\n"
     ]
    }
   ],
   "source": [
    "c_list = []\n",
    "for i, file_name in enumerate(file_names):\n",
    "    with open(file_name, \"r\", encoding='utf-8', errors='ignore') as in_file:\n",
    "        datas = in_file.readlines()\n",
    "\n",
    "        for j in range(len(datas)):\n",
    "            data = json.loads(datas[j])\n",
    "            content = clean_str(data['content'])\n",
    "            category = data['category']\n",
    "            begin = data['begin']\n",
    "            c_list.append((content, category, begin))\n",
    "            \n",
    "    print(\"{0} file has been converted\".format(i+1))\n",
    "print(\"Total {0} datas has been converted\".format(len(c_list)))"
   ]
  },
  {
   "cell_type": "code",
   "execution_count": 22,
   "metadata": {},
   "outputs": [],
   "source": [
    "import pandas as pd\n",
    "from sklearn.utils import shuffle"
   ]
  },
  {
   "cell_type": "code",
   "execution_count": 23,
   "metadata": {},
   "outputs": [],
   "source": [
    "df = pd.DataFrame(c_list, columns=['contents','category','begin']) "
   ]
  },
  {
   "cell_type": "code",
   "execution_count": 24,
   "metadata": {},
   "outputs": [
    {
     "data": {
      "text/html": [
       "<div>\n",
       "<style scoped>\n",
       "    .dataframe tbody tr th:only-of-type {\n",
       "        vertical-align: middle;\n",
       "    }\n",
       "\n",
       "    .dataframe tbody tr th {\n",
       "        vertical-align: top;\n",
       "    }\n",
       "\n",
       "    .dataframe thead th {\n",
       "        text-align: right;\n",
       "    }\n",
       "</style>\n",
       "<table border=\"1\" class=\"dataframe\">\n",
       "  <thead>\n",
       "    <tr style=\"text-align: right;\">\n",
       "      <th></th>\n",
       "      <th>contents</th>\n",
       "      <th>category</th>\n",
       "      <th>begin</th>\n",
       "    </tr>\n",
       "  </thead>\n",
       "  <tbody>\n",
       "    <tr>\n",
       "      <td>0</td>\n",
       "      <td>안녕하세요. 현재 사대 교대 등 교원양성학교들의 예비교사들이 임용절벽에 매우 힘들어...</td>\n",
       "      <td>육아/교육</td>\n",
       "      <td>2017-08-25</td>\n",
       "    </tr>\n",
       "    <tr>\n",
       "      <td>1</td>\n",
       "      <td>서울시에서는 10년부터 정수지와 배수지 청소용 화학제품인 세정제에 대하여 첨부 와 ...</td>\n",
       "      <td>안전/환경</td>\n",
       "      <td>2017-08-25</td>\n",
       "    </tr>\n",
       "    <tr>\n",
       "      <td>2</td>\n",
       "      <td>얼마 전 살충제 계란 파동 등으로 씨끄러웠던 중 친환경업체한살림 등의 DDT파동으로...</td>\n",
       "      <td>기타</td>\n",
       "      <td>2017-08-25</td>\n",
       "    </tr>\n",
       "    <tr>\n",
       "      <td>3</td>\n",
       "      <td>길고양이들 밥주고있는 사람입니다. 최근에 동네주민과 트러블이 생겨 싸움이 일어났습니...</td>\n",
       "      <td>반려동물</td>\n",
       "      <td>2017-08-25</td>\n",
       "    </tr>\n",
       "    <tr>\n",
       "      <td>4</td>\n",
       "      <td>안녕하세요 지인분이 성관계 몰래카메라가 유출되어 방송통신 심의 위원회에 접수해서 처...</td>\n",
       "      <td>인권/성평등</td>\n",
       "      <td>2017-08-25</td>\n",
       "    </tr>\n",
       "  </tbody>\n",
       "</table>\n",
       "</div>"
      ],
      "text/plain": [
       "                                            contents category       begin\n",
       "0  안녕하세요. 현재 사대 교대 등 교원양성학교들의 예비교사들이 임용절벽에 매우 힘들어...    육아/교육  2017-08-25\n",
       "1  서울시에서는 10년부터 정수지와 배수지 청소용 화학제품인 세정제에 대하여 첨부 와 ...    안전/환경  2017-08-25\n",
       "2  얼마 전 살충제 계란 파동 등으로 씨끄러웠던 중 친환경업체한살림 등의 DDT파동으로...       기타  2017-08-25\n",
       "3  길고양이들 밥주고있는 사람입니다. 최근에 동네주민과 트러블이 생겨 싸움이 일어났습니...     반려동물  2017-08-25\n",
       "4  안녕하세요 지인분이 성관계 몰래카메라가 유출되어 방송통신 심의 위원회에 접수해서 처...   인권/성평등  2017-08-25"
      ]
     },
     "execution_count": 24,
     "metadata": {},
     "output_type": "execute_result"
    }
   ],
   "source": [
    "df.head(5)"
   ]
  },
  {
   "cell_type": "code",
   "execution_count": 25,
   "metadata": {},
   "outputs": [
    {
     "data": {
      "text/plain": [
       "436660"
      ]
     },
     "execution_count": 25,
     "metadata": {},
     "output_type": "execute_result"
    }
   ],
   "source": [
    "len(df)"
   ]
  },
  {
   "cell_type": "code",
   "execution_count": 26,
   "metadata": {
    "scrolled": true
   },
   "outputs": [
    {
     "data": {
      "text/plain": [
       "category\n",
       "경제민주화          17653\n",
       "교통/건축/국토       30301\n",
       "기타             54465\n",
       "농산어촌            2121\n",
       "문화/예술/체육/언론    19777\n",
       "미래             20265\n",
       "반려동물            4507\n",
       "보건복지           27139\n",
       "성장동력            7798\n",
       "안전/환경          35468\n",
       "외교/통일/국방       29002\n",
       "육아/교육          27426\n",
       "인권/성평등         39034\n",
       "일자리            25016\n",
       "저출산/고령화대책       4001\n",
       "정치개혁           70536\n",
       "행정             22151\n",
       "Name: category, dtype: int64"
      ]
     },
     "execution_count": 26,
     "metadata": {},
     "output_type": "execute_result"
    }
   ],
   "source": [
    "df.groupby('category')['category'].count()"
   ]
  },
  {
   "cell_type": "code",
   "execution_count": 27,
   "metadata": {},
   "outputs": [],
   "source": [
    "# 기타 항목 제거\n",
    "df = df.loc[df['category'] != '기타']"
   ]
  },
  {
   "cell_type": "code",
   "execution_count": 28,
   "metadata": {},
   "outputs": [
    {
     "data": {
      "text/plain": [
       "382195"
      ]
     },
     "execution_count": 28,
     "metadata": {},
     "output_type": "execute_result"
    }
   ],
   "source": [
    "len(df)"
   ]
  },
  {
   "cell_type": "code",
   "execution_count": 29,
   "metadata": {},
   "outputs": [],
   "source": [
    "'''category_dictionary = {\n",
    "    '경제민주화' : '0', \n",
    "    '교통/건축/국토' : '1', \n",
    "    '농산어촌' : '2',\n",
    "    '문화/예술/체육/언론' : '3',\n",
    "    '미래' : '4',\n",
    "    '반려동물' : '5',\n",
    "    '보건복지' : '6',\n",
    "    '성장동력' : '7',\n",
    "    '안전/환경' : '8',\n",
    "    '외교/통일/국방' : '9',\n",
    "    '육아/교육' : '10',\n",
    "    '인권/성평등' : '11',\n",
    "    '일자리' : '12',\n",
    "    '저출산/고령화대책' : '13',\n",
    "    '정치개혁' : '14',\n",
    "    '행정' : '15',\n",
    "    '기타' : '16',\n",
    "} '''\n",
    "\n",
    "category_dictionary = {\n",
    "    '경제민주화' : '0', \n",
    "    '교통/건축/국토' : '1', \n",
    "    '농산어촌' : '2',\n",
    "    '문화/예술/체육/언론' : '3',\n",
    "    '미래' : '4',\n",
    "    '반려동물' : '5',\n",
    "    '보건복지' : '6',\n",
    "    '성장동력' : '7',\n",
    "    '안전/환경' : '8',\n",
    "    '외교/통일/국방' : '9',\n",
    "    '육아/교육' : '10',\n",
    "    '인권/성평등' : '11',\n",
    "    '일자리' : '12',\n",
    "    '저출산/고령화대책' : '13',\n",
    "    '정치개혁' : '14',\n",
    "    '행정' : '15',\n",
    "} "
   ]
  },
  {
   "cell_type": "code",
   "execution_count": 30,
   "metadata": {},
   "outputs": [],
   "source": [
    "df['category_label'] = df['category'].map(category_dictionary)"
   ]
  },
  {
   "cell_type": "code",
   "execution_count": 31,
   "metadata": {},
   "outputs": [
    {
     "data": {
      "text/html": [
       "<div>\n",
       "<style scoped>\n",
       "    .dataframe tbody tr th:only-of-type {\n",
       "        vertical-align: middle;\n",
       "    }\n",
       "\n",
       "    .dataframe tbody tr th {\n",
       "        vertical-align: top;\n",
       "    }\n",
       "\n",
       "    .dataframe thead th {\n",
       "        text-align: right;\n",
       "    }\n",
       "</style>\n",
       "<table border=\"1\" class=\"dataframe\">\n",
       "  <thead>\n",
       "    <tr style=\"text-align: right;\">\n",
       "      <th></th>\n",
       "      <th>contents</th>\n",
       "      <th>category</th>\n",
       "      <th>begin</th>\n",
       "      <th>category_label</th>\n",
       "    </tr>\n",
       "  </thead>\n",
       "  <tbody>\n",
       "    <tr>\n",
       "      <td>0</td>\n",
       "      <td>안녕하세요. 현재 사대 교대 등 교원양성학교들의 예비교사들이 임용절벽에 매우 힘들어...</td>\n",
       "      <td>육아/교육</td>\n",
       "      <td>2017-08-25</td>\n",
       "      <td>10</td>\n",
       "    </tr>\n",
       "    <tr>\n",
       "      <td>1</td>\n",
       "      <td>서울시에서는 10년부터 정수지와 배수지 청소용 화학제품인 세정제에 대하여 첨부 와 ...</td>\n",
       "      <td>안전/환경</td>\n",
       "      <td>2017-08-25</td>\n",
       "      <td>8</td>\n",
       "    </tr>\n",
       "    <tr>\n",
       "      <td>3</td>\n",
       "      <td>길고양이들 밥주고있는 사람입니다. 최근에 동네주민과 트러블이 생겨 싸움이 일어났습니...</td>\n",
       "      <td>반려동물</td>\n",
       "      <td>2017-08-25</td>\n",
       "      <td>5</td>\n",
       "    </tr>\n",
       "    <tr>\n",
       "      <td>4</td>\n",
       "      <td>안녕하세요 지인분이 성관계 몰래카메라가 유출되어 방송통신 심의 위원회에 접수해서 처...</td>\n",
       "      <td>인권/성평등</td>\n",
       "      <td>2017-08-25</td>\n",
       "      <td>11</td>\n",
       "    </tr>\n",
       "    <tr>\n",
       "      <td>5</td>\n",
       "      <td>대통령님 민주주의 사회에서는 국공립과 사립은 공존하여 서로 경쟁 발전해야하며 시급한...</td>\n",
       "      <td>육아/교육</td>\n",
       "      <td>2017-08-25</td>\n",
       "      <td>10</td>\n",
       "    </tr>\n",
       "  </tbody>\n",
       "</table>\n",
       "</div>"
      ],
      "text/plain": [
       "                                            contents category       begin  \\\n",
       "0  안녕하세요. 현재 사대 교대 등 교원양성학교들의 예비교사들이 임용절벽에 매우 힘들어...    육아/교육  2017-08-25   \n",
       "1  서울시에서는 10년부터 정수지와 배수지 청소용 화학제품인 세정제에 대하여 첨부 와 ...    안전/환경  2017-08-25   \n",
       "3  길고양이들 밥주고있는 사람입니다. 최근에 동네주민과 트러블이 생겨 싸움이 일어났습니...     반려동물  2017-08-25   \n",
       "4  안녕하세요 지인분이 성관계 몰래카메라가 유출되어 방송통신 심의 위원회에 접수해서 처...   인권/성평등  2017-08-25   \n",
       "5  대통령님 민주주의 사회에서는 국공립과 사립은 공존하여 서로 경쟁 발전해야하며 시급한...    육아/교육  2017-08-25   \n",
       "\n",
       "  category_label  \n",
       "0             10  \n",
       "1              8  \n",
       "3              5  \n",
       "4             11  \n",
       "5             10  "
      ]
     },
     "execution_count": 31,
     "metadata": {},
     "output_type": "execute_result"
    }
   ],
   "source": [
    "df.head(5)"
   ]
  },
  {
   "cell_type": "code",
   "execution_count": 32,
   "metadata": {},
   "outputs": [],
   "source": [
    "df[\"contents_length\"]= df[\"contents\"].str.len() "
   ]
  },
  {
   "cell_type": "code",
   "execution_count": 33,
   "metadata": {},
   "outputs": [],
   "source": [
    "# contens 갯수 확인 후 제거\n",
    "df = df.loc[(df['contents_length'] > 20) & (df['contents_length'] < 30000)] "
   ]
  },
  {
   "cell_type": "code",
   "execution_count": 34,
   "metadata": {},
   "outputs": [
    {
     "data": {
      "text/plain": [
       "category\n",
       "경제민주화          17144\n",
       "교통/건축/국토       29739\n",
       "농산어촌            2061\n",
       "문화/예술/체육/언론    18984\n",
       "미래             18995\n",
       "반려동물            4326\n",
       "보건복지           26364\n",
       "성장동력            7423\n",
       "안전/환경          33964\n",
       "외교/통일/국방       28065\n",
       "육아/교육          26363\n",
       "인권/성평등         36811\n",
       "일자리            24459\n",
       "저출산/고령화대책       3930\n",
       "정치개혁           61882\n",
       "행정             21564\n",
       "Name: category, dtype: int64"
      ]
     },
     "execution_count": 34,
     "metadata": {},
     "output_type": "execute_result"
    }
   ],
   "source": [
    "df.groupby('category')['category'].count()"
   ]
  },
  {
   "cell_type": "code",
   "execution_count": 35,
   "metadata": {},
   "outputs": [
    {
     "data": {
      "text/html": [
       "<div>\n",
       "<style scoped>\n",
       "    .dataframe tbody tr th:only-of-type {\n",
       "        vertical-align: middle;\n",
       "    }\n",
       "\n",
       "    .dataframe tbody tr th {\n",
       "        vertical-align: top;\n",
       "    }\n",
       "\n",
       "    .dataframe thead th {\n",
       "        text-align: right;\n",
       "    }\n",
       "</style>\n",
       "<table border=\"1\" class=\"dataframe\">\n",
       "  <thead>\n",
       "    <tr style=\"text-align: right;\">\n",
       "      <th></th>\n",
       "      <th>contents</th>\n",
       "      <th>category</th>\n",
       "      <th>begin</th>\n",
       "      <th>category_label</th>\n",
       "      <th>contents_length</th>\n",
       "    </tr>\n",
       "  </thead>\n",
       "  <tbody>\n",
       "    <tr>\n",
       "      <td>29210</td>\n",
       "      <td>인면 수심의 조두순 출소를 반대합니다.</td>\n",
       "      <td>인권/성평등</td>\n",
       "      <td>2017-11-10</td>\n",
       "      <td>11</td>\n",
       "      <td>21</td>\n",
       "    </tr>\n",
       "    <tr>\n",
       "      <td>28063</td>\n",
       "      <td>인간도 아닌 놈 출소 절대 반대합니다.</td>\n",
       "      <td>인권/성평등</td>\n",
       "      <td>2017-11-09</td>\n",
       "      <td>11</td>\n",
       "      <td>21</td>\n",
       "    </tr>\n",
       "    <tr>\n",
       "      <td>122234</td>\n",
       "      <td>북 김영철 방남 허락은 제발 아주세요.</td>\n",
       "      <td>외교/통일/국방</td>\n",
       "      <td>2018-02-22</td>\n",
       "      <td>9</td>\n",
       "      <td>21</td>\n",
       "    </tr>\n",
       "    <tr>\n",
       "      <td>227068</td>\n",
       "      <td>외국인불법고용주 신고포상금제 청원합니다</td>\n",
       "      <td>일자리</td>\n",
       "      <td>2018-07-05</td>\n",
       "      <td>12</td>\n",
       "      <td>21</td>\n",
       "    </tr>\n",
       "    <tr>\n",
       "      <td>162877</td>\n",
       "      <td>현재 국회의원도 전수조사 해야 합니다.</td>\n",
       "      <td>정치개혁</td>\n",
       "      <td>2018-04-17</td>\n",
       "      <td>14</td>\n",
       "      <td>21</td>\n",
       "    </tr>\n",
       "    <tr>\n",
       "      <td>...</td>\n",
       "      <td>...</td>\n",
       "      <td>...</td>\n",
       "      <td>...</td>\n",
       "      <td>...</td>\n",
       "      <td>...</td>\n",
       "    </tr>\n",
       "    <tr>\n",
       "      <td>307863</td>\n",
       "      <td>저희 아버지의 억울함을 풀어주세요문화재로 인한 국가의 세금갑질 분야 경제 민주화대...</td>\n",
       "      <td>경제민주화</td>\n",
       "      <td>2018-10-10</td>\n",
       "      <td>0</td>\n",
       "      <td>28295</td>\n",
       "    </tr>\n",
       "    <tr>\n",
       "      <td>235017</td>\n",
       "      <td>대한민국 문화계 체육계 언론계 관련 모든 관계자 여러분 제 작성한 이 긴 청원글을 ...</td>\n",
       "      <td>문화/예술/체육/언론</td>\n",
       "      <td>2018-07-14</td>\n",
       "      <td>3</td>\n",
       "      <td>28851</td>\n",
       "    </tr>\n",
       "    <tr>\n",
       "      <td>355845</td>\n",
       "      <td>2017 우리나라 합계 출산율 1.05명 강신욱 통계청장은 최근 2018년 합계출산...</td>\n",
       "      <td>정치개혁</td>\n",
       "      <td>2018-12-10</td>\n",
       "      <td>14</td>\n",
       "      <td>28871</td>\n",
       "    </tr>\n",
       "    <tr>\n",
       "      <td>150077</td>\n",
       "      <td>우리가 잊어버리고 있는 질문 한 개 지 올리겠습니다. 왜 투표을 하시나요? 곰곰히 ...</td>\n",
       "      <td>미래</td>\n",
       "      <td>2018-04-01</td>\n",
       "      <td>4</td>\n",
       "      <td>29223</td>\n",
       "    </tr>\n",
       "    <tr>\n",
       "      <td>353823</td>\n",
       "      <td>이제껏 범죄 피해자 및 피해자 김승기의 의견을 거의 전부 종합해 보면 책몇권은 되겠...</td>\n",
       "      <td>인권/성평등</td>\n",
       "      <td>2018-12-07</td>\n",
       "      <td>11</td>\n",
       "      <td>29603</td>\n",
       "    </tr>\n",
       "  </tbody>\n",
       "</table>\n",
       "<p>362074 rows × 5 columns</p>\n",
       "</div>"
      ],
      "text/plain": [
       "                                                 contents     category  \\\n",
       "29210                               인면 수심의 조두순 출소를 반대합니다.       인권/성평등   \n",
       "28063                               인간도 아닌 놈 출소 절대 반대합니다.       인권/성평등   \n",
       "122234                              북 김영철 방남 허락은 제발 아주세요.     외교/통일/국방   \n",
       "227068                              외국인불법고용주 신고포상금제 청원합니다          일자리   \n",
       "162877                              현재 국회의원도 전수조사 해야 합니다.         정치개혁   \n",
       "...                                                   ...          ...   \n",
       "307863   저희 아버지의 억울함을 풀어주세요문화재로 인한 국가의 세금갑질 분야 경제 민주화대...        경제민주화   \n",
       "235017  대한민국 문화계 체육계 언론계 관련 모든 관계자 여러분 제 작성한 이 긴 청원글을 ...  문화/예술/체육/언론   \n",
       "355845  2017 우리나라 합계 출산율 1.05명 강신욱 통계청장은 최근 2018년 합계출산...         정치개혁   \n",
       "150077  우리가 잊어버리고 있는 질문 한 개 지 올리겠습니다. 왜 투표을 하시나요? 곰곰히 ...           미래   \n",
       "353823  이제껏 범죄 피해자 및 피해자 김승기의 의견을 거의 전부 종합해 보면 책몇권은 되겠...       인권/성평등   \n",
       "\n",
       "             begin category_label  contents_length  \n",
       "29210   2017-11-10             11               21  \n",
       "28063   2017-11-09             11               21  \n",
       "122234  2018-02-22              9               21  \n",
       "227068  2018-07-05             12               21  \n",
       "162877  2018-04-17             14               21  \n",
       "...            ...            ...              ...  \n",
       "307863  2018-10-10              0            28295  \n",
       "235017  2018-07-14              3            28851  \n",
       "355845  2018-12-10             14            28871  \n",
       "150077  2018-04-01              4            29223  \n",
       "353823  2018-12-07             11            29603  \n",
       "\n",
       "[362074 rows x 5 columns]"
      ]
     },
     "execution_count": 35,
     "metadata": {},
     "output_type": "execute_result"
    }
   ],
   "source": [
    "df.sort_values(by=['contents_length'])"
   ]
  },
  {
   "cell_type": "code",
   "execution_count": 36,
   "metadata": {},
   "outputs": [],
   "source": [
    "df = shuffle(df)"
   ]
  },
  {
   "cell_type": "code",
   "execution_count": 37,
   "metadata": {},
   "outputs": [
    {
     "data": {
      "text/html": [
       "<div>\n",
       "<style scoped>\n",
       "    .dataframe tbody tr th:only-of-type {\n",
       "        vertical-align: middle;\n",
       "    }\n",
       "\n",
       "    .dataframe tbody tr th {\n",
       "        vertical-align: top;\n",
       "    }\n",
       "\n",
       "    .dataframe thead th {\n",
       "        text-align: right;\n",
       "    }\n",
       "</style>\n",
       "<table border=\"1\" class=\"dataframe\">\n",
       "  <thead>\n",
       "    <tr style=\"text-align: right;\">\n",
       "      <th></th>\n",
       "      <th>contents</th>\n",
       "      <th>category</th>\n",
       "      <th>begin</th>\n",
       "      <th>category_label</th>\n",
       "      <th>contents_length</th>\n",
       "    </tr>\n",
       "  </thead>\n",
       "  <tbody>\n",
       "    <tr>\n",
       "      <td>289026</td>\n",
       "      <td>입법도 없고 . 사법도 없고. 행정도 없고. 오로지 서민 갉아먹는 금수들의 세상. ...</td>\n",
       "      <td>미래</td>\n",
       "      <td>2018-09-12</td>\n",
       "      <td>4</td>\n",
       "      <td>78</td>\n",
       "    </tr>\n",
       "    <tr>\n",
       "      <td>227963</td>\n",
       "      <td>대우조선노조현대자동차 노조.도대체 얼마를 받고일하길래.맨날 임금올려달라고 투쟁이나하...</td>\n",
       "      <td>일자리</td>\n",
       "      <td>2018-07-05</td>\n",
       "      <td>12</td>\n",
       "      <td>273</td>\n",
       "    </tr>\n",
       "    <tr>\n",
       "      <td>171122</td>\n",
       "      <td>지상파 방송과 종편채널 모두가 하루종이 문대통령과 김정은의 대한 이얘기도 채널들이 ...</td>\n",
       "      <td>인권/성평등</td>\n",
       "      <td>2018-04-27</td>\n",
       "      <td>11</td>\n",
       "      <td>180</td>\n",
       "    </tr>\n",
       "    <tr>\n",
       "      <td>427736</td>\n",
       "      <td>IMF 권고를 뛰어넘는 담대한 BOLD 추경을 하루 속히 편성 집행하라! 2019년...</td>\n",
       "      <td>성장동력</td>\n",
       "      <td>2019-03-21</td>\n",
       "      <td>7</td>\n",
       "      <td>1015</td>\n",
       "    </tr>\n",
       "    <tr>\n",
       "      <td>132067</td>\n",
       "      <td>아시다시피 현 수능국어에는 파트가 5개입니다. 화법작문문법문학독서 이렇게요. 그런데...</td>\n",
       "      <td>육아/교육</td>\n",
       "      <td>2018-03-06</td>\n",
       "      <td>10</td>\n",
       "      <td>1128</td>\n",
       "    </tr>\n",
       "  </tbody>\n",
       "</table>\n",
       "</div>"
      ],
      "text/plain": [
       "                                                 contents category  \\\n",
       "289026  입법도 없고 . 사법도 없고. 행정도 없고. 오로지 서민 갉아먹는 금수들의 세상. ...       미래   \n",
       "227963  대우조선노조현대자동차 노조.도대체 얼마를 받고일하길래.맨날 임금올려달라고 투쟁이나하...      일자리   \n",
       "171122  지상파 방송과 종편채널 모두가 하루종이 문대통령과 김정은의 대한 이얘기도 채널들이 ...   인권/성평등   \n",
       "427736  IMF 권고를 뛰어넘는 담대한 BOLD 추경을 하루 속히 편성 집행하라! 2019년...     성장동력   \n",
       "132067  아시다시피 현 수능국어에는 파트가 5개입니다. 화법작문문법문학독서 이렇게요. 그런데...    육아/교육   \n",
       "\n",
       "             begin category_label  contents_length  \n",
       "289026  2018-09-12              4               78  \n",
       "227963  2018-07-05             12              273  \n",
       "171122  2018-04-27             11              180  \n",
       "427736  2019-03-21              7             1015  \n",
       "132067  2018-03-06             10             1128  "
      ]
     },
     "execution_count": 37,
     "metadata": {},
     "output_type": "execute_result"
    }
   ],
   "source": [
    "df.head(5)"
   ]
  },
  {
   "cell_type": "code",
   "execution_count": 68,
   "metadata": {},
   "outputs": [],
   "source": [
    "df_fair = df.loc[(df['category_label'] == '2') | (df['category_label'] == '5') | (df['category_label'] == '7') | (df['category_label'] == '13')] "
   ]
  },
  {
   "cell_type": "code",
   "execution_count": 69,
   "metadata": {},
   "outputs": [
    {
     "data": {
      "text/plain": [
       "17740"
      ]
     },
     "execution_count": 69,
     "metadata": {},
     "output_type": "execute_result"
    }
   ],
   "source": [
    "len(df_fair)"
   ]
  },
  {
   "cell_type": "code",
   "execution_count": 70,
   "metadata": {},
   "outputs": [],
   "source": [
    "df_fair = df_fair.append(df.loc[(df['category_label'] == '0')].iloc[:7688])\n",
    "df_fair = df_fair.append(df.loc[(df['category_label'] == '1')].iloc[:7688])\n",
    "df_fair = df_fair.append(df.loc[(df['category_label'] == '3')].iloc[:7688])\n",
    "df_fair = df_fair.append(df.loc[(df['category_label'] == '4')].iloc[:7688])\n",
    "df_fair = df_fair.append(df.loc[(df['category_label'] == '6')].iloc[:7688])\n",
    "df_fair = df_fair.append(df.loc[(df['category_label'] == '8')].iloc[:7688])\n",
    "df_fair = df_fair.append(df.loc[(df['category_label'] == '9')].iloc[:7688])\n",
    "df_fair = df_fair.append(df.loc[(df['category_label'] == '10')].iloc[:7688])\n",
    "df_fair = df_fair.append(df.loc[(df['category_label'] == '11')].iloc[:7688])\n",
    "df_fair = df_fair.append(df.loc[(df['category_label'] == '12')].iloc[:7688])\n",
    "df_fair = df_fair.append(df.loc[(df['category_label'] == '14')].iloc[:7688])\n",
    "df_fair = df_fair.append(df.loc[(df['category_label'] == '15')].iloc[:7688])"
   ]
  },
  {
   "cell_type": "code",
   "execution_count": 71,
   "metadata": {},
   "outputs": [
    {
     "data": {
      "text/plain": [
       "109996"
      ]
     },
     "execution_count": 71,
     "metadata": {},
     "output_type": "execute_result"
    }
   ],
   "source": [
    "len(df_fair)"
   ]
  },
  {
   "cell_type": "code",
   "execution_count": 72,
   "metadata": {},
   "outputs": [
    {
     "data": {
      "text/plain": [
       "category\n",
       "경제민주화          7688\n",
       "교통/건축/국토       7688\n",
       "농산어촌           2061\n",
       "문화/예술/체육/언론    7688\n",
       "미래             7688\n",
       "반려동물           4326\n",
       "보건복지           7688\n",
       "성장동력           7423\n",
       "안전/환경          7688\n",
       "외교/통일/국방       7688\n",
       "육아/교육          7688\n",
       "인권/성평등         7688\n",
       "일자리            7688\n",
       "저출산/고령화대책      3930\n",
       "정치개혁           7688\n",
       "행정             7688\n",
       "Name: category, dtype: int64"
      ]
     },
     "execution_count": 72,
     "metadata": {},
     "output_type": "execute_result"
    }
   ],
   "source": [
    "df_fair.groupby('category')['category'].count()"
   ]
  },
  {
   "cell_type": "code",
   "execution_count": 77,
   "metadata": {},
   "outputs": [],
   "source": [
    "df_fair = shuffle(df_fair)"
   ]
  },
  {
   "cell_type": "code",
   "execution_count": 78,
   "metadata": {},
   "outputs": [],
   "source": [
    "df_dev = df_fair.iloc[:10000]\n",
    "df_train = df_fair.iloc[10000:]"
   ]
  },
  {
   "cell_type": "code",
   "execution_count": 79,
   "metadata": {},
   "outputs": [
    {
     "name": "stdout",
     "output_type": "stream",
     "text": [
      "99996\n",
      "10000\n",
      "109996\n"
     ]
    }
   ],
   "source": [
    "print(len(df_train))\n",
    "print(len(df_dev))\n",
    "print(len(df_train)+len(df_dev))"
   ]
  },
  {
   "cell_type": "code",
   "execution_count": 80,
   "metadata": {},
   "outputs": [
    {
     "data": {
      "text/plain": [
       "category\n",
       "경제민주화          6985\n",
       "교통/건축/국토       6952\n",
       "농산어촌           1863\n",
       "문화/예술/체육/언론    6976\n",
       "미래             6990\n",
       "반려동물           3955\n",
       "보건복지           6952\n",
       "성장동력           6788\n",
       "안전/환경          6977\n",
       "외교/통일/국방       7033\n",
       "육아/교육          6965\n",
       "인권/성평등         7013\n",
       "일자리            7014\n",
       "저출산/고령화대책      3562\n",
       "정치개혁           6993\n",
       "행정             6978\n",
       "Name: category, dtype: int64"
      ]
     },
     "execution_count": 80,
     "metadata": {},
     "output_type": "execute_result"
    }
   ],
   "source": [
    "df_train.groupby('category')['category'].count()"
   ]
  },
  {
   "cell_type": "code",
   "execution_count": 81,
   "metadata": {},
   "outputs": [
    {
     "data": {
      "text/plain": [
       "category\n",
       "경제민주화          703\n",
       "교통/건축/국토       736\n",
       "농산어촌           198\n",
       "문화/예술/체육/언론    712\n",
       "미래             698\n",
       "반려동물           371\n",
       "보건복지           736\n",
       "성장동력           635\n",
       "안전/환경          711\n",
       "외교/통일/국방       655\n",
       "육아/교육          723\n",
       "인권/성평등         675\n",
       "일자리            674\n",
       "저출산/고령화대책      368\n",
       "정치개혁           695\n",
       "행정             710\n",
       "Name: category, dtype: int64"
      ]
     },
     "execution_count": 81,
     "metadata": {},
     "output_type": "execute_result"
    }
   ],
   "source": [
    "df_dev.groupby('category')['category'].count()"
   ]
  },
  {
   "cell_type": "code",
   "execution_count": 82,
   "metadata": {},
   "outputs": [],
   "source": [
    "train_file_path = \"data/petitions/petition.mcc.fair.train\"\n",
    "dev_file_path = \"data/petitions/petition.mcc.fair.dev\"\n",
    "df_train.to_csv(train_file_path, columns=['contents','category_label'],sep='\\t')\n",
    "df_dev.to_csv(dev_file_path, columns=['contents','category_label'],sep='\\t')"
   ]
  },
  {
   "cell_type": "code",
   "execution_count": null,
   "metadata": {},
   "outputs": [],
   "source": []
  }
 ],
 "metadata": {
  "kernelspec": {
   "display_name": "Python 3",
   "language": "python",
   "name": "python3"
  },
  "language_info": {
   "codemirror_mode": {
    "name": "ipython",
    "version": 3
   },
   "file_extension": ".py",
   "mimetype": "text/x-python",
   "name": "python",
   "nbconvert_exporter": "python",
   "pygments_lexer": "ipython3",
   "version": "3.7.4"
  }
 },
 "nbformat": 4,
 "nbformat_minor": 2
}
