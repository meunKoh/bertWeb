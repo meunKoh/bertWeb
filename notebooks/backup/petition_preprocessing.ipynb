{
 "cells": [
  {
   "cell_type": "code",
   "execution_count": 1,
   "metadata": {},
   "outputs": [],
   "source": [
    "import json\n",
    "#from bs4 import BeautifulSoup"
   ]
  },
  {
   "cell_type": "code",
   "execution_count": 2,
   "metadata": {},
   "outputs": [],
   "source": [
    "import re\n",
    "\n",
    "def clean_str(text):\n",
    "    pattern = '([a-zA-Z0-9_.+-]+@[a-zA-Z0-9-]+\\.[a-zA-Z0-9-.]+)' # E-mail제거\n",
    "    text = re.sub(pattern=pattern, repl='', string=text)\n",
    "    pattern = '(http|ftp|https)://(?:[-\\w.]|(?:%[\\da-fA-F]{2}))+' # URL제거\n",
    "    text = re.sub(pattern=pattern, repl='', string=text)\n",
    "    pattern = '([ㄱ-ㅎㅏ-ㅣ]+)'  # 한글 자음, 모음 제거\n",
    "    text = re.sub(pattern=pattern, repl='', string=text)\n",
    "    pattern = '<[^>]*>'         # HTML 태그 제거\n",
    "    text = re.sub(pattern=pattern, repl='', string=text)\n",
    "    pattern = '[^\\w\\s.?!]'         # 특수기호제거\n",
    "    text = re.sub(pattern=pattern, repl='', string=text)\n",
    "    return text  "
   ]
  },
  {
   "cell_type": "code",
   "execution_count": 3,
   "metadata": {},
   "outputs": [
    {
     "data": {
      "text/plain": [
       "'C:\\\\Users\\\\alpha'"
      ]
     },
     "execution_count": 3,
     "metadata": {},
     "output_type": "execute_result"
    }
   ],
   "source": [
    "pwd()"
   ]
  },
  {
   "cell_type": "code",
   "execution_count": 2,
   "metadata": {},
   "outputs": [
    {
     "ename": "FileNotFoundError",
     "evalue": "[Errno 2] No such file or directory: 'data/petitions/petitions_2019-01'",
     "output_type": "error",
     "traceback": [
      "\u001b[1;31m---------------------------------------------------------------------------\u001b[0m",
      "\u001b[1;31mFileNotFoundError\u001b[0m                         Traceback (most recent call last)",
      "\u001b[1;32m<ipython-input-2-e8e0c57ce675>\u001b[0m in \u001b[0;36m<module>\u001b[1;34m\u001b[0m\n\u001b[0;32m      1\u001b[0m \u001b[0mfile_name\u001b[0m \u001b[1;33m=\u001b[0m \u001b[1;34m'data/petitions/petitions_2019-01'\u001b[0m\u001b[1;33m\u001b[0m\u001b[1;33m\u001b[0m\u001b[0m\n\u001b[1;32m----> 2\u001b[1;33m \u001b[1;32mwith\u001b[0m \u001b[0mopen\u001b[0m\u001b[1;33m(\u001b[0m\u001b[0mfile_name\u001b[0m\u001b[1;33m,\u001b[0m \u001b[1;34m\"r\"\u001b[0m\u001b[1;33m,\u001b[0m \u001b[0mencoding\u001b[0m\u001b[1;33m=\u001b[0m\u001b[1;34m'utf-8'\u001b[0m\u001b[1;33m,\u001b[0m \u001b[0merrors\u001b[0m\u001b[1;33m=\u001b[0m\u001b[1;34m'ignore'\u001b[0m\u001b[1;33m)\u001b[0m \u001b[1;32mas\u001b[0m \u001b[0mfile\u001b[0m\u001b[1;33m:\u001b[0m\u001b[1;33m\u001b[0m\u001b[1;33m\u001b[0m\u001b[0m\n\u001b[0m\u001b[0;32m      3\u001b[0m     \u001b[0mdatas\u001b[0m \u001b[1;33m=\u001b[0m \u001b[0mfile\u001b[0m\u001b[1;33m.\u001b[0m\u001b[0mreadlines\u001b[0m\u001b[1;33m(\u001b[0m\u001b[1;33m)\u001b[0m\u001b[1;33m\u001b[0m\u001b[1;33m\u001b[0m\u001b[0m\n",
      "\u001b[1;31mFileNotFoundError\u001b[0m: [Errno 2] No such file or directory: 'data/petitions/petitions_2019-01'"
     ]
    }
   ],
   "source": [
    "file_name = 'data/petitions/petitions_2019-01'\n",
    "with open(file_name, \"r\", encoding='utf-8', errors='ignore') as file:\n",
    "    datas = file.readlines()"
   ]
  },
  {
   "cell_type": "markdown",
   "metadata": {},
   "source": [
    "# 1. Language model data 생성"
   ]
  },
  {
   "cell_type": "markdown",
   "metadata": {},
   "source": [
    "### 1.1 데이터 탐색"
   ]
  },
  {
   "cell_type": "code",
   "execution_count": 5,
   "metadata": {},
   "outputs": [
    {
     "name": "stdout",
     "output_type": "stream",
     "text": [
      "<class 'list'> 12221\n"
     ]
    }
   ],
   "source": [
    "print(type(datas), len(datas))"
   ]
  },
  {
   "cell_type": "code",
   "execution_count": 6,
   "metadata": {},
   "outputs": [
    {
     "data": {
      "text/plain": [
       "'{\"category\": \"성장동력\", \"begin\": \"2019-01-01\", \"end\": \"2019-01-31\", \"content\": \"국민과 소통하시고 자유롭고 행복한 나라를 만들기 위해 힘쓰고 계신 대통령께 존경과 찬사를 올립니다. 기해년 새해 복 많이 받으십시오. 저는 경북 울진군 북면 부구검성로 12번지에 살고 있는 북면발전협의회장 이희국이라고 합니다. 저는 8기의 원전이 가동․건설되고 있는 이곳 북면에 태어나 68년째 거주하고 있는 원전지역 주민입니다. 간절한 마음을 담아 대통령께 다음과 같이 호소 드립니다. ‘울진군민과 약속한 신한울 3,4호기 원전건설을 재개해 주십시오.’ 여태껏 단 한 번도 원전 건설을 원한 적 없는 제가 신한울 3,4호기 원전 건설을 청하는 까닭을 말씀드리겠습니다. 경상북도 동해안 최북단 울진군은 예부터 산과 바다, 계곡의 울창함이 보배처럼 아름답다하여 “울진(蔚珍)”이라는 지명을 간직하게 된 곳입니다. 이러한 곳에 1981년 원전사업의 시작으로 울진군에 북면(6기), 산포지구(6기), 직산지구(6기)가 원전 예정지역으로 지정되면서, 먼저 북면 부구리 지역에 원전 6기가 건설되었습니다. 해안선이 잘려나가고 마을 한복판에 고압 송전탑이 들어섰습니다. 어장이 파괴되고 지역 특산품에 방사능 꼬리표가 붙었습니다. 삶의 터전이 무너졌으며 선량한 울진군민은 원전반대 시위를 했다는 이유로 범죄자가 되었습니다. 그러던 지난 1999년 정부는 산포지구에 전원개발사업예정구역 지정고시 강행 통보를 통해 추가원전을 건설하려 했습니다. 저를 비롯한 모든 지역주민이 결사반대 투쟁을 했지만 정부는 일방적이었습니다. 울진군민과 정부(산업부 장관, 한수원 사장)의 오랜 협의결과, 산포지구(6기), 직산지구(6기)를 해제하는 조건으로 ‘신규원전 4개호기 건설을 마지막으로 더 이상의 원전 관련 시설을 건설하지 않겠다’는 약속을 함으로써, 북면 부구리 기존 지구에 4기의 추가 원전건설을 수용했습니다. 그것이 바로 신한울 1,2,3,4호기였고 정부와 울진군민이 합의한 약속이었습니다. 울진군민은 정부와의 약속에 따라 신한울 1,2,3,4호기 건설에 적극 협조했습니다. 2010년 신한울 1,2호기가 착공했고, 2017년 신한울 3,4호기가 발전사업허가를 받아 착공을 앞두고 있었습니다. 하지만 2017년 10월 24일 정부는 아무런 법적절차 없이 국무회의에서 신한울 3,4호기 건설을 백지화 했습니다. 울진군민에게는 어떠한 의견도 물어보지 않았습니다. 단 한 번의 공청회도 개최하지 않았습니다. 그 어떤 공론화 과정도 거치지 않은 채 일방적으로 신한울 3,4호기 건설을 백지화 했습니다. 지난 40여 년에 걸친 정부의 일방적 에너지 정책에 따라 북면을 비롯한 울진군 지역은 오래전부터 원전의존형 경제구조로 고착화되었습니다.그렇기 때문에 갑작스러운 신한울 3,4호기 건설 중단에 따라 정부 약속만을 믿은 저와 지역주민들은 현재 심각한 피해를 입고 있습니다. 정부의 신한울 3,4호기 백지화 발표 이후 유동인구가 한 달 사이에 3천~4천명 정도 빠져나가고 수천개의 일자리가 사라졌습니다. 경기가 침체되고 지역산업이 붕괴되었습니다. 건설 중인 임대주택은 준공도 못한 채 흉물로 방치되고 있습니다. 기존 공동주택 단지는 유령주택가가 되어 암흑을 맞고 있습니다. 종잣돈을 모아 차린 식당들은 손님이 없어 문을 닫고 있습니다. 건설장비를 구입한 사람은 할부값을 갚지 못해 다시 되팔아야 할 지경입니다. 신한울 3,4호기 건설에 따른 기대심리로 건설한 임대주택, 식당, 상가와 건설업체가 도미노식 연쇄파산을 맞고 있습니다. 존경하는 대통령님, 정치권에서는 ‘탈원전 반대’또는 ‘재앙적 탈원전’이라는 용어로 에너지정책을 비방하는 것을 뉴스를 통해 보았습니다. 저는 정치적 논리는 잘 모릅니다. 정치적 논리로 인해 열심히 살아가고 있는 울진군민들이 또 다시 희생되기를 원하지 않습니다. 단지 저와 지역 주민들은 원전 축소시대에 따른 피해를 최소화하고 원자력이 더 이상 건설되지 않는 환경에 점진적으로 적응할 수 있도록 신한울 3,4호기가 약속대로 건설되길 바랄 뿐입니다. 친애하는 대통령님, 울진군민은 지난 40여 년간 국가 에너지 정책에 일방적으로 희생되어 왔습니다. 부디 소통하고 대화해 주십시오. 지역주민의 목소리에 귀 기울여 주십시오. 지난 정부(김대중, 노무현 대통령)가 약속한 사항입니다. 대통령은 바뀌었지만 국민은 바뀌지 않았기에 약속은 지켜야 된다고 생각합니다. 약속을 지키는 대통령의 모습을 보여주십시오. 간곡히 호소 드립니다. 2019년 기해년 새해에는 울진군민과 약속한 신한울 3,4호기 건설을 반드시 재개해 주십시오. 북면발전협의회장 이희국 올림\", \"num_agree\": 521, \"petition_idx\": \"483907\", \"status\": \"청원종료\", \"title\": \"울진군민과 약속한 신한울 3,4호기 원전 건설을 조속히 재개해 주십시오.\"}\\n'"
      ]
     },
     "execution_count": 6,
     "metadata": {},
     "output_type": "execute_result"
    }
   ],
   "source": [
    "datas[0]"
   ]
  },
  {
   "cell_type": "code",
   "execution_count": 7,
   "metadata": {},
   "outputs": [],
   "source": [
    "data = json.loads(datas[0])"
   ]
  },
  {
   "cell_type": "code",
   "execution_count": 8,
   "metadata": {},
   "outputs": [
    {
     "data": {
      "text/plain": [
       "dict_keys(['category', 'begin', 'end', 'content', 'num_agree', 'petition_idx', 'status', 'title'])"
      ]
     },
     "execution_count": 8,
     "metadata": {},
     "output_type": "execute_result"
    }
   ],
   "source": [
    "data.keys()"
   ]
  },
  {
   "cell_type": "code",
   "execution_count": 9,
   "metadata": {},
   "outputs": [
    {
     "data": {
      "text/plain": [
       "'국민과 소통하시고 자유롭고 행복한 나라를 만들기 위해 힘쓰고 계신 대통령께 존경과 찬사를 올립니다. 기해년 새해 복 많이 받으십시오. 저는 경북 울진군 북면 부구검성로 12번지에 살고 있는 북면발전협의회장 이희국이라고 합니다. 저는 8기의 원전이 가동․건설되고 있는 이곳 북면에 태어나 68년째 거주하고 있는 원전지역 주민입니다. 간절한 마음을 담아 대통령께 다음과 같이 호소 드립니다. ‘울진군민과 약속한 신한울 3,4호기 원전건설을 재개해 주십시오.’ 여태껏 단 한 번도 원전 건설을 원한 적 없는 제가 신한울 3,4호기 원전 건설을 청하는 까닭을 말씀드리겠습니다. 경상북도 동해안 최북단 울진군은 예부터 산과 바다, 계곡의 울창함이 보배처럼 아름답다하여 “울진(蔚珍)”이라는 지명을 간직하게 된 곳입니다. 이러한 곳에 1981년 원전사업의 시작으로 울진군에 북면(6기), 산포지구(6기), 직산지구(6기)가 원전 예정지역으로 지정되면서, 먼저 북면 부구리 지역에 원전 6기가 건설되었습니다. 해안선이 잘려나가고 마을 한복판에 고압 송전탑이 들어섰습니다. 어장이 파괴되고 지역 특산품에 방사능 꼬리표가 붙었습니다. 삶의 터전이 무너졌으며 선량한 울진군민은 원전반대 시위를 했다는 이유로 범죄자가 되었습니다. 그러던 지난 1999년 정부는 산포지구에 전원개발사업예정구역 지정고시 강행 통보를 통해 추가원전을 건설하려 했습니다. 저를 비롯한 모든 지역주민이 결사반대 투쟁을 했지만 정부는 일방적이었습니다. 울진군민과 정부(산업부 장관, 한수원 사장)의 오랜 협의결과, 산포지구(6기), 직산지구(6기)를 해제하는 조건으로 ‘신규원전 4개호기 건설을 마지막으로 더 이상의 원전 관련 시설을 건설하지 않겠다’는 약속을 함으로써, 북면 부구리 기존 지구에 4기의 추가 원전건설을 수용했습니다. 그것이 바로 신한울 1,2,3,4호기였고 정부와 울진군민이 합의한 약속이었습니다. 울진군민은 정부와의 약속에 따라 신한울 1,2,3,4호기 건설에 적극 협조했습니다. 2010년 신한울 1,2호기가 착공했고, 2017년 신한울 3,4호기가 발전사업허가를 받아 착공을 앞두고 있었습니다. 하지만 2017년 10월 24일 정부는 아무런 법적절차 없이 국무회의에서 신한울 3,4호기 건설을 백지화 했습니다. 울진군민에게는 어떠한 의견도 물어보지 않았습니다. 단 한 번의 공청회도 개최하지 않았습니다. 그 어떤 공론화 과정도 거치지 않은 채 일방적으로 신한울 3,4호기 건설을 백지화 했습니다. 지난 40여 년에 걸친 정부의 일방적 에너지 정책에 따라 북면을 비롯한 울진군 지역은 오래전부터 원전의존형 경제구조로 고착화되었습니다.그렇기 때문에 갑작스러운 신한울 3,4호기 건설 중단에 따라 정부 약속만을 믿은 저와 지역주민들은 현재 심각한 피해를 입고 있습니다. 정부의 신한울 3,4호기 백지화 발표 이후 유동인구가 한 달 사이에 3천~4천명 정도 빠져나가고 수천개의 일자리가 사라졌습니다. 경기가 침체되고 지역산업이 붕괴되었습니다. 건설 중인 임대주택은 준공도 못한 채 흉물로 방치되고 있습니다. 기존 공동주택 단지는 유령주택가가 되어 암흑을 맞고 있습니다. 종잣돈을 모아 차린 식당들은 손님이 없어 문을 닫고 있습니다. 건설장비를 구입한 사람은 할부값을 갚지 못해 다시 되팔아야 할 지경입니다. 신한울 3,4호기 건설에 따른 기대심리로 건설한 임대주택, 식당, 상가와 건설업체가 도미노식 연쇄파산을 맞고 있습니다. 존경하는 대통령님, 정치권에서는 ‘탈원전 반대’또는 ‘재앙적 탈원전’이라는 용어로 에너지정책을 비방하는 것을 뉴스를 통해 보았습니다. 저는 정치적 논리는 잘 모릅니다. 정치적 논리로 인해 열심히 살아가고 있는 울진군민들이 또 다시 희생되기를 원하지 않습니다. 단지 저와 지역 주민들은 원전 축소시대에 따른 피해를 최소화하고 원자력이 더 이상 건설되지 않는 환경에 점진적으로 적응할 수 있도록 신한울 3,4호기가 약속대로 건설되길 바랄 뿐입니다. 친애하는 대통령님, 울진군민은 지난 40여 년간 국가 에너지 정책에 일방적으로 희생되어 왔습니다. 부디 소통하고 대화해 주십시오. 지역주민의 목소리에 귀 기울여 주십시오. 지난 정부(김대중, 노무현 대통령)가 약속한 사항입니다. 대통령은 바뀌었지만 국민은 바뀌지 않았기에 약속은 지켜야 된다고 생각합니다. 약속을 지키는 대통령의 모습을 보여주십시오. 간곡히 호소 드립니다. 2019년 기해년 새해에는 울진군민과 약속한 신한울 3,4호기 건설을 반드시 재개해 주십시오. 북면발전협의회장 이희국 올림'"
      ]
     },
     "execution_count": 9,
     "metadata": {},
     "output_type": "execute_result"
    }
   ],
   "source": [
    "data['content']"
   ]
  },
  {
   "cell_type": "markdown",
   "metadata": {},
   "source": [
    "### 1.2 Language model training data 생성"
   ]
  },
  {
   "cell_type": "markdown",
   "metadata": {},
   "source": [
    "### nltk sentense spliter"
   ]
  },
  {
   "cell_type": "code",
   "execution_count": 10,
   "metadata": {},
   "outputs": [],
   "source": [
    "import nltk"
   ]
  },
  {
   "cell_type": "code",
   "execution_count": 11,
   "metadata": {},
   "outputs": [
    {
     "name": "stderr",
     "output_type": "stream",
     "text": [
      "[nltk_data] Downloading package punkt to\n",
      "[nltk_data]     C:\\Users\\alpha\\AppData\\Roaming\\nltk_data...\n",
      "[nltk_data]   Package punkt is already up-to-date!\n"
     ]
    },
    {
     "data": {
      "text/plain": [
       "True"
      ]
     },
     "execution_count": 11,
     "metadata": {},
     "output_type": "execute_result"
    }
   ],
   "source": [
    "nltk.download('punkt')"
   ]
  },
  {
   "cell_type": "code",
   "execution_count": 12,
   "metadata": {},
   "outputs": [],
   "source": [
    "from nltk.tokenize import sent_tokenize"
   ]
  },
  {
   "cell_type": "code",
   "execution_count": 13,
   "metadata": {},
   "outputs": [
    {
     "name": "stdout",
     "output_type": "stream",
     "text": [
      "0 국민과 소통하시고 자유롭고 행복한 나라를 만들기 위해 힘쓰고 계신 대통령께 존경과 찬사를 올립니다.\n",
      "1 기해년 새해 복 많이 받으십시오.\n",
      "2 저는 경북 울진군 북면 부구검성로 12번지에 살고 있는 북면발전협의회장 이희국이라고 합니다.\n",
      "3 저는 8기의 원전이 가동․건설되고 있는 이곳 북면에 태어나 68년째 거주하고 있는 원전지역 주민입니다.\n",
      "4 간절한 마음을 담아 대통령께 다음과 같이 호소 드립니다.\n",
      "5 ‘울진군민과 약속한 신한울 3,4호기 원전건설을 재개해 주십시오.’ 여태껏 단 한 번도 원전 건설을 원한 적 없는 제가 신한울 3,4호기 원전 건설을 청하는 까닭을 말씀드리겠습니다.\n",
      "6 경상북도 동해안 최북단 울진군은 예부터 산과 바다, 계곡의 울창함이 보배처럼 아름답다하여 “울진(蔚珍)”이라는 지명을 간직하게 된 곳입니다.\n",
      "7 이러한 곳에 1981년 원전사업의 시작으로 울진군에 북면(6기), 산포지구(6기), 직산지구(6기)가 원전 예정지역으로 지정되면서, 먼저 북면 부구리 지역에 원전 6기가 건설되었습니다.\n",
      "8 해안선이 잘려나가고 마을 한복판에 고압 송전탑이 들어섰습니다.\n",
      "9 어장이 파괴되고 지역 특산품에 방사능 꼬리표가 붙었습니다.\n",
      "10 삶의 터전이 무너졌으며 선량한 울진군민은 원전반대 시위를 했다는 이유로 범죄자가 되었습니다.\n",
      "11 그러던 지난 1999년 정부는 산포지구에 전원개발사업예정구역 지정고시 강행 통보를 통해 추가원전을 건설하려 했습니다.\n",
      "12 저를 비롯한 모든 지역주민이 결사반대 투쟁을 했지만 정부는 일방적이었습니다.\n",
      "13 울진군민과 정부(산업부 장관, 한수원 사장)의 오랜 협의결과, 산포지구(6기), 직산지구(6기)를 해제하는 조건으로 ‘신규원전 4개호기 건설을 마지막으로 더 이상의 원전 관련 시설을 건설하지 않겠다’는 약속을 함으로써, 북면 부구리 기존 지구에 4기의 추가 원전건설을 수용했습니다.\n",
      "14 그것이 바로 신한울 1,2,3,4호기였고 정부와 울진군민이 합의한 약속이었습니다.\n",
      "15 울진군민은 정부와의 약속에 따라 신한울 1,2,3,4호기 건설에 적극 협조했습니다.\n",
      "16 2010년 신한울 1,2호기가 착공했고, 2017년 신한울 3,4호기가 발전사업허가를 받아 착공을 앞두고 있었습니다.\n",
      "17 하지만 2017년 10월 24일 정부는 아무런 법적절차 없이 국무회의에서 신한울 3,4호기 건설을 백지화 했습니다.\n",
      "18 울진군민에게는 어떠한 의견도 물어보지 않았습니다.\n",
      "19 단 한 번의 공청회도 개최하지 않았습니다.\n",
      "20 그 어떤 공론화 과정도 거치지 않은 채 일방적으로 신한울 3,4호기 건설을 백지화 했습니다.\n",
      "21 지난 40여 년에 걸친 정부의 일방적 에너지 정책에 따라 북면을 비롯한 울진군 지역은 오래전부터 원전의존형 경제구조로 고착화되었습니다.그렇기 때문에 갑작스러운 신한울 3,4호기 건설 중단에 따라 정부 약속만을 믿은 저와 지역주민들은 현재 심각한 피해를 입고 있습니다.\n",
      "22 정부의 신한울 3,4호기 백지화 발표 이후 유동인구가 한 달 사이에 3천~4천명 정도 빠져나가고 수천개의 일자리가 사라졌습니다.\n",
      "23 경기가 침체되고 지역산업이 붕괴되었습니다.\n",
      "24 건설 중인 임대주택은 준공도 못한 채 흉물로 방치되고 있습니다.\n",
      "25 기존 공동주택 단지는 유령주택가가 되어 암흑을 맞고 있습니다.\n",
      "26 종잣돈을 모아 차린 식당들은 손님이 없어 문을 닫고 있습니다.\n",
      "27 건설장비를 구입한 사람은 할부값을 갚지 못해 다시 되팔아야 할 지경입니다.\n",
      "28 신한울 3,4호기 건설에 따른 기대심리로 건설한 임대주택, 식당, 상가와 건설업체가 도미노식 연쇄파산을 맞고 있습니다.\n",
      "29 존경하는 대통령님, 정치권에서는 ‘탈원전 반대’또는 ‘재앙적 탈원전’이라는 용어로 에너지정책을 비방하는 것을 뉴스를 통해 보았습니다.\n",
      "30 저는 정치적 논리는 잘 모릅니다.\n",
      "31 정치적 논리로 인해 열심히 살아가고 있는 울진군민들이 또 다시 희생되기를 원하지 않습니다.\n",
      "32 단지 저와 지역 주민들은 원전 축소시대에 따른 피해를 최소화하고 원자력이 더 이상 건설되지 않는 환경에 점진적으로 적응할 수 있도록 신한울 3,4호기가 약속대로 건설되길 바랄 뿐입니다.\n",
      "33 친애하는 대통령님, 울진군민은 지난 40여 년간 국가 에너지 정책에 일방적으로 희생되어 왔습니다.\n",
      "34 부디 소통하고 대화해 주십시오.\n",
      "35 지역주민의 목소리에 귀 기울여 주십시오.\n",
      "36 지난 정부(김대중, 노무현 대통령)가 약속한 사항입니다.\n",
      "37 대통령은 바뀌었지만 국민은 바뀌지 않았기에 약속은 지켜야 된다고 생각합니다.\n",
      "38 약속을 지키는 대통령의 모습을 보여주십시오.\n",
      "39 간곡히 호소 드립니다.\n",
      "40 2019년 기해년 새해에는 울진군민과 약속한 신한울 3,4호기 건설을 반드시 재개해 주십시오.\n",
      "41 북면발전협의회장 이희국 올림\n"
     ]
    }
   ],
   "source": [
    "for i in range(1):\n",
    "    data = json.loads(datas[i])\n",
    "    sentences = sent_tokenize(data['content'])\n",
    "    for j, sentence in enumerate(sentences):\n",
    "        print(j, sentence)"
   ]
  },
  {
   "cell_type": "code",
   "execution_count": 19,
   "metadata": {
    "scrolled": true
   },
   "outputs": [
    {
     "name": "stdout",
     "output_type": "stream",
     "text": [
      "1000 items has been converted\n",
      "2000 items has been converted\n",
      "3000 items has been converted\n",
      "4000 items has been converted\n",
      "7000 items has been converted\n",
      "8000 items has been converted\n",
      "9000 items has been converted\n",
      "10000 items has been converted\n",
      "Total 12221 items has been converted\n"
     ]
    }
   ],
   "source": [
    "file_path = \"data/petitions/petition.lm.train\"\n",
    "\n",
    "with open(file_path, 'a', encoding='UTF8') as file:\n",
    "    for i in range(len(datas)):\n",
    "        data = json.loads(datas[i])\n",
    "        \n",
    "        content = clean_str(data['content'])\n",
    "        \n",
    "        sentences = sent_tokenize(content)\n",
    "        \n",
    "        # BERT 모델은 문단 내 문장의 개수가 2개 이상이여야 함\n",
    "        if len(sentences) < 2:\n",
    "            continue\n",
    "        \n",
    "        for sentence in sentences:\n",
    "            sentence = sentence.strip()\n",
    "            \n",
    "            file.write(sentence + \"\\n\")\n",
    "        \n",
    "        if i != 0 and i % 1000 == 0:\n",
    "            print(i, \"items has been converted\")\n",
    "            \n",
    "        file.write(\"\\n\")\n",
    "            \n",
    "        #if i == 5000:\n",
    "        #    break\n",
    "            \n",
    "    print(\"Total {0} items has been converted\".format(len(datas)))"
   ]
  },
  {
   "cell_type": "markdown",
   "metadata": {},
   "source": [
    "### koalanlp sentense spliter"
   ]
  },
  {
   "cell_type": "code",
   "execution_count": 10,
   "metadata": {},
   "outputs": [],
   "source": [
    "from koalanlp import API\n",
    "from koalanlp.proc import SentenceSplitter\n",
    "from koalanlp.Util import initialize, finalize"
   ]
  },
  {
   "cell_type": "code",
   "execution_count": 11,
   "metadata": {},
   "outputs": [
    {
     "name": "stderr",
     "output_type": "stream",
     "text": [
      "\u001b[1mpy4j.java_gateway\u001b[0m Callback Server Starting\n",
      "\u001b[1mpy4j.java_gateway\u001b[0m Socket listening on ('127.0.0.1', 25334)\n",
      "\u001b[1mjip\u001b[0m JVM initialization procedure is completed.\n"
     ]
    }
   ],
   "source": [
    "#initialize(java_options=\"-Xmx4g\", KKMA=\"2.0.4\", ETRI=\"2.0.4\")\n",
    "initialize(java_options=\"-Xmx4g\", HNN=\"2.0.0\")"
   ]
  },
  {
   "cell_type": "code",
   "execution_count": 12,
   "metadata": {},
   "outputs": [],
   "source": [
    "splitter = SentenceSplitter(API.HNN)"
   ]
  },
  {
   "cell_type": "code",
   "execution_count": 13,
   "metadata": {},
   "outputs": [
    {
     "name": "stdout",
     "output_type": "stream",
     "text": [
      "0 국민과 소통하시고 자유롭고 행복한 나라를 만들기 위해 힘쓰고 계신 대통령께 존경과 찬사를 올립니다 . \n",
      "1 기해년 새해 복 많이 받으십시오 . \n",
      "2 저는 경북 울진군 북면 부구검성로 12번지에 살고 있는 북면발전협의회장 이희국이라고 합니다 . \n",
      "3 저는 8기의 원전이 가동․건설되고 있는 이곳 북면에 태어나 68년째 거주하고 있는 원전지역 주민입니다 . \n",
      "4 간절한 마음을 담아 대통령께 다음과 같이 호소 드립니다 . \n",
      "5 ‘울진군민과 약속한 신한울 3,4호기 원전건설을 재개해 주십시오 . \n",
      "6 ’ 여태껏 단 한 번도 원전 건설을 원한 적 없는 제가 신한울 3,4호기 원전 건설을 청하는 까닭을 말씀드리겠습니다 . \n",
      "7 경상북도 동해안 최북단 울진군은 예부터 산과 바다, 계곡의 울창함이 보배처럼 아름답다하여 “울진(蔚珍)”이라는 지명을 간직하게 된 곳입니다 . \n",
      "8 이러한 곳에 1981년 원전사업의 시작으로 울진군에 북면(6기), 산포지구(6기), 직산지구(6기)가 원전 예정지역으로 지정되면서, 먼저 북면 부구리 지역에 원전 6기가 건설되었습니다 . \n",
      "9 해안선이 잘려나가고 마을 한복판에 고압 송전탑이 들어섰습니다 . \n",
      "10 어장이 파괴되고 지역 특산품에 방사능 꼬리표가 붙었습니다 . \n",
      "11 삶의 터전이 무너졌으며 선량한 울진군민은 원전반대 시위를 했다는 이유로 범죄자가 되었습니다 . \n",
      "12 그러던 지난 1999년 정부는 산포지구에 전원개발사업예정구역 지정고시 강행 통보를 통해 추가원전을 건설하려 했습니다 . \n",
      "13 저를 비롯한 모든 지역주민이 결사반대 투쟁을 했지만 정부는 일방적이었습니다 . \n",
      "14 울진군민과 정부(산업부 장관, 한수원 사장)의 오랜 협의결과, 산포지구(6기), 직산지구(6기)를 해제하는 조건으로 ‘신규원전 4개호기 건설을 마지막으로 더 이상의 원전 관련 시설을 건설하지 않겠다’는 약속을 함으로써, 북면 부구리 기존 지구에 4기의 추가 원전건설을 수용했습니다 . \n",
      "15 그것이 바로 신한울 1,2,3,4호기였고 정부와 울진군민이 합의한 약속이었습니다 . \n",
      "16 울진군민은 정부와의 약속에 따라 신한울 1,2,3,4호기 건설에 적극 협조했습니다 . \n",
      "17 2010년 신한울 1,2호기가 착공했고, 2017년 신한울 3,4호기가 발전사업허가를 받아 착공을 앞두고 있었습니다 . \n",
      "18 하지만 2017년 10월 24일 정부는 아무런 법적절차 없이 국무회의에서 신한울 3,4호기 건설을 백지화 했습니다 . \n",
      "19 울진군민에게는 어떠한 의견도 물어보지 않았습니다 . \n",
      "20 단 한 번의 공청회도 개최하지 않았습니다 . \n",
      "21 그 어떤 공론화 과정도 거치지 않은 채 일방적으로 신한울 3,4호기 건설을 백지화 했습니다 . \n",
      "22 지난 40여 년에 걸친 정부의 일방적 에너지 정책에 따라 북면을 비롯한 울진군 지역은 오래전부터 원전의존형 경제구조로 고착화되었습니다 . \n",
      "23 그렇기 때문에 갑작스러운 신한울 3,4호기 건설 중단에 따라 정부 약속만을 믿은 저와 지역주민들은 현재 심각한 피해를 입고 있습니다 . \n",
      "24 정부의 신한울 3,4호기 백지화 발표 이후 유동인구가 한 달 사이에 3천~4천명 정도 빠져나가고 수천개의 일자리가 사라졌습니다 . \n",
      "25 경기가 침체되고 지역산업이 붕괴되었습니다 . \n",
      "26 건설 중인 임대주택은 준공도 못한 채 흉물로 방치되고 있습니다 . \n",
      "27 기존 공동주택 단지는 유령주택가가 되어 암흑을 맞고 있습니다 . \n",
      "28 종잣돈을 모아 차린 식당들은 손님이 없어 문을 닫고 있습니다 . \n",
      "29 건설장비를 구입한 사람은 할부값을 갚지 못해 다시 되팔아야 할 지경입니다 . \n",
      "30 신한울 3,4호기 건설에 따른 기대심리로 건설한 임대주택, 식당, 상가와 건설업체가 도미노식 연쇄파산을 맞고 있습니다 . \n",
      "31 존경하는 대통령님, 정치권에서는 ‘탈원전 반대’또는 ‘재앙적 탈원전’이라는 용어로 에너지정책을 비방하는 것을 뉴스를 통해 보았습니다 . \n",
      "32 저는 정치적 논리는 잘 모릅니다 . \n",
      "33 정치적 논리로 인해 열심히 살아가고 있는 울진군민들이 또 다시 희생되기를 원하지 않습니다 . \n",
      "34 단지 저와 지역 주민들은 원전 축소시대에 따른 피해를 최소화하고 원자력이 더 이상 건설되지 않는 환경에 점진적으로 적응할 수 있도록 신한울 3,4호기가 약속대로 건설되길 바랄 뿐입니다 . \n",
      "35 친애하는 대통령님, 울진군민은 지난 40여 년간 국가 에너지 정책에 일방적으로 희생되어 왔습니다 . \n",
      "36 부디 소통하고 대화해 주십시오 . \n",
      "37 지역주민의 목소리에 귀 기울여 주십시오 . \n",
      "38 지난 정부(김대중, 노무현 대통령)가 약속한 사항입니다 . \n",
      "39 대통령은 바뀌었지만 국민은 바뀌지 않았기에 약속은 지켜야 된다고 생각합니다 . \n",
      "40 약속을 지키는 대통령의 모습을 보여주십시오 . \n",
      "41 간곡히 호소 드립니다 . \n",
      "42 2019년 기해년 새해에는 울진군민과 약속한 신한울 3,4호기 건설을 반드시 재개해 주십시오 . \n",
      "43 북면발전협의회장 이희국 올림 \n"
     ]
    }
   ],
   "source": [
    "for i in range(1):\n",
    "    data = json.loads(datas[i])\n",
    "    sentences = splitter(data['content'])\n",
    "    for j, sentence in enumerate(sentences):\n",
    "        print(j, sentence)"
   ]
  },
  {
   "cell_type": "code",
   "execution_count": 14,
   "metadata": {},
   "outputs": [
    {
     "name": "stdout",
     "output_type": "stream",
     "text": [
      "1000 items has been converted\n",
      "2000 items has been converted\n",
      "3000 items has been converted\n",
      "4000 items has been converted\n",
      "5000 items has been converted\n",
      "7000 items has been converted\n",
      "8000 items has been converted\n",
      "9000 items has been converted\n",
      "10000 items has been converted\n",
      "Total 12221 items has been converted\n"
     ]
    }
   ],
   "source": [
    "file_path = \"data/petitions/petition.lm.train\"\n",
    "\n",
    "with open(file_path, 'a', encoding='UTF8') as file:\n",
    "    for i in range(len(datas)):\n",
    "        data = json.loads(datas[i])\n",
    "        \n",
    "        content = clean_str(data['content'])\n",
    "        \n",
    "        sentences = splitter(content)\n",
    "        \n",
    "        # BERT 모델은 문단 내 문장의 개수가 2개 이상이여야 함\n",
    "        if len(sentences) < 2:\n",
    "            continue\n",
    "        \n",
    "        for sentence in sentences:\n",
    "            sentence = sentence.strip()\n",
    "            if sentence.startswith(\"\\\"\"):\n",
    "                sentence = sentence[1:]\n",
    "            if sentence.endswith(\"\\\"\"):\n",
    "                sentence = sentence[0:-1]\n",
    "            if sentence.endswith(\".\") or sentence.endswith(\"!\") or sentence.endswith(\"?\"):\n",
    "                sentence = sentence[:-2] + sentence[len(sentence) - 1]\n",
    "            \n",
    "            file.write(sentence + \"\\n\")\n",
    "        \n",
    "        if i != 0 and i % 1000 == 0:\n",
    "            print(i, \"items has been converted\")\n",
    "            \n",
    "        file.write(\"\\n\")\n",
    "            \n",
    "        #if i == 5000:\n",
    "        #    break\n",
    "            \n",
    "    print(\"Total {0} items has been converted\".format(len(datas)))"
   ]
  },
  {
   "cell_type": "code",
   "execution_count": 18,
   "metadata": {},
   "outputs": [],
   "source": [
    "finalize()"
   ]
  },
  {
   "cell_type": "markdown",
   "metadata": {},
   "source": [
    "### KoNLPy Twitter phrase spliter"
   ]
  },
  {
   "cell_type": "code",
   "execution_count": 3,
   "metadata": {},
   "outputs": [
    {
     "ename": "SyntaxError",
     "evalue": "invalid syntax (<ipython-input-3-92dfd33195c0>, line 1)",
     "output_type": "error",
     "traceback": [
      "\u001b[1;36m  File \u001b[1;32m\"<ipython-input-3-92dfd33195c0>\"\u001b[1;36m, line \u001b[1;32m1\u001b[0m\n\u001b[1;33m    import konlpy.tag import Okt\u001b[0m\n\u001b[1;37m                           ^\u001b[0m\n\u001b[1;31mSyntaxError\u001b[0m\u001b[1;31m:\u001b[0m invalid syntax\n"
     ]
    }
   ],
   "source": [
    "import konlpy.tag import Okt"
   ]
  },
  {
   "cell_type": "code",
   "execution_count": 1,
   "metadata": {},
   "outputs": [
    {
     "ename": "NameError",
     "evalue": "name 'Okt' is not defined",
     "output_type": "error",
     "traceback": [
      "\u001b[1;31m---------------------------------------------------------------------------\u001b[0m",
      "\u001b[1;31mNameError\u001b[0m                                 Traceback (most recent call last)",
      "\u001b[1;32m<ipython-input-1-3c51b9dd540a>\u001b[0m in \u001b[0;36m<module>\u001b[1;34m\u001b[0m\n\u001b[1;32m----> 1\u001b[1;33m \u001b[0mokt\u001b[0m \u001b[1;33m=\u001b[0m \u001b[0mOkt\u001b[0m\u001b[1;33m(\u001b[0m\u001b[1;33m)\u001b[0m\u001b[1;33m\u001b[0m\u001b[1;33m\u001b[0m\u001b[0m\n\u001b[0m",
      "\u001b[1;31mNameError\u001b[0m: name 'Okt' is not defined"
     ]
    }
   ],
   "source": [
    "okt = Okt()"
   ]
  },
  {
   "cell_type": "markdown",
   "metadata": {},
   "source": [
    "### KoNLPy 꼬꼬마 sentense spliter"
   ]
  },
  {
   "cell_type": "code",
   "execution_count": 15,
   "metadata": {},
   "outputs": [],
   "source": [
    "# https://konlpy-ko.readthedocs.io/ko/v0.4.3/install/\n",
    "# https://konlpy-ko.readthedocs.io/ko/v0.4.3/"
   ]
  },
  {
   "cell_type": "code",
   "execution_count": 10,
   "metadata": {},
   "outputs": [],
   "source": [
    "from konlpy.tag import Kkma"
   ]
  },
  {
   "cell_type": "code",
   "execution_count": 11,
   "metadata": {},
   "outputs": [],
   "source": [
    "kkma = Kkma()"
   ]
  },
  {
   "cell_type": "code",
   "execution_count": 17,
   "metadata": {},
   "outputs": [
    {
     "name": "stdout",
     "output_type": "stream",
     "text": [
      "0 국민\n",
      "1 국민과 소통\n",
      "2 자유\n",
      "3 행복한 나라\n",
      "4 만들기\n",
      "5 만들기 위해\n",
      "6 계신 대통령\n",
      "7 존경\n",
      "8 존경과 찬사\n",
      "9 기해년\n",
      "10 기해년 새해\n",
      "11 기해년 새해 복\n",
      "12 경북\n",
      "13 경북 울진군\n",
      "14 경북 울진군 북면\n",
      "15 경북 울진군 북면 부구검성\n",
      "16 12번지\n",
      "17 있는 북면발전협의회장\n",
      "18 있는 북면발전협의회장 이희국\n",
      "19 8기\n",
      "20 8기의 원전\n",
      "21 가동\n",
      "22 건설\n",
      "23 있는 이곳\n",
      "24 있는 이곳 북면\n",
      "25 68년\n",
      "26 거주\n",
      "27 있는 원전지역\n",
      "28 있는 원전지역 주민\n",
      "29 간절한 마음\n",
      "30 대통령\n",
      "31 다음\n",
      "32 호소\n",
      "33 울진군민\n",
      "34 울진군민과 약속\n",
      "35 신한울\n",
      "36 신한울 3\n",
      "37 4호기\n",
      "38 4호기 원전건설\n",
      "39 재개\n",
      "40 주십시오\n",
      "41 여태껏\n",
      "42 여태껏 단\n",
      "43 여태껏 단 한 번\n",
      "44 원전\n",
      "45 원전 건설\n",
      "46 원한\n",
      "47 원한 적\n",
      "48 원한 적 없는 제\n",
      "49 4호기 원전\n",
      "50 4호기 원전 건설\n",
      "51 청하는 까닭\n",
      "52 경상북도\n",
      "53 경상북도 동해안\n",
      "54 경상북도 동해안 최북단\n",
      "55 경상북도 동해안 최북단 울진군\n",
      "56 산과 바다\n",
      "57 계곡\n",
      "58 계곡의 울창함\n",
      "59 보배\n",
      "60 울진\n",
      "61 지명\n",
      "62 간직\n",
      "63 이러한 곳\n",
      "64 1981년\n",
      "65 1981년 원전사업\n",
      "66 1981년 원전사업의 시작\n",
      "67 울진군\n",
      "68 북면\n",
      "69 6기\n",
      "70 산포지구\n",
      "71 직산지구\n",
      "72 원전 예정지역\n",
      "73 지정\n",
      "74 먼저\n",
      "75 먼저 북면\n",
      "76 지역\n",
      "77 원전 6기\n",
      "78 해안선\n",
      "79 마을\n",
      "80 마을 한복판\n",
      "81 고압\n",
      "82 고압 송전탑\n",
      "83 어장\n",
      "84 파괴\n",
      "85 지역 특산품\n",
      "86 방사능\n",
      "87 방사능 꼬리표\n",
      "88 삶의 터전\n",
      "89 선량한 울진군민\n",
      "90 원전반대\n",
      "91 원전반대 시위\n",
      "92 이유\n",
      "93 범죄자\n",
      "94 그러던 지난\n",
      "95 그러던 지난 1999년\n",
      "96 그러던 지난 1999년 정부\n",
      "97 전원개발사업예정구역\n",
      "98 전원개발사업예정구역 지정고시\n",
      "99 전원개발사업예정구역 지정고시 강행\n",
      "100 전원개발사업예정구역 지정고시 강행 통보\n",
      "101 통해\n",
      "102 통해 추가원전\n",
      "103 비롯\n",
      "104 모든\n",
      "105 모든 지역주민\n",
      "106 결사반대\n",
      "107 결사반대 투쟁\n",
      "108 정부\n",
      "109 울진군민과 정부\n",
      "110 산업부\n",
      "111 산업부 장관\n",
      "112 한수원\n",
      "113 한수원 사장\n",
      "114 협의결과\n",
      "115 를 해제\n",
      "116 를 해제하는 조건\n",
      "117 신규원전\n",
      "118 신규원전 4개호기\n",
      "119 신규원전 4개호기 건설\n",
      "120 마지막\n",
      "121 더 이상\n",
      "122 더 이상의 원전\n",
      "123 더 이상의 원전 관련\n",
      "124 더 이상의 원전 관련 시설\n",
      "125 약속\n",
      "126 기존\n",
      "127 기존 지구\n",
      "128 4기\n",
      "129 4기의 추가\n",
      "130 4기의 추가 원전건설\n",
      "131 수용\n",
      "132 그것\n",
      "133 바로\n",
      "134 바로 신한울\n",
      "135 바로 신한울 1\n",
      "136 정부와 울진군민\n",
      "137 합의\n",
      "138 신한울 1\n",
      "139 4호기 건설\n",
      "140 적극\n",
      "141 적극 협조\n",
      "142 2010년\n",
      "143 2010년 신한울\n",
      "144 2010년 신한울 1\n",
      "145 2호기\n",
      "146 착공\n",
      "147 2017년\n",
      "148 2017년 신한울\n",
      "149 2017년 신한울 3\n",
      "150 발전사업허가\n",
      "151 2017년 10월\n",
      "152 2017년 10월 24일\n",
      "153 2017년 10월 24일 정부\n",
      "154 아무런 법적절차\n",
      "155 국무회의\n",
      "156 백지화\n",
      "157 어떠한 의견\n",
      "158 단 한 번의\n",
      "159 단 한 번의 공청회\n",
      "160 개최\n",
      "161 그 어떤 공론화\n",
      "162 그 어떤 공론화 과정\n",
      "163 거치\n",
      "164 지난\n",
      "165 지난 40여\n",
      "166 지난 40여 년\n",
      "167 정부의 일방적 에너지\n",
      "168 정부의 일방적 에너지 정책\n",
      "169 울진군 지역\n",
      "170 부터\n",
      "171 부터 원전의존형\n",
      "172 부터 원전의존형 경제구조\n",
      "173 고착화\n",
      "174 때문\n",
      "175 갑작스러운 신한울\n",
      "176 갑작스러운 신한울 3\n",
      "177 4호기 건설 중단\n",
      "178 정부 약속\n",
      "179 저와 지역주민들\n",
      "180 현재\n",
      "181 현재 심각한 피해\n",
      "182 정부의 신한울\n",
      "183 정부의 신한울 3\n",
      "184 4호기 백지화\n",
      "185 4호기 백지화 발표\n",
      "186 4호기 백지화 발표 이후\n",
      "187 4호기 백지화 발표 이후 유동\n",
      "188 구가\n",
      "189 구가 한 달\n",
      "190 구가 한 달 사이\n",
      "191 3천\n",
      "192 4천\n",
      "193 정도\n",
      "194 수천개\n",
      "195 수천개의 일자리\n",
      "196 경기\n",
      "197 침체\n",
      "198 지역산업\n",
      "199 붕괴\n",
      "200 건설 중인\n",
      "201 건설 중인 임대주택\n",
      "202 준공\n",
      "203 채 흉물\n",
      "204 방치\n",
      "205 기존 공동주택\n",
      "206 기존 공동주택 단지\n",
      "207 유령주택가\n",
      "208 암흑\n",
      "209 종잣돈\n",
      "210 식당들\n",
      "211 손님\n",
      "212 건설장비\n",
      "213 구입\n",
      "214 사람\n",
      "215 할부값\n",
      "216 다시\n",
      "217 팔아야\n",
      "218 팔아야 할 지경\n",
      "219 기대심리\n",
      "220 임대주택\n",
      "221 식당\n",
      "222 상가\n",
      "223 상가와 건설업체\n",
      "224 도미노식\n",
      "225 도미노식 연쇄파산\n",
      "226 존경하는 대통령님\n",
      "227 정치권\n",
      "228 탈원전\n",
      "229 탈원전 반대\n",
      "230 재앙적 탈원전\n",
      "231 용어\n",
      "232 에너지정책\n",
      "233 비방\n",
      "234 비방하는 것\n",
      "235 뉴스\n",
      "236 정치적 논리\n",
      "237 있는 울진군민들\n",
      "238 또 다시\n",
      "239 또 다시 희생\n",
      "240 단지\n",
      "241 단지 저\n",
      "242 단지 저와 지역\n",
      "243 단지 저와 지역 주민들\n",
      "244 원전 축소시대\n",
      "245 피해\n",
      "246 최소화\n",
      "247 원자력\n",
      "248 더 이상 건설\n",
      "249 환경\n",
      "250 적응할 수\n",
      "251 친애하는 대통령님\n",
      "252 지난 40여 년간\n",
      "253 지난 40여 년간 국가\n",
      "254 지난 40여 년간 국가 에너지\n",
      "255 지난 40여 년간 국가 에너지 정책\n",
      "256 희생\n",
      "257 부디\n",
      "258 부디 소통\n",
      "259 대화\n",
      "260 지역주민\n",
      "261 지역주민의 목소리\n",
      "262 지난 정부\n",
      "263 김대중\n",
      "264 노무현\n",
      "265 노무현 대통령\n",
      "266 사항\n",
      "267 생각\n",
      "268 대통령의 모습\n",
      "269 2019년\n",
      "270 2019년 기해년\n",
      "271 2019년 기해년 새해\n",
      "272 반드시\n",
      "273 반드시 재개\n",
      "274 북면발전협의회장\n",
      "275 북면발전협의회장 이희국\n",
      "276 소통\n",
      "277 나라\n",
      "278 위해\n",
      "279 찬사\n",
      "280 새해\n",
      "281 구검성\n",
      "282 12\n",
      "283 번지\n",
      "284 발전\n",
      "285 협의\n",
      "286 회장\n",
      "287 이희\n",
      "288 이곳\n",
      "289 주민\n",
      "290 마음\n",
      "291 군민\n",
      "292 호기\n",
      "293 원전건설\n",
      "294 까닭\n",
      "295 동해안\n",
      "296 북단\n",
      "297 바다\n",
      "298 울창\n",
      "299 원전사업\n",
      "300 시작\n",
      "301 산포\n",
      "302 지구\n",
      "303 직산\n",
      "304 예정\n",
      "305 한복판\n",
      "306 송전탑\n",
      "307 특산\n",
      "308 방사\n",
      "309 꼬리표\n",
      "310 터전\n",
      "311 반대\n",
      "312 시위\n",
      "313 1999년\n",
      "314 전원\n",
      "315 개발\n",
      "316 사업\n",
      "317 구역\n",
      "318 고시\n",
      "319 강행\n",
      "320 통보\n",
      "321 추가\n",
      "322 결사\n",
      "323 투쟁\n",
      "324 장관\n",
      "325 사장\n",
      "326 결과\n",
      "327 해제\n",
      "328 조건\n",
      "329 신규\n",
      "330 이상\n",
      "331 관련\n",
      "332 시설\n",
      "333 협조\n",
      "334 허가\n",
      "335 10월\n",
      "336 24일\n",
      "337 법적\n",
      "338 절차\n",
      "339 의견\n",
      "340 번의\n",
      "341 공청회\n",
      "342 공론화\n",
      "343 과정\n",
      "344 40\n",
      "345 에너지\n",
      "346 정책\n",
      "347 원전의존형\n",
      "348 경제구조\n",
      "349 중단\n",
      "350 주민들\n",
      "351 발표\n",
      "352 이후\n",
      "353 유동\n",
      "354 사이\n",
      "355 일자리\n",
      "356 산업\n",
      "357 중인\n",
      "358 흉물\n",
      "359 공동\n",
      "360 주택\n",
      "361 유령\n",
      "362 주택가\n",
      "363 장비\n",
      "364 할부\n",
      "365 지경\n",
      "366 업체\n",
      "367 도미\n",
      "368 노식\n",
      "369 연쇄\n",
      "370 파산\n",
      "371 대통령님\n",
      "372 논리\n",
      "373 군민들\n",
      "374 축소\n",
      "375 시대\n",
      "376 년간\n",
      "377 국가\n",
      "378 목소리\n",
      "379 모습\n"
     ]
    }
   ],
   "source": [
    "for i in range(1):\n",
    "    data = json.loads(datas[i])\n",
    "    sentences = okt.phrases(data['content'])\n",
    "    for j, sentence in enumerate(sentences):\n",
    "        print(j, sentence)"
   ]
  },
  {
   "cell_type": "code",
   "execution_count": 14,
   "metadata": {},
   "outputs": [
    {
     "name": "stdout",
     "output_type": "stream",
     "text": [
      "1000 items has been converted\n"
     ]
    },
    {
     "ename": "KeyboardInterrupt",
     "evalue": "",
     "output_type": "error",
     "traceback": [
      "\u001b[1;31m---------------------------------------------------------------------------\u001b[0m",
      "\u001b[1;31mKeyboardInterrupt\u001b[0m                         Traceback (most recent call last)",
      "\u001b[1;32m<ipython-input-14-fe6298ea8162>\u001b[0m in \u001b[0;36m<module>\u001b[1;34m\u001b[0m\n\u001b[0;32m      7\u001b[0m         \u001b[0mcontent\u001b[0m \u001b[1;33m=\u001b[0m \u001b[0mclean_str\u001b[0m\u001b[1;33m(\u001b[0m\u001b[0mdata\u001b[0m\u001b[1;33m[\u001b[0m\u001b[1;34m'content'\u001b[0m\u001b[1;33m]\u001b[0m\u001b[1;33m)\u001b[0m\u001b[1;33m\u001b[0m\u001b[1;33m\u001b[0m\u001b[0m\n\u001b[0;32m      8\u001b[0m \u001b[1;33m\u001b[0m\u001b[0m\n\u001b[1;32m----> 9\u001b[1;33m         \u001b[0msentences\u001b[0m \u001b[1;33m=\u001b[0m \u001b[0mkkma\u001b[0m\u001b[1;33m.\u001b[0m\u001b[0msentences\u001b[0m\u001b[1;33m(\u001b[0m\u001b[0mcontent\u001b[0m\u001b[1;33m)\u001b[0m\u001b[1;33m\u001b[0m\u001b[1;33m\u001b[0m\u001b[0m\n\u001b[0m\u001b[0;32m     10\u001b[0m \u001b[1;33m\u001b[0m\u001b[0m\n\u001b[0;32m     11\u001b[0m         \u001b[1;31m# BERT 모델은 문단 내 문장의 개수가 2개 이상이여야 함\u001b[0m\u001b[1;33m\u001b[0m\u001b[1;33m\u001b[0m\u001b[1;33m\u001b[0m\u001b[0m\n",
      "\u001b[1;32m~\\AppData\\Local\\Continuum\\anaconda3\\envs\\BertBase\\lib\\site-packages\\konlpy\\tag\\_kkma.py\u001b[0m in \u001b[0;36msentences\u001b[1;34m(self, phrase)\u001b[0m\n\u001b[0;32m     87\u001b[0m         \u001b[1;34m\"\"\"Sentence detection.\"\"\"\u001b[0m\u001b[1;33m\u001b[0m\u001b[1;33m\u001b[0m\u001b[0m\n\u001b[0;32m     88\u001b[0m \u001b[1;33m\u001b[0m\u001b[0m\n\u001b[1;32m---> 89\u001b[1;33m         \u001b[0msentences\u001b[0m \u001b[1;33m=\u001b[0m \u001b[0mself\u001b[0m\u001b[1;33m.\u001b[0m\u001b[0mjki\u001b[0m\u001b[1;33m.\u001b[0m\u001b[0mmorphAnalyzer\u001b[0m\u001b[1;33m(\u001b[0m\u001b[0mphrase\u001b[0m\u001b[1;33m)\u001b[0m\u001b[1;33m\u001b[0m\u001b[1;33m\u001b[0m\u001b[0m\n\u001b[0m\u001b[0;32m     90\u001b[0m         \u001b[1;32mif\u001b[0m \u001b[1;32mnot\u001b[0m \u001b[0msentences\u001b[0m\u001b[1;33m:\u001b[0m \u001b[1;32mreturn\u001b[0m \u001b[1;33m[\u001b[0m\u001b[1;33m]\u001b[0m\u001b[1;33m\u001b[0m\u001b[1;33m\u001b[0m\u001b[0m\n\u001b[0;32m     91\u001b[0m         \u001b[1;32mreturn\u001b[0m \u001b[1;33m[\u001b[0m\u001b[0msentences\u001b[0m\u001b[1;33m.\u001b[0m\u001b[0mget\u001b[0m\u001b[1;33m(\u001b[0m\u001b[0mi\u001b[0m\u001b[1;33m)\u001b[0m\u001b[1;33m.\u001b[0m\u001b[0mgetSentence\u001b[0m\u001b[1;33m(\u001b[0m\u001b[1;33m)\u001b[0m \u001b[1;32mfor\u001b[0m \u001b[0mi\u001b[0m \u001b[1;32min\u001b[0m \u001b[0mrange\u001b[0m\u001b[1;33m(\u001b[0m\u001b[0msentences\u001b[0m\u001b[1;33m.\u001b[0m\u001b[0msize\u001b[0m\u001b[1;33m(\u001b[0m\u001b[1;33m)\u001b[0m\u001b[1;33m)\u001b[0m\u001b[1;33m]\u001b[0m\u001b[1;33m\u001b[0m\u001b[1;33m\u001b[0m\u001b[0m\n",
      "\u001b[1;32m~\\AppData\\Local\\Continuum\\anaconda3\\envs\\BertBase\\lib\\site-packages\\jpype\\_jclass.py\u001b[0m in \u001b[0;36m_getClassFor\u001b[1;34m(javaClass)\u001b[0m\n\u001b[0;32m     76\u001b[0m \u001b[1;33m\u001b[0m\u001b[0m\n\u001b[0;32m     77\u001b[0m \u001b[1;33m\u001b[0m\u001b[0m\n\u001b[1;32m---> 78\u001b[1;33m \u001b[1;32mdef\u001b[0m \u001b[0m_getClassFor\u001b[0m\u001b[1;33m(\u001b[0m\u001b[0mjavaClass\u001b[0m\u001b[1;33m)\u001b[0m\u001b[1;33m:\u001b[0m\u001b[1;33m\u001b[0m\u001b[1;33m\u001b[0m\u001b[0m\n\u001b[0m\u001b[0;32m     79\u001b[0m     \u001b[0mname\u001b[0m \u001b[1;33m=\u001b[0m \u001b[0mjavaClass\u001b[0m\u001b[1;33m.\u001b[0m\u001b[0mgetName\u001b[0m\u001b[1;33m(\u001b[0m\u001b[1;33m)\u001b[0m\u001b[1;33m\u001b[0m\u001b[1;33m\u001b[0m\u001b[0m\n\u001b[0;32m     80\u001b[0m     \u001b[1;32mif\u001b[0m \u001b[0mname\u001b[0m \u001b[1;32min\u001b[0m \u001b[0m_CLASSES\u001b[0m\u001b[1;33m:\u001b[0m\u001b[1;33m\u001b[0m\u001b[1;33m\u001b[0m\u001b[0m\n",
      "\u001b[1;31mKeyboardInterrupt\u001b[0m: "
     ]
    }
   ],
   "source": [
    "file_path = \"data/petitions/petition.lm.train\"\n",
    "\n",
    "with open(file_path, 'a', encoding='UTF8') as file:\n",
    "    for i in range(len(datas)):\n",
    "        data = json.loads(datas[i])\n",
    "        \n",
    "        content = clean_str(data['content'])\n",
    "        \n",
    "        sentences = kkma.sentences(content)\n",
    "        \n",
    "        # BERT 모델은 문단 내 문장의 개수가 2개 이상이여야 함\n",
    "        if len(sentences) < 2:\n",
    "            continue\n",
    "        \n",
    "        for sentence in sentences:\n",
    "            sentence = sentence.strip()\n",
    "            \n",
    "            file.write(sentence + \"\\n\")\n",
    "        \n",
    "        if i != 0 and i % 1000 == 0:\n",
    "            print(i, \"items has been converted\")\n",
    "            \n",
    "        file.write(\"\\n\")\n",
    "            \n",
    "        #if i == 5000:\n",
    "        #    break\n",
    "            \n",
    "    print(\"Total {0} items has been converted\".format(len(datas)))"
   ]
  },
  {
   "cell_type": "markdown",
   "metadata": {},
   "source": [
    "#  "
   ]
  },
  {
   "cell_type": "markdown",
   "metadata": {},
   "source": [
    "# 2. Wordpiece model 생성"
   ]
  },
  {
   "cell_type": "code",
   "execution_count": 18,
   "metadata": {},
   "outputs": [],
   "source": [
    "import sentencepiece as spm"
   ]
  },
  {
   "cell_type": "code",
   "execution_count": 16,
   "metadata": {},
   "outputs": [],
   "source": [
    "input_file = 'data/petitions/petition.lm.train'\n",
    "templates = '--input={} --model_prefix={} --vocab_size={}'\n",
    "vocab_size = 30000\n",
    "prefix = 'data/petitions/sp-30000'\n",
    "cmd = templates.format(input_file, prefix, vocab_size)"
   ]
  },
  {
   "cell_type": "code",
   "execution_count": 17,
   "metadata": {},
   "outputs": [
    {
     "data": {
      "text/plain": [
       "True"
      ]
     },
     "execution_count": 17,
     "metadata": {},
     "output_type": "execute_result"
    }
   ],
   "source": [
    "# train\n",
    "spm.SentencePieceTrainer.Train(cmd)"
   ]
  },
  {
   "cell_type": "markdown",
   "metadata": {},
   "source": [
    "#  "
   ]
  },
  {
   "cell_type": "markdown",
   "metadata": {},
   "source": [
    "# 3. 사전 생성"
   ]
  },
  {
   "cell_type": "code",
   "execution_count": 18,
   "metadata": {},
   "outputs": [],
   "source": [
    "in_file_path = \"data/petitions/sp-30000.vocab\"\n",
    "out_file_path = \"data/petitions/vocab.txt\"\n",
    "\n",
    "with open(in_file_path, encoding='utf-8') as f_in:\n",
    "    with open(out_file_path, 'a', encoding='UTF8') as f_out:\n",
    "        f_out.write(\"[PAD]\\n\")\n",
    "        f_out.write(\"[CLS]\\n\")\n",
    "        f_out.write(\"[SEP]\\n\")\n",
    "        f_out.write(\"[MASK]\\n\")\n",
    "        for word in f_in:\n",
    "            if word.split('\\t')[0].strip() == '<unk>':\n",
    "                f_out.write(\"[UNK]\\n\")\n",
    "            else:\n",
    "                f_out.write(word.split('\\t')[0].strip() + \"\\n\")"
   ]
  },
  {
   "cell_type": "markdown",
   "metadata": {},
   "source": [
    "#  "
   ]
  },
  {
   "cell_type": "markdown",
   "metadata": {},
   "source": [
    "# 4. Multi-classification model data 생성"
   ]
  },
  {
   "cell_type": "markdown",
   "metadata": {},
   "source": [
    "### 4.1 데이터 탐색"
   ]
  },
  {
   "cell_type": "code",
   "execution_count": 19,
   "metadata": {},
   "outputs": [
    {
     "name": "stdout",
     "output_type": "stream",
     "text": [
      "<class 'list'> 12221\n"
     ]
    }
   ],
   "source": [
    "print(type(datas), len(datas))"
   ]
  },
  {
   "cell_type": "code",
   "execution_count": 20,
   "metadata": {},
   "outputs": [
    {
     "data": {
      "text/plain": [
       "'{\"category\": \"성장동력\", \"begin\": \"2019-01-01\", \"end\": \"2019-01-31\", \"content\": \"국민과 소통하시고 자유롭고 행복한 나라를 만들기 위해 힘쓰고 계신 대통령께 존경과 찬사를 올립니다. 기해년 새해 복 많이 받으십시오. 저는 경북 울진군 북면 부구검성로 12번지에 살고 있는 북면발전협의회장 이희국이라고 합니다. 저는 8기의 원전이 가동․건설되고 있는 이곳 북면에 태어나 68년째 거주하고 있는 원전지역 주민입니다. 간절한 마음을 담아 대통령께 다음과 같이 호소 드립니다. ‘울진군민과 약속한 신한울 3,4호기 원전건설을 재개해 주십시오.’ 여태껏 단 한 번도 원전 건설을 원한 적 없는 제가 신한울 3,4호기 원전 건설을 청하는 까닭을 말씀드리겠습니다. 경상북도 동해안 최북단 울진군은 예부터 산과 바다, 계곡의 울창함이 보배처럼 아름답다하여 “울진(蔚珍)”이라는 지명을 간직하게 된 곳입니다. 이러한 곳에 1981년 원전사업의 시작으로 울진군에 북면(6기), 산포지구(6기), 직산지구(6기)가 원전 예정지역으로 지정되면서, 먼저 북면 부구리 지역에 원전 6기가 건설되었습니다. 해안선이 잘려나가고 마을 한복판에 고압 송전탑이 들어섰습니다. 어장이 파괴되고 지역 특산품에 방사능 꼬리표가 붙었습니다. 삶의 터전이 무너졌으며 선량한 울진군민은 원전반대 시위를 했다는 이유로 범죄자가 되었습니다. 그러던 지난 1999년 정부는 산포지구에 전원개발사업예정구역 지정고시 강행 통보를 통해 추가원전을 건설하려 했습니다. 저를 비롯한 모든 지역주민이 결사반대 투쟁을 했지만 정부는 일방적이었습니다. 울진군민과 정부(산업부 장관, 한수원 사장)의 오랜 협의결과, 산포지구(6기), 직산지구(6기)를 해제하는 조건으로 ‘신규원전 4개호기 건설을 마지막으로 더 이상의 원전 관련 시설을 건설하지 않겠다’는 약속을 함으로써, 북면 부구리 기존 지구에 4기의 추가 원전건설을 수용했습니다. 그것이 바로 신한울 1,2,3,4호기였고 정부와 울진군민이 합의한 약속이었습니다. 울진군민은 정부와의 약속에 따라 신한울 1,2,3,4호기 건설에 적극 협조했습니다. 2010년 신한울 1,2호기가 착공했고, 2017년 신한울 3,4호기가 발전사업허가를 받아 착공을 앞두고 있었습니다. 하지만 2017년 10월 24일 정부는 아무런 법적절차 없이 국무회의에서 신한울 3,4호기 건설을 백지화 했습니다. 울진군민에게는 어떠한 의견도 물어보지 않았습니다. 단 한 번의 공청회도 개최하지 않았습니다. 그 어떤 공론화 과정도 거치지 않은 채 일방적으로 신한울 3,4호기 건설을 백지화 했습니다. 지난 40여 년에 걸친 정부의 일방적 에너지 정책에 따라 북면을 비롯한 울진군 지역은 오래전부터 원전의존형 경제구조로 고착화되었습니다.그렇기 때문에 갑작스러운 신한울 3,4호기 건설 중단에 따라 정부 약속만을 믿은 저와 지역주민들은 현재 심각한 피해를 입고 있습니다. 정부의 신한울 3,4호기 백지화 발표 이후 유동인구가 한 달 사이에 3천~4천명 정도 빠져나가고 수천개의 일자리가 사라졌습니다. 경기가 침체되고 지역산업이 붕괴되었습니다. 건설 중인 임대주택은 준공도 못한 채 흉물로 방치되고 있습니다. 기존 공동주택 단지는 유령주택가가 되어 암흑을 맞고 있습니다. 종잣돈을 모아 차린 식당들은 손님이 없어 문을 닫고 있습니다. 건설장비를 구입한 사람은 할부값을 갚지 못해 다시 되팔아야 할 지경입니다. 신한울 3,4호기 건설에 따른 기대심리로 건설한 임대주택, 식당, 상가와 건설업체가 도미노식 연쇄파산을 맞고 있습니다. 존경하는 대통령님, 정치권에서는 ‘탈원전 반대’또는 ‘재앙적 탈원전’이라는 용어로 에너지정책을 비방하는 것을 뉴스를 통해 보았습니다. 저는 정치적 논리는 잘 모릅니다. 정치적 논리로 인해 열심히 살아가고 있는 울진군민들이 또 다시 희생되기를 원하지 않습니다. 단지 저와 지역 주민들은 원전 축소시대에 따른 피해를 최소화하고 원자력이 더 이상 건설되지 않는 환경에 점진적으로 적응할 수 있도록 신한울 3,4호기가 약속대로 건설되길 바랄 뿐입니다. 친애하는 대통령님, 울진군민은 지난 40여 년간 국가 에너지 정책에 일방적으로 희생되어 왔습니다. 부디 소통하고 대화해 주십시오. 지역주민의 목소리에 귀 기울여 주십시오. 지난 정부(김대중, 노무현 대통령)가 약속한 사항입니다. 대통령은 바뀌었지만 국민은 바뀌지 않았기에 약속은 지켜야 된다고 생각합니다. 약속을 지키는 대통령의 모습을 보여주십시오. 간곡히 호소 드립니다. 2019년 기해년 새해에는 울진군민과 약속한 신한울 3,4호기 건설을 반드시 재개해 주십시오. 북면발전협의회장 이희국 올림\", \"num_agree\": 521, \"petition_idx\": \"483907\", \"status\": \"청원종료\", \"title\": \"울진군민과 약속한 신한울 3,4호기 원전 건설을 조속히 재개해 주십시오.\"}\\n'"
      ]
     },
     "execution_count": 20,
     "metadata": {},
     "output_type": "execute_result"
    }
   ],
   "source": [
    "datas[0]"
   ]
  },
  {
   "cell_type": "code",
   "execution_count": 21,
   "metadata": {},
   "outputs": [
    {
     "data": {
      "text/plain": [
       "'성장동력'"
      ]
     },
     "execution_count": 21,
     "metadata": {},
     "output_type": "execute_result"
    }
   ],
   "source": [
    "json.loads(datas[0])['category']"
   ]
  },
  {
   "cell_type": "markdown",
   "metadata": {},
   "source": [
    "### category info"
   ]
  },
  {
   "cell_type": "code",
   "execution_count": 10,
   "metadata": {},
   "outputs": [],
   "source": [
    "from collections import defaultdict"
   ]
  },
  {
   "cell_type": "code",
   "execution_count": 11,
   "metadata": {},
   "outputs": [],
   "source": [
    "petition_category = defaultdict(int)"
   ]
  },
  {
   "cell_type": "code",
   "execution_count": 12,
   "metadata": {},
   "outputs": [],
   "source": [
    "for i in range(len(datas)):\n",
    "    category = json.loads(datas[i])['category']\n",
    "    petition_category[category] += 1"
   ]
  },
  {
   "cell_type": "code",
   "execution_count": 13,
   "metadata": {},
   "outputs": [
    {
     "name": "stdout",
     "output_type": "stream",
     "text": [
      "17\n"
     ]
    }
   ],
   "source": [
    "print(len(petition_category))"
   ]
  },
  {
   "cell_type": "code",
   "execution_count": 14,
   "metadata": {},
   "outputs": [
    {
     "data": {
      "text/plain": [
       "defaultdict(int,\n",
       "            {'성장동력': 239,\n",
       "             '농산어촌': 79,\n",
       "             '일자리': 923,\n",
       "             '경제민주화': 472,\n",
       "             '행정': 574,\n",
       "             '보건복지': 851,\n",
       "             '미래': 542,\n",
       "             '정치개혁': 2140,\n",
       "             '기타': 1497,\n",
       "             '교통/건축/국토': 842,\n",
       "             '인권/성평등': 964,\n",
       "             '안전/환경': 1111,\n",
       "             '문화/예술/체육/언론': 585,\n",
       "             '외교/통일/국방': 625,\n",
       "             '육아/교육': 500,\n",
       "             '반려동물': 184,\n",
       "             '저출산/고령화대책': 93})"
      ]
     },
     "execution_count": 14,
     "metadata": {},
     "output_type": "execute_result"
    }
   ],
   "source": [
    "petition_category"
   ]
  },
  {
   "cell_type": "markdown",
   "metadata": {},
   "source": [
    "### contents info "
   ]
  },
  {
   "cell_type": "code",
   "execution_count": 15,
   "metadata": {},
   "outputs": [],
   "source": [
    "import numpy as np\n",
    "import pandas as pd"
   ]
  },
  {
   "cell_type": "code",
   "execution_count": 19,
   "metadata": {},
   "outputs": [
    {
     "data": {
      "text/plain": [
       "True"
      ]
     },
     "execution_count": 19,
     "metadata": {},
     "output_type": "execute_result"
    }
   ],
   "source": [
    "sp = spm.SentencePieceProcessor()\n",
    "sp.Load('data/petitions/sp-30000.model')"
   ]
  },
  {
   "cell_type": "code",
   "execution_count": 20,
   "metadata": {},
   "outputs": [
    {
     "name": "stdout",
     "output_type": "stream",
     "text": [
      "831\n",
      "['▁국민과', '▁소통', '하시고', '▁자유', '롭', '고', '▁행복한', '▁나라를', '▁만들기', '▁위해', '▁힘쓰', '고', '▁계신', '▁대통령께', '▁존경', '과', '▁찬사', '를', '▁올립니다', '.', '▁기해년', '▁새해', '▁복', '▁많이', '▁받으', '십시오', '.', '▁저는', '▁경북', '▁울', '진', '군', '▁북', '면', '▁부', '구', '검', '성', '로', '▁12', '번지에', '▁살고', '▁있는', '▁북', '면', '발전', '협의회', '장', '▁이', '희', '국', '이라고', '▁합니다', '.', '▁저는', '▁8', '기', '의', '▁원전', '이', '▁가동', '건설', '되고', '▁있는', '▁이곳', '▁북', '면', '에', '▁태어나', '▁68', '년째', '▁거주하고', '▁있는', '▁원전', '지역', '▁주민입니다', '.', '▁간절한', '▁마음을', '▁담아', '▁대통령께', '▁다음과', '▁같이', '▁호소', '▁드립니다', '.', '▁울진군민', '과', '▁약속한', '▁신한울', '▁34', '호기', '▁원전', '건설', '을', '▁재개', '해', '▁주십시오', '.', '▁여태껏', '▁단', '▁한', '▁번', '도', '▁원전', '▁건설', '을', '▁원한', '▁적', '▁없는', '▁제가', '▁신한울', '▁34', '호기', '▁원전', '▁건설', '을', '▁청', '하는', '▁까닭', '을', '▁말씀드리겠습니다', '.', '▁경상북도', '▁동해안', '▁최', '북', '단', '▁울', '진', '군', '은', '▁예', '부터', '▁산', '과', '▁바다', '▁계곡', '의', '▁울', '창', '함이', '▁보', '배', '처럼', '▁아름답', '다', '하여', '▁울', '진', '蔚珍', '이라는', '▁지', '명을', '▁간직', '하게', '▁된', '▁곳입니다', '.', '▁이러한', '▁곳에', '▁1', '981', '년', '▁원전', '사업', '의', '▁시작으로', '▁울', '진', '군', '에', '▁북', '면', '6', '기', '▁산', '포', '지구', '6', '기', '▁직', '산', '지구', '6', '기가', '▁원전', '▁예정', '지역으로', '▁지정', '되면서', '▁먼저', '▁북', '면', '▁부', '구리', '▁지역에', '▁원전', '▁6', '기가', '▁건설', '되었습니다', '.', '▁해', '안', '선', '이', '▁잘', '려', '나', '가', '고', '▁마을', '▁한복판에', '▁', '고', '압', '▁송', '전', '탑', '이', '▁들어섰', '습니다', '.', '▁어', '장이', '▁파괴', '되고', '▁지역', '▁특', '산', '품', '에', '▁방사능', '▁꼬리', '표가', '▁붙', '었습니다', '.', '▁삶의', '▁터전이', '▁무너졌', '으며', '▁선량한', '▁울진군민', '은', '▁원전', '반대', '▁시위를', '▁했다는', '▁이유로', '▁범죄자', '가', '▁되었습니다', '.', '▁그러던', '▁지난', '▁1999', '년', '▁정부는', '▁산', '포', '지구', '에', '▁전원', '개발', '사업', '예정', '구역', '▁지정', '고', '시', '▁강행', '▁통보', '를', '▁통해', '▁추가', '원전', '을', '▁건설', '하려', '▁했습니다', '.', '▁저를', '▁', '비롯한', '▁모든', '▁지역주민', '이', '▁결사반대', '▁투쟁', '을', '▁했지만', '▁정부는', '▁일방적', '이었습니다', '.', '▁울진군민', '과', '▁정부', '산업', '부', '▁장관', '▁한', '수원', '▁사장', '의', '▁오랜', '▁협의', '결과', '▁산', '포', '지구', '6', '기', '▁직', '산', '지구', '6', '기를', '▁해제', '하는', '▁조건으로', '▁신규', '원전', '▁4', '개', '호기', '▁건설', '을', '▁마지막으로', '▁더', '▁이상', '의', '▁원전', '▁관련', '▁시설', '을', '▁건설', '하지', '▁않겠다는', '▁약속을', '▁함', '으로써', '▁북', '면', '▁부', '구리', '▁기존', '▁지구', '에', '▁4', '기', '의', '▁추가', '▁원전', '건설', '을', '▁수용', '했습니다', '.', '▁그것이', '▁바로', '▁신한울', '▁12', '34', '호기', '였고', '▁정부와', '▁울진군민', '이', '▁합의한', '▁약속', '이었습니다', '.', '▁울진군민', '은', '▁정부와', '의', '▁약속', '에', '▁따라', '▁신한울', '▁12', '34', '호기', '▁건설', '에', '▁적극', '▁협조', '했습니다', '.', '▁2010', '년', '▁신한울', '▁12', '호기', '가', '▁착공', '했고', '▁2017', '년', '▁신한울', '▁34', '호기', '가', '▁발전사업', '허가를', '▁받아', '▁착공', '을', '▁앞두고', '▁있었습니다', '.', '▁하지만', '▁2017', '년', '▁10', '월', '▁24', '일', '▁정부는', '▁아무런', '▁법적', '절차', '▁없이', '▁국무회의', '에서', '▁신한울', '▁34', '호기', '▁건설', '을', '▁백지화', '▁했습니다', '.', '▁울진군민', '에게는', '▁어떠한', '▁의견', '도', '▁물어보', '지', '▁않았습니다', '.', '▁단', '▁한', '▁번', '의', '▁공청회', '도', '▁개최', '하지', '▁않았습니다', '.', '▁그', '▁어떤', '▁공론화', '▁과정', '도', '▁거치지', '▁않은', '▁채', '▁일방적으로', '▁신한울', '▁34', '호기', '▁건설', '을', '▁백지화', '▁했습니다', '.', '▁지난', '▁40', '여', '▁', '년에', '▁걸', '친', '▁정부의', '▁일방적', '▁에너지', '▁정책에', '▁따라', '▁북', '면', '을', '▁', '비롯한', '▁울', '진', '군', '▁지역', '은', '▁오래전', '부터', '▁원전', '의', '존', '형', '▁경제', '구조', '로', '▁고착화', '되었습니다', '.', '그', '렇', '기', '▁때문에', '▁갑작', '스러운', '▁신한울', '▁34', '호기', '▁건설', '▁중단', '에', '▁따라', '▁정부', '▁약속', '만', '을', '▁믿', '은', '▁저와', '▁지역주민들', '은', '▁현재', '▁심각한', '▁피해를', '▁입고', '▁있습니다', '.', '▁정부의', '▁신한울', '▁34', '호기', '▁백지화', '▁발표', '▁이후', '▁유동', '인구가', '▁한', '▁달', '▁사이에', '▁3', '천', '4', '천명', '▁정도', '▁빠져나가', '고', '▁수천개', '의', '▁일자리가', '▁사라졌', '습니다', '.', '▁경기가', '▁침체', '되고', '▁지역', '산업', '이', '▁붕괴', '되었습니다', '.', '▁건설', '▁중인', '▁임대주택', '은', '▁준공', '도', '▁못한', '▁채', '▁', '흉', '물로', '▁방치', '되고', '▁있습니다', '.', '▁기존', '▁공동주택', '▁단지', '는', '▁유', '령', '주택', '가', '가', '▁되어', '▁암', '흑', '을', '▁맞고', '▁있습니다', '.', '▁종', '잣', '돈을', '▁모아', '▁차', '린', '▁식당', '들은', '▁손님이', '▁없어', '▁문을', '▁닫고', '▁있습니다', '.', '▁건설', '장비', '를', '▁구입한', '▁사람은', '▁할부', '값을', '▁갚지', '▁못해', '▁다시', '▁되', '팔아', '야', '▁할', '▁지경입니다', '.', '▁신한울', '▁34', '호기', '▁건설', '에', '▁따른', '▁기대', '심리', '로', '▁건설', '한', '▁임대주택', '▁식당', '▁상가', '와', '▁건설업체', '가', '▁', '도', '미', '노', '식', '▁연', '쇄', '파산', '을', '▁맞고', '▁있습니다', '.', '▁존경하는', '▁대통령님', '▁정치권에서', '는', '▁탈원전', '▁반대', '또는', '▁재앙', '적', '▁탈원전', '이라는', '▁용어', '로', '▁에너지', '정책을', '▁비방', '하는', '▁것을', '▁뉴스를', '▁통해', '▁보았습니다', '.', '▁저는', '▁정치적', '▁논리', '는', '▁잘', '▁모릅니다', '.', '▁정치적', '▁논리로', '▁인해', '▁열심히', '▁살아가고', '▁있는', '▁울진군민', '들이', '▁또', '▁다시', '▁희생', '되기를', '▁원하지', '▁않습니다', '.', '▁단지', '▁저와', '▁지역', '▁주민들', '은', '▁원전', '▁축소', '시대에', '▁따른', '▁피해를', '▁최소화', '하고', '▁원자력', '이', '▁더', '▁이상', '▁건설', '되지', '▁않는', '▁환경에', '▁점진적', '으로', '▁적응', '할', '▁수', '▁있도록', '▁신한울', '▁34', '호기', '가', '▁약속', '대로', '▁건설', '되길', '▁바랄', '▁뿐입니다', '.', '▁친애하', '는', '▁대통령님', '▁울진군민', '은', '▁지난', '▁40', '여', '▁년간', '▁국가', '▁에너지', '▁정책에', '▁일방적으로', '▁희생', '되어', '▁왔습니다', '.', '▁부디', '▁소통', '하고', '▁대화', '해', '▁주십시오', '.', '▁지역주민', '의', '▁목소리에', '▁귀', '▁기울여', '▁주십시오', '.', '▁지난', '▁정부', '김대중', '▁노무현', '▁대통령', '가', '▁약속한', '▁사항', '입니다', '.', '▁대통령', '은', '▁바뀌었', '지만', '▁국민은', '▁바뀌지', '▁않았기', '에', '▁약속', '은', '▁지켜야', '▁된다고', '▁생각합니다', '.', '▁약속을', '▁지키는', '▁대통령의', '▁모습을', '▁보여주십시오', '.', '▁간곡히', '▁호소', '▁드립니다', '.', '▁2019', '년', '▁기해년', '▁새해에', '는', '▁울진군민', '과', '▁약속한', '▁신한울', '▁34', '호기', '▁건설', '을', '▁반드시', '▁재개', '해', '▁주십시오', '.', '▁북', '면', '발전', '협의회', '장', '▁이', '희', '국', '▁올림']\n"
     ]
    }
   ],
   "source": [
    "data = json.loads(datas[0])\n",
    "content = clean_str(data['content'])\n",
    "tokens = sp.EncodeAsPieces(content)\n",
    "print(len(tokens))\n",
    "print(tokens)"
   ]
  },
  {
   "cell_type": "code",
   "execution_count": 21,
   "metadata": {},
   "outputs": [],
   "source": [
    "# content tokenizing\n",
    "c_list = []\n",
    "for i in range(len(datas)):\n",
    "    data = json.loads(datas[i])\n",
    "    content = clean_str(data['content'])\n",
    "    category = data['category']\n",
    "    tokens = sp.EncodeAsPieces(content)\n",
    "\n",
    "    c_list.append((content, tokens, category,len(tokens)))"
   ]
  },
  {
   "cell_type": "code",
   "execution_count": 22,
   "metadata": {},
   "outputs": [
    {
     "data": {
      "text/plain": [
       "12221"
      ]
     },
     "execution_count": 22,
     "metadata": {},
     "output_type": "execute_result"
    }
   ],
   "source": [
    "len(c_list)"
   ]
  },
  {
   "cell_type": "code",
   "execution_count": 23,
   "metadata": {},
   "outputs": [],
   "source": [
    "df = pd.DataFrame(c_list, columns=['contents','tokens','category','count']) "
   ]
  },
  {
   "cell_type": "code",
   "execution_count": 24,
   "metadata": {},
   "outputs": [
    {
     "data": {
      "text/html": [
       "<div>\n",
       "<style scoped>\n",
       "    .dataframe tbody tr th:only-of-type {\n",
       "        vertical-align: middle;\n",
       "    }\n",
       "\n",
       "    .dataframe tbody tr th {\n",
       "        vertical-align: top;\n",
       "    }\n",
       "\n",
       "    .dataframe thead th {\n",
       "        text-align: right;\n",
       "    }\n",
       "</style>\n",
       "<table border=\"1\" class=\"dataframe\">\n",
       "  <thead>\n",
       "    <tr style=\"text-align: right;\">\n",
       "      <th></th>\n",
       "      <th>contents</th>\n",
       "      <th>tokens</th>\n",
       "      <th>category</th>\n",
       "      <th>count</th>\n",
       "    </tr>\n",
       "  </thead>\n",
       "  <tbody>\n",
       "    <tr>\n",
       "      <td>0</td>\n",
       "      <td>국민과 소통하시고 자유롭고 행복한 나라를 만들기 위해 힘쓰고 계신 대통령께 존경과 ...</td>\n",
       "      <td>[▁국민과, ▁소통, 하시고, ▁자유, 롭, 고, ▁행복한, ▁나라를, ▁만들기, ...</td>\n",
       "      <td>성장동력</td>\n",
       "      <td>831</td>\n",
       "    </tr>\n",
       "    <tr>\n",
       "      <td>1</td>\n",
       "      <td>2008년 10월. 대한민국 공직사회 최대 스캔들이라 불리는 쌀 직불금 부정수급 사...</td>\n",
       "      <td>[▁2008, 년, ▁10, 월, ., ▁대한민국, ▁공직사회, ▁최대, ▁스캔, ...</td>\n",
       "      <td>농산어촌</td>\n",
       "      <td>272</td>\n",
       "    </tr>\n",
       "    <tr>\n",
       "      <td>2</td>\n",
       "      <td>대한민국 국민은 소득주도성장 정책의 폐기를 원합니다. 존경하는 문재인 대통령님. 많...</td>\n",
       "      <td>[▁대한민국, ▁국민은, ▁소득주도성장, ▁정책의, ▁폐기, 를, ▁원합니다, .,...</td>\n",
       "      <td>일자리</td>\n",
       "      <td>278</td>\n",
       "    </tr>\n",
       "    <tr>\n",
       "      <td>3</td>\n",
       "      <td>한국전기안전공사에서 2018년 10월 23일 부터 11월 6일 까지 장애인복지법 제...</td>\n",
       "      <td>[▁한국전, 기, 안전, 공사, 에서, ▁2018, 년, ▁10, 월, ▁23, 일...</td>\n",
       "      <td>일자리</td>\n",
       "      <td>639</td>\n",
       "    </tr>\n",
       "    <tr>\n",
       "      <td>4</td>\n",
       "      <td>인천 구월동 한샘 상생전시장에 범죄자가 차명으로 입점하여 본인이 대표행세를 하며 고...</td>\n",
       "      <td>[▁인천, ▁구, 월, 동, ▁한샘, ▁상생, 전, 시장, 에, ▁범죄자, 가, ▁...</td>\n",
       "      <td>경제민주화</td>\n",
       "      <td>192</td>\n",
       "    </tr>\n",
       "  </tbody>\n",
       "</table>\n",
       "</div>"
      ],
      "text/plain": [
       "                                            contents  \\\n",
       "0  국민과 소통하시고 자유롭고 행복한 나라를 만들기 위해 힘쓰고 계신 대통령께 존경과 ...   \n",
       "1  2008년 10월. 대한민국 공직사회 최대 스캔들이라 불리는 쌀 직불금 부정수급 사...   \n",
       "2  대한민국 국민은 소득주도성장 정책의 폐기를 원합니다. 존경하는 문재인 대통령님. 많...   \n",
       "3  한국전기안전공사에서 2018년 10월 23일 부터 11월 6일 까지 장애인복지법 제...   \n",
       "4  인천 구월동 한샘 상생전시장에 범죄자가 차명으로 입점하여 본인이 대표행세를 하며 고...   \n",
       "\n",
       "                                              tokens category  count  \n",
       "0  [▁국민과, ▁소통, 하시고, ▁자유, 롭, 고, ▁행복한, ▁나라를, ▁만들기, ...     성장동력    831  \n",
       "1  [▁2008, 년, ▁10, 월, ., ▁대한민국, ▁공직사회, ▁최대, ▁스캔, ...     농산어촌    272  \n",
       "2  [▁대한민국, ▁국민은, ▁소득주도성장, ▁정책의, ▁폐기, 를, ▁원합니다, .,...      일자리    278  \n",
       "3  [▁한국전, 기, 안전, 공사, 에서, ▁2018, 년, ▁10, 월, ▁23, 일...      일자리    639  \n",
       "4  [▁인천, ▁구, 월, 동, ▁한샘, ▁상생, 전, 시장, 에, ▁범죄자, 가, ▁...    경제민주화    192  "
      ]
     },
     "execution_count": 24,
     "metadata": {},
     "output_type": "execute_result"
    }
   ],
   "source": [
    "df.head(5)"
   ]
  },
  {
   "cell_type": "code",
   "execution_count": 25,
   "metadata": {},
   "outputs": [
    {
     "data": {
      "text/plain": [
       "count    12221.00000\n",
       "mean       211.58645\n",
       "std        507.02474\n",
       "min          0.00000\n",
       "25%         55.00000\n",
       "50%        114.00000\n",
       "75%        218.00000\n",
       "max      18758.00000\n",
       "Name: count, dtype: float64"
      ]
     },
     "execution_count": 25,
     "metadata": {},
     "output_type": "execute_result"
    }
   ],
   "source": [
    "df['count'].describe()"
   ]
  },
  {
   "cell_type": "code",
   "execution_count": 27,
   "metadata": {},
   "outputs": [
    {
     "data": {
      "text/plain": [
       "<matplotlib.axes._subplots.AxesSubplot at 0x1a791145a08>"
      ]
     },
     "execution_count": 27,
     "metadata": {},
     "output_type": "execute_result"
    },
    {
     "data": {
      "image/png": "[encoded data removed]",
      "text/plain": [
       "<Figure size 360x720 with 1 Axes>"
      ]
     },
     "metadata": {
      "needs_background": "light"
     },
     "output_type": "display_data"
    }
   ],
   "source": [
    "df.boxplot(column=['count'], figsize=(5,10))"
   ]
  },
  {
   "cell_type": "code",
   "execution_count": 28,
   "metadata": {},
   "outputs": [
    {
     "data": {
      "text/html": [
       "<div>\n",
       "<style scoped>\n",
       "    .dataframe tbody tr th:only-of-type {\n",
       "        vertical-align: middle;\n",
       "    }\n",
       "\n",
       "    .dataframe tbody tr th {\n",
       "        vertical-align: top;\n",
       "    }\n",
       "\n",
       "    .dataframe thead th {\n",
       "        text-align: right;\n",
       "    }\n",
       "</style>\n",
       "<table border=\"1\" class=\"dataframe\">\n",
       "  <thead>\n",
       "    <tr style=\"text-align: right;\">\n",
       "      <th></th>\n",
       "      <th>contents</th>\n",
       "      <th>tokens</th>\n",
       "      <th>category</th>\n",
       "      <th>count</th>\n",
       "    </tr>\n",
       "  </thead>\n",
       "  <tbody>\n",
       "    <tr>\n",
       "      <td>1266</td>\n",
       "      <td></td>\n",
       "      <td>[]</td>\n",
       "      <td>기타</td>\n",
       "      <td>0</td>\n",
       "    </tr>\n",
       "    <tr>\n",
       "      <td>2749</td>\n",
       "      <td></td>\n",
       "      <td>[]</td>\n",
       "      <td>일자리</td>\n",
       "      <td>0</td>\n",
       "    </tr>\n",
       "    <tr>\n",
       "      <td>4299</td>\n",
       "      <td></td>\n",
       "      <td>[]</td>\n",
       "      <td>안전/환경</td>\n",
       "      <td>0</td>\n",
       "    </tr>\n",
       "    <tr>\n",
       "      <td>12108</td>\n",
       "      <td></td>\n",
       "      <td>[]</td>\n",
       "      <td>정치개혁</td>\n",
       "      <td>0</td>\n",
       "    </tr>\n",
       "  </tbody>\n",
       "</table>\n",
       "</div>"
      ],
      "text/plain": [
       "      contents tokens category  count\n",
       "1266               []       기타      0\n",
       "2749               []      일자리      0\n",
       "4299               []    안전/환경      0\n",
       "12108              []     정치개혁      0"
      ]
     },
     "execution_count": 28,
     "metadata": {},
     "output_type": "execute_result"
    }
   ],
   "source": [
    "df[df['count'] == 0]"
   ]
  },
  {
   "cell_type": "code",
   "execution_count": 29,
   "metadata": {},
   "outputs": [
    {
     "name": "stdout",
     "output_type": "stream",
     "text": [
      "12217\n"
     ]
    }
   ],
   "source": [
    "df = df[df['count'] > 0]\n",
    "print(len(df))"
   ]
  },
  {
   "cell_type": "code",
   "execution_count": 30,
   "metadata": {},
   "outputs": [
    {
     "name": "stdout",
     "output_type": "stream",
     "text": [
      "12217\n",
      "885\n",
      "0.07244004256364082\n"
     ]
    }
   ],
   "source": [
    "print(len(df))\n",
    "print(len(df[df['count'] > 512]))\n",
    "print(len(df[df['count'] > 512]) / len(df))"
   ]
  },
  {
   "cell_type": "code",
   "execution_count": 31,
   "metadata": {},
   "outputs": [
    {
     "data": {
      "text/plain": [
       "count    12217.000000\n",
       "mean       211.655726\n",
       "std        507.093285\n",
       "min          1.000000\n",
       "25%         55.000000\n",
       "50%        114.000000\n",
       "75%        218.000000\n",
       "max      18758.000000\n",
       "Name: count, dtype: float64"
      ]
     },
     "execution_count": 31,
     "metadata": {},
     "output_type": "execute_result"
    }
   ],
   "source": [
    "df['count'].describe()"
   ]
  },
  {
   "cell_type": "markdown",
   "metadata": {},
   "source": [
    "### 4.2 Multi-classification model training data 생성"
   ]
  },
  {
   "cell_type": "code",
   "execution_count": 32,
   "metadata": {},
   "outputs": [],
   "source": [
    "from sklearn.utils import shuffle\n",
    "df = shuffle(df)"
   ]
  },
  {
   "cell_type": "code",
   "execution_count": 33,
   "metadata": {},
   "outputs": [],
   "source": [
    "category_dictionary = {\n",
    "    '경제민주화' : '0', \n",
    "    '교통/건축/국토' : '1', \n",
    "    '기타' : '2',\n",
    "    '농산어촌' : '3',\n",
    "    '문화/예술/체육/언론' : '4',\n",
    "    '미래' : '5',\n",
    "    '반려동물' : '6',\n",
    "    '보건복지' : '7',\n",
    "    '성장동력' : '8',\n",
    "    '안전/환경' : '9',\n",
    "    '외교/통일/국방' : '10',\n",
    "    '육아/교육' : '11',\n",
    "    '인권/성평등' : '12',\n",
    "    '일자리' : '13',\n",
    "    '저출산/고령화대책' : '14',\n",
    "    '정치개혁' : '15',\n",
    "    '행정' : '16',\n",
    "} "
   ]
  },
  {
   "cell_type": "code",
   "execution_count": 34,
   "metadata": {},
   "outputs": [],
   "source": [
    "df['category_label'] = df['category'].map(category_dictionary)"
   ]
  },
  {
   "cell_type": "code",
   "execution_count": 35,
   "metadata": {},
   "outputs": [
    {
     "data": {
      "text/html": [
       "<div>\n",
       "<style scoped>\n",
       "    .dataframe tbody tr th:only-of-type {\n",
       "        vertical-align: middle;\n",
       "    }\n",
       "\n",
       "    .dataframe tbody tr th {\n",
       "        vertical-align: top;\n",
       "    }\n",
       "\n",
       "    .dataframe thead th {\n",
       "        text-align: right;\n",
       "    }\n",
       "</style>\n",
       "<table border=\"1\" class=\"dataframe\">\n",
       "  <thead>\n",
       "    <tr style=\"text-align: right;\">\n",
       "      <th></th>\n",
       "      <th>contents</th>\n",
       "      <th>tokens</th>\n",
       "      <th>category</th>\n",
       "      <th>count</th>\n",
       "      <th>category_label</th>\n",
       "    </tr>\n",
       "  </thead>\n",
       "  <tbody>\n",
       "    <tr>\n",
       "      <td>838</td>\n",
       "      <td>정년 병원에서도 만으로 하는데 청소년 음주등도... 일반 생활에선 아직 일반 나이로...</td>\n",
       "      <td>[▁정년, ▁병원에서, 도, ▁만으로, ▁하는데, ▁청소년, ▁음주, 등, 도, ....</td>\n",
       "      <td>보건복지</td>\n",
       "      <td>103</td>\n",
       "      <td>7</td>\n",
       "    </tr>\n",
       "    <tr>\n",
       "      <td>9600</td>\n",
       "      <td>문재인은 머하는데 해결도 안하나</td>\n",
       "      <td>[▁문재인은, ▁머, 하는데, ▁해결, 도, ▁안, 하나]</td>\n",
       "      <td>안전/환경</td>\n",
       "      <td>7</td>\n",
       "      <td>9</td>\n",
       "    </tr>\n",
       "    <tr>\n",
       "      <td>2078</td>\n",
       "      <td>소년법이 만들어진 이유가 뭐였지요? 소년들이 생계유지나 그외의 일로 어쩔수 없게 범...</td>\n",
       "      <td>[▁소년법, 이, ▁만들어진, ▁이유가, ▁뭐, 였, 지요, ?, ▁소, 년, 들이...</td>\n",
       "      <td>기타</td>\n",
       "      <td>57</td>\n",
       "      <td>2</td>\n",
       "    </tr>\n",
       "    <tr>\n",
       "      <td>11700</td>\n",
       "      <td>저는 현재 20대 후반의 취준생 남성입니다. 2018년 가을 부모님께서는 여행을 가...</td>\n",
       "      <td>[▁저는, ▁현재, ▁20, 대, ▁후반, 의, ▁취준생, ▁남성입니다, ., ▁2...</td>\n",
       "      <td>외교/통일/국방</td>\n",
       "      <td>343</td>\n",
       "      <td>10</td>\n",
       "    </tr>\n",
       "    <tr>\n",
       "      <td>3281</td>\n",
       "      <td>대전 유성구에 사는 평범한 아이둘 아빠입니다! 요세 유성전통5일시장이 없이지고 거기...</td>\n",
       "      <td>[▁대전, ▁유, 성, 구, 에, ▁사는, ▁평범한, ▁아이, 둘, ▁아빠입니다, ...</td>\n",
       "      <td>경제민주화</td>\n",
       "      <td>94</td>\n",
       "      <td>0</td>\n",
       "    </tr>\n",
       "  </tbody>\n",
       "</table>\n",
       "</div>"
      ],
      "text/plain": [
       "                                                contents  \\\n",
       "838    정년 병원에서도 만으로 하는데 청소년 음주등도... 일반 생활에선 아직 일반 나이로...   \n",
       "9600                                   문재인은 머하는데 해결도 안하나   \n",
       "2078   소년법이 만들어진 이유가 뭐였지요? 소년들이 생계유지나 그외의 일로 어쩔수 없게 범...   \n",
       "11700  저는 현재 20대 후반의 취준생 남성입니다. 2018년 가을 부모님께서는 여행을 가...   \n",
       "3281   대전 유성구에 사는 평범한 아이둘 아빠입니다! 요세 유성전통5일시장이 없이지고 거기...   \n",
       "\n",
       "                                                  tokens  category  count  \\\n",
       "838    [▁정년, ▁병원에서, 도, ▁만으로, ▁하는데, ▁청소년, ▁음주, 등, 도, ....      보건복지    103   \n",
       "9600                    [▁문재인은, ▁머, 하는데, ▁해결, 도, ▁안, 하나]     안전/환경      7   \n",
       "2078   [▁소년법, 이, ▁만들어진, ▁이유가, ▁뭐, 였, 지요, ?, ▁소, 년, 들이...        기타     57   \n",
       "11700  [▁저는, ▁현재, ▁20, 대, ▁후반, 의, ▁취준생, ▁남성입니다, ., ▁2...  외교/통일/국방    343   \n",
       "3281   [▁대전, ▁유, 성, 구, 에, ▁사는, ▁평범한, ▁아이, 둘, ▁아빠입니다, ...     경제민주화     94   \n",
       "\n",
       "      category_label  \n",
       "838                7  \n",
       "9600               9  \n",
       "2078               2  \n",
       "11700             10  \n",
       "3281               0  "
      ]
     },
     "execution_count": 35,
     "metadata": {},
     "output_type": "execute_result"
    }
   ],
   "source": [
    "df.head(5)"
   ]
  },
  {
   "cell_type": "code",
   "execution_count": 36,
   "metadata": {},
   "outputs": [],
   "source": [
    "df_train = df.iloc[:10000]\n",
    "df_dev = df.iloc[10000:]"
   ]
  },
  {
   "cell_type": "code",
   "execution_count": 37,
   "metadata": {},
   "outputs": [
    {
     "name": "stdout",
     "output_type": "stream",
     "text": [
      "10000\n",
      "2217\n",
      "12217\n"
     ]
    }
   ],
   "source": [
    "print(len(df_train))\n",
    "print(len(df_dev))\n",
    "print(len(df_train)+len(df_dev))"
   ]
  },
  {
   "cell_type": "code",
   "execution_count": 38,
   "metadata": {},
   "outputs": [
    {
     "data": {
      "text/html": [
       "<div>\n",
       "<style scoped>\n",
       "    .dataframe tbody tr th:only-of-type {\n",
       "        vertical-align: middle;\n",
       "    }\n",
       "\n",
       "    .dataframe tbody tr th {\n",
       "        vertical-align: top;\n",
       "    }\n",
       "\n",
       "    .dataframe thead th {\n",
       "        text-align: right;\n",
       "    }\n",
       "</style>\n",
       "<table border=\"1\" class=\"dataframe\">\n",
       "  <thead>\n",
       "    <tr style=\"text-align: right;\">\n",
       "      <th></th>\n",
       "      <th>contents</th>\n",
       "      <th>tokens</th>\n",
       "      <th>category</th>\n",
       "      <th>count</th>\n",
       "      <th>category_label</th>\n",
       "    </tr>\n",
       "  </thead>\n",
       "  <tbody>\n",
       "    <tr>\n",
       "      <td>838</td>\n",
       "      <td>정년 병원에서도 만으로 하는데 청소년 음주등도... 일반 생활에선 아직 일반 나이로...</td>\n",
       "      <td>[▁정년, ▁병원에서, 도, ▁만으로, ▁하는데, ▁청소년, ▁음주, 등, 도, ....</td>\n",
       "      <td>보건복지</td>\n",
       "      <td>103</td>\n",
       "      <td>7</td>\n",
       "    </tr>\n",
       "    <tr>\n",
       "      <td>9600</td>\n",
       "      <td>문재인은 머하는데 해결도 안하나</td>\n",
       "      <td>[▁문재인은, ▁머, 하는데, ▁해결, 도, ▁안, 하나]</td>\n",
       "      <td>안전/환경</td>\n",
       "      <td>7</td>\n",
       "      <td>9</td>\n",
       "    </tr>\n",
       "    <tr>\n",
       "      <td>2078</td>\n",
       "      <td>소년법이 만들어진 이유가 뭐였지요? 소년들이 생계유지나 그외의 일로 어쩔수 없게 범...</td>\n",
       "      <td>[▁소년법, 이, ▁만들어진, ▁이유가, ▁뭐, 였, 지요, ?, ▁소, 년, 들이...</td>\n",
       "      <td>기타</td>\n",
       "      <td>57</td>\n",
       "      <td>2</td>\n",
       "    </tr>\n",
       "    <tr>\n",
       "      <td>11700</td>\n",
       "      <td>저는 현재 20대 후반의 취준생 남성입니다. 2018년 가을 부모님께서는 여행을 가...</td>\n",
       "      <td>[▁저는, ▁현재, ▁20, 대, ▁후반, 의, ▁취준생, ▁남성입니다, ., ▁2...</td>\n",
       "      <td>외교/통일/국방</td>\n",
       "      <td>343</td>\n",
       "      <td>10</td>\n",
       "    </tr>\n",
       "    <tr>\n",
       "      <td>3281</td>\n",
       "      <td>대전 유성구에 사는 평범한 아이둘 아빠입니다! 요세 유성전통5일시장이 없이지고 거기...</td>\n",
       "      <td>[▁대전, ▁유, 성, 구, 에, ▁사는, ▁평범한, ▁아이, 둘, ▁아빠입니다, ...</td>\n",
       "      <td>경제민주화</td>\n",
       "      <td>94</td>\n",
       "      <td>0</td>\n",
       "    </tr>\n",
       "  </tbody>\n",
       "</table>\n",
       "</div>"
      ],
      "text/plain": [
       "                                                contents  \\\n",
       "838    정년 병원에서도 만으로 하는데 청소년 음주등도... 일반 생활에선 아직 일반 나이로...   \n",
       "9600                                   문재인은 머하는데 해결도 안하나   \n",
       "2078   소년법이 만들어진 이유가 뭐였지요? 소년들이 생계유지나 그외의 일로 어쩔수 없게 범...   \n",
       "11700  저는 현재 20대 후반의 취준생 남성입니다. 2018년 가을 부모님께서는 여행을 가...   \n",
       "3281   대전 유성구에 사는 평범한 아이둘 아빠입니다! 요세 유성전통5일시장이 없이지고 거기...   \n",
       "\n",
       "                                                  tokens  category  count  \\\n",
       "838    [▁정년, ▁병원에서, 도, ▁만으로, ▁하는데, ▁청소년, ▁음주, 등, 도, ....      보건복지    103   \n",
       "9600                    [▁문재인은, ▁머, 하는데, ▁해결, 도, ▁안, 하나]     안전/환경      7   \n",
       "2078   [▁소년법, 이, ▁만들어진, ▁이유가, ▁뭐, 였, 지요, ?, ▁소, 년, 들이...        기타     57   \n",
       "11700  [▁저는, ▁현재, ▁20, 대, ▁후반, 의, ▁취준생, ▁남성입니다, ., ▁2...  외교/통일/국방    343   \n",
       "3281   [▁대전, ▁유, 성, 구, 에, ▁사는, ▁평범한, ▁아이, 둘, ▁아빠입니다, ...     경제민주화     94   \n",
       "\n",
       "      category_label  \n",
       "838                7  \n",
       "9600               9  \n",
       "2078               2  \n",
       "11700             10  \n",
       "3281               0  "
      ]
     },
     "execution_count": 38,
     "metadata": {},
     "output_type": "execute_result"
    }
   ],
   "source": [
    "df_train.head(5)"
   ]
  },
  {
   "cell_type": "code",
   "execution_count": 39,
   "metadata": {},
   "outputs": [
    {
     "data": {
      "text/html": [
       "<div>\n",
       "<style scoped>\n",
       "    .dataframe tbody tr th:only-of-type {\n",
       "        vertical-align: middle;\n",
       "    }\n",
       "\n",
       "    .dataframe tbody tr th {\n",
       "        vertical-align: top;\n",
       "    }\n",
       "\n",
       "    .dataframe thead th {\n",
       "        text-align: right;\n",
       "    }\n",
       "</style>\n",
       "<table border=\"1\" class=\"dataframe\">\n",
       "  <thead>\n",
       "    <tr style=\"text-align: right;\">\n",
       "      <th></th>\n",
       "      <th>contents</th>\n",
       "      <th>tokens</th>\n",
       "      <th>category</th>\n",
       "      <th>count</th>\n",
       "      <th>category_label</th>\n",
       "    </tr>\n",
       "  </thead>\n",
       "  <tbody>\n",
       "    <tr>\n",
       "      <td>1844</td>\n",
       "      <td>신부님 스님들은 결혼을 안하시고 아기도 안낳으시자나요 그러면안된다고 생각해요 아무리...</td>\n",
       "      <td>[▁신, 부, 님, ▁스, 님들, 은, ▁결혼을, ▁안, 하시고, ▁아기, 도, ▁...</td>\n",
       "      <td>저출산/고령화대책</td>\n",
       "      <td>49</td>\n",
       "      <td>14</td>\n",
       "    </tr>\n",
       "    <tr>\n",
       "      <td>887</td>\n",
       "      <td>김정은 신년사를 100번이고 다시 재생해서 봤습니다. 도저히 한국과 미국에 협박에 ...</td>\n",
       "      <td>[▁김정은, ▁신년사, 를, ▁100, 번, 이고, ▁다시, ▁재생, 해서, ▁봤습...</td>\n",
       "      <td>외교/통일/국방</td>\n",
       "      <td>109</td>\n",
       "      <td>10</td>\n",
       "    </tr>\n",
       "    <tr>\n",
       "      <td>9978</td>\n",
       "      <td>밥버러지들 데모 판에 정치인들 슬금슬금 눈치보며 지지율 좀 쳐 올리겠다며 그들 손을...</td>\n",
       "      <td>[▁밥, 버, 러, 지, 들, ▁데, 모, ▁판에, ▁정치인들, ▁슬, 금, 슬, ...</td>\n",
       "      <td>기타</td>\n",
       "      <td>88</td>\n",
       "      <td>2</td>\n",
       "    </tr>\n",
       "    <tr>\n",
       "      <td>388</td>\n",
       "      <td>전두환씨 처가 전두환씨를 민주주의의 아버지라고 주장했습니다. 전두환 노태우는 범죄자...</td>\n",
       "      <td>[▁전두환씨, ▁처, 가, ▁전두환씨, 를, ▁민주주의, 의, ▁아버지, 라고, ▁...</td>\n",
       "      <td>정치개혁</td>\n",
       "      <td>125</td>\n",
       "      <td>15</td>\n",
       "    </tr>\n",
       "    <tr>\n",
       "      <td>2123</td>\n",
       "      <td>2018년 대한민국에서 일어난 한국 주식역사상 최대의 공매도 관련 이슈로써 자세한 ...</td>\n",
       "      <td>[▁2018, 년, ▁대한민국에서, ▁일어난, ▁한국, ▁주식, 역사, 상, ▁최대...</td>\n",
       "      <td>경제민주화</td>\n",
       "      <td>336</td>\n",
       "      <td>0</td>\n",
       "    </tr>\n",
       "  </tbody>\n",
       "</table>\n",
       "</div>"
      ],
      "text/plain": [
       "                                               contents  \\\n",
       "1844  신부님 스님들은 결혼을 안하시고 아기도 안낳으시자나요 그러면안된다고 생각해요 아무리...   \n",
       "887   김정은 신년사를 100번이고 다시 재생해서 봤습니다. 도저히 한국과 미국에 협박에 ...   \n",
       "9978  밥버러지들 데모 판에 정치인들 슬금슬금 눈치보며 지지율 좀 쳐 올리겠다며 그들 손을...   \n",
       "388   전두환씨 처가 전두환씨를 민주주의의 아버지라고 주장했습니다. 전두환 노태우는 범죄자...   \n",
       "2123  2018년 대한민국에서 일어난 한국 주식역사상 최대의 공매도 관련 이슈로써 자세한 ...   \n",
       "\n",
       "                                                 tokens   category  count  \\\n",
       "1844  [▁신, 부, 님, ▁스, 님들, 은, ▁결혼을, ▁안, 하시고, ▁아기, 도, ▁...  저출산/고령화대책     49   \n",
       "887   [▁김정은, ▁신년사, 를, ▁100, 번, 이고, ▁다시, ▁재생, 해서, ▁봤습...   외교/통일/국방    109   \n",
       "9978  [▁밥, 버, 러, 지, 들, ▁데, 모, ▁판에, ▁정치인들, ▁슬, 금, 슬, ...         기타     88   \n",
       "388   [▁전두환씨, ▁처, 가, ▁전두환씨, 를, ▁민주주의, 의, ▁아버지, 라고, ▁...       정치개혁    125   \n",
       "2123  [▁2018, 년, ▁대한민국에서, ▁일어난, ▁한국, ▁주식, 역사, 상, ▁최대...      경제민주화    336   \n",
       "\n",
       "     category_label  \n",
       "1844             14  \n",
       "887              10  \n",
       "9978              2  \n",
       "388              15  \n",
       "2123              0  "
      ]
     },
     "execution_count": 39,
     "metadata": {},
     "output_type": "execute_result"
    }
   ],
   "source": [
    "df_dev.head(5)"
   ]
  },
  {
   "cell_type": "code",
   "execution_count": 40,
   "metadata": {},
   "outputs": [
    {
     "data": {
      "text/plain": [
       "category\n",
       "경제민주화           84\n",
       "교통/건축/국토       152\n",
       "기타             253\n",
       "농산어촌            13\n",
       "문화/예술/체육/언론    114\n",
       "미래              81\n",
       "반려동물            35\n",
       "보건복지           168\n",
       "성장동력            43\n",
       "안전/환경          201\n",
       "외교/통일/국방       108\n",
       "육아/교육           94\n",
       "인권/성평등         182\n",
       "일자리            156\n",
       "저출산/고령화대책       16\n",
       "정치개혁           409\n",
       "행정             108\n",
       "Name: category, dtype: int64"
      ]
     },
     "execution_count": 40,
     "metadata": {},
     "output_type": "execute_result"
    }
   ],
   "source": [
    "df_dev.groupby('category')['category'].count()"
   ]
  },
  {
   "cell_type": "code",
   "execution_count": 41,
   "metadata": {},
   "outputs": [
    {
     "data": {
      "text/plain": [
       "category\n",
       "경제민주화           388\n",
       "교통/건축/국토        690\n",
       "기타             1243\n",
       "농산어촌             66\n",
       "문화/예술/체육/언론     471\n",
       "미래              461\n",
       "반려동물            149\n",
       "보건복지            683\n",
       "성장동력            196\n",
       "안전/환경           909\n",
       "외교/통일/국방        517\n",
       "육아/교육           406\n",
       "인권/성평등          782\n",
       "일자리             766\n",
       "저출산/고령화대책        77\n",
       "정치개혁           1730\n",
       "행정              466\n",
       "Name: category, dtype: int64"
      ]
     },
     "execution_count": 41,
     "metadata": {},
     "output_type": "execute_result"
    }
   ],
   "source": [
    "df_train.groupby('category')['category'].count()"
   ]
  },
  {
   "cell_type": "code",
   "execution_count": 43,
   "metadata": {},
   "outputs": [],
   "source": [
    "train_file_path = \"data/petitions/petition.mcc.train\"\n",
    "dev_file_path = \"data/petitions/petition.mcc.dev\"\n",
    "df_train.to_csv(train_file_path, columns=['contents','category_label'],sep='\\t')\n",
    "df_dev.to_csv(dev_file_path, columns=['contents','category_label'],sep='\\t')"
   ]
  },
  {
   "cell_type": "code",
   "execution_count": null,
   "metadata": {},
   "outputs": [],
   "source": []
  }
 ],
 "metadata": {
  "kernelspec": {
   "display_name": "Python 3",
   "language": "python",
   "name": "python3"
  },
  "language_info": {
   "codemirror_mode": {
    "name": "ipython",
    "version": 3
   },
   "file_extension": ".py",
   "mimetype": "text/x-python",
   "name": "python",
   "nbconvert_exporter": "python",
   "pygments_lexer": "ipython3",
   "version": "3.7.6"
  }
 },
 "nbformat": 4,
 "nbformat_minor": 2
}
