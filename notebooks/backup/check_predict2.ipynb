{
 "cells": [
  {
   "cell_type": "code",
   "execution_count": 1,
   "metadata": {},
   "outputs": [],
   "source": [
    "import pandas as pd\n",
    "test_file_path = \"data/petitions/petition.mcc.without-etc.2018.clean1.dev\"\n",
    "predict_result_340_file_path = \"data/petitions/predict_result/34000/submit_results.tsv\"\n",
    "predict_result_370_file_path = \"data/petitions/predict_result/37000/submit_results.tsv\"\n",
    "predict_result_375_file_path = \"data/petitions/predict_result/37500/submit_results.tsv\""
   ]
  },
  {
   "cell_type": "code",
   "execution_count": 2,
   "metadata": {},
   "outputs": [],
   "source": [
    "df_test = pd.read_csv(test_file_path, names=['idx', 'contents','actual'],sep='\\t', header=0)\n",
    "df_predict_340 = pd.read_csv(predict_result_340_file_path, names=['idx', 'predict'],sep='\\t')\n",
    "df_predict_370 = pd.read_csv(predict_result_340_file_path, names=['idx', 'predict'],sep='\\t')\n",
    "df_predict_375 = pd.read_csv(predict_result_340_file_path, names=['idx', 'predict'],sep='\\t')"
   ]
  },
  {
   "cell_type": "code",
   "execution_count": 3,
   "metadata": {},
   "outputs": [
    {
     "name": "stdout",
     "output_type": "stream",
     "text": [
      "10000\n",
      "10000\n",
      "10000\n",
      "10000\n"
     ]
    }
   ],
   "source": [
    "print(len(df_test))\n",
    "print(len(df_predict_340))\n",
    "print(len(df_predict_370))\n",
    "print(len(df_predict_375))"
   ]
  },
  {
   "cell_type": "code",
   "execution_count": 4,
   "metadata": {},
   "outputs": [],
   "source": [
    "df_all_340 = pd.merge(df_test, df_predict_340)\n",
    "df_all_370 = pd.merge(df_test, df_predict_370)\n",
    "df_all_375 = pd.merge(df_test, df_predict_375)"
   ]
  },
  {
   "cell_type": "code",
   "execution_count": 5,
   "metadata": {},
   "outputs": [],
   "source": [
    "from sklearn.metrics import classification_report"
   ]
  },
  {
   "cell_type": "code",
   "execution_count": 6,
   "metadata": {},
   "outputs": [
    {
     "name": "stdout",
     "output_type": "stream",
     "text": [
      "              precision    recall  f1-score   support\n",
      "\n",
      "       경제민주화       0.48      0.50      0.49       569\n",
      "    교통/건축/국토       0.65      0.78      0.71       907\n",
      "        농산어촌       0.57      0.55      0.56        47\n",
      " 문화/예술/체육/언론       0.59      0.74      0.65       534\n",
      "          미래       0.29      0.11      0.16       540\n",
      "        반려동물       0.81      0.87      0.84       113\n",
      "        보건복지       0.63      0.64      0.63       699\n",
      "        성장동력       0.29      0.14      0.19       232\n",
      "       안전/환경       0.58      0.60      0.59       864\n",
      "    외교/통일/국방       0.61      0.70      0.66       843\n",
      "       육아/교육       0.63      0.78      0.70       643\n",
      "      인권/성평등       0.58      0.55      0.56       952\n",
      "         일자리       0.57      0.68      0.62       708\n",
      "   저출산/고령화대책       0.55      0.36      0.43       100\n",
      "        정치개혁       0.64      0.61      0.63      1658\n",
      "          행정       0.34      0.24      0.28       591\n",
      "\n",
      "    accuracy                           0.59     10000\n",
      "   macro avg       0.55      0.55      0.54     10000\n",
      "weighted avg       0.57      0.59      0.57     10000\n",
      "\n"
     ]
    }
   ],
   "source": [
    "print(classification_report(df_all_340['actual'], df_all_340['predict'], target_names=['경제민주화', \n",
    "'교통/건축/국토', \n",
    "'농산어촌',\n",
    "'문화/예술/체육/언론',\n",
    "'미래',\n",
    "'반려동물',\n",
    "'보건복지',\n",
    "'성장동력',\n",
    "'안전/환경',\n",
    "'외교/통일/국방',\n",
    "'육아/교육',\n",
    "'인권/성평등',\n",
    "'일자리',\n",
    "'저출산/고령화대책',\n",
    "'정치개혁',\n",
    "'행정']))"
   ]
  },
  {
   "cell_type": "code",
   "execution_count": 7,
   "metadata": {},
   "outputs": [
    {
     "name": "stdout",
     "output_type": "stream",
     "text": [
      "              precision    recall  f1-score   support\n",
      "\n",
      "       경제민주화       0.48      0.50      0.49       569\n",
      "    교통/건축/국토       0.65      0.78      0.71       907\n",
      "        농산어촌       0.57      0.55      0.56        47\n",
      " 문화/예술/체육/언론       0.59      0.74      0.65       534\n",
      "          미래       0.29      0.11      0.16       540\n",
      "        반려동물       0.81      0.87      0.84       113\n",
      "        보건복지       0.63      0.64      0.63       699\n",
      "        성장동력       0.29      0.14      0.19       232\n",
      "       안전/환경       0.58      0.60      0.59       864\n",
      "    외교/통일/국방       0.61      0.70      0.66       843\n",
      "       육아/교육       0.63      0.78      0.70       643\n",
      "      인권/성평등       0.58      0.55      0.56       952\n",
      "         일자리       0.57      0.68      0.62       708\n",
      "   저출산/고령화대책       0.55      0.36      0.43       100\n",
      "        정치개혁       0.64      0.61      0.63      1658\n",
      "          행정       0.34      0.24      0.28       591\n",
      "\n",
      "    accuracy                           0.59     10000\n",
      "   macro avg       0.55      0.55      0.54     10000\n",
      "weighted avg       0.57      0.59      0.57     10000\n",
      "\n"
     ]
    }
   ],
   "source": [
    "print(classification_report(df_all_370['actual'], df_all_370['predict'], target_names=['경제민주화', \n",
    "'교통/건축/국토', \n",
    "'농산어촌',\n",
    "'문화/예술/체육/언론',\n",
    "'미래',\n",
    "'반려동물',\n",
    "'보건복지',\n",
    "'성장동력',\n",
    "'안전/환경',\n",
    "'외교/통일/국방',\n",
    "'육아/교육',\n",
    "'인권/성평등',\n",
    "'일자리',\n",
    "'저출산/고령화대책',\n",
    "'정치개혁',\n",
    "'행정']))"
   ]
  },
  {
   "cell_type": "code",
   "execution_count": 15,
   "metadata": {},
   "outputs": [
    {
     "name": "stdout",
     "output_type": "stream",
     "text": [
      "              precision    recall  f1-score   support\n",
      "\n",
      "       경제민주화       0.48      0.50      0.49       569\n",
      "    교통/건축/국토       0.65      0.78      0.71       907\n",
      "        농산어촌       0.57      0.55      0.56        47\n",
      " 문화/예술/체육/언론       0.59      0.74      0.65       534\n",
      "          미래       0.29      0.11      0.16       540\n",
      "        반려동물       0.81      0.87      0.84       113\n",
      "        보건복지       0.63      0.64      0.63       699\n",
      "        성장동력       0.29      0.14      0.19       232\n",
      "       안전/환경       0.58      0.60      0.59       864\n",
      "    외교/통일/국방       0.61      0.70      0.66       843\n",
      "       육아/교육       0.63      0.78      0.70       643\n",
      "      인권/성평등       0.58      0.55      0.56       952\n",
      "         일자리       0.57      0.68      0.62       708\n",
      "   저출산/고령화대책       0.55      0.36      0.43       100\n",
      "        정치개혁       0.64      0.61      0.63      1658\n",
      "          행정       0.34      0.24      0.28       591\n",
      "\n",
      "    accuracy                           0.59     10000\n",
      "   macro avg       0.55      0.55      0.54     10000\n",
      "weighted avg       0.57      0.59      0.57     10000\n",
      "\n"
     ]
    }
   ],
   "source": [
    "print(classification_report(df_all_375['actual'], df_all_375['predict'], target_names=['경제민주화', \n",
    "'교통/건축/국토', \n",
    "'농산어촌',\n",
    "'문화/예술/체육/언론',\n",
    "'미래',\n",
    "'반려동물',\n",
    "'보건복지',\n",
    "'성장동력',\n",
    "'안전/환경',\n",
    "'외교/통일/국방',\n",
    "'육아/교육',\n",
    "'인권/성평등',\n",
    "'일자리',\n",
    "'저출산/고령화대책',\n",
    "'정치개혁',\n",
    "'행정']))"
   ]
  },
  {
   "cell_type": "code",
   "execution_count": 13,
   "metadata": {},
   "outputs": [
    {
     "data": {
      "text/plain": [
       "idx                                                     89752\n",
       "contents    일간베스트오늘의 유머메갈리아 등의 모든 유해사이트 폐쇄 혹은 차단 부탁드립니다......\n",
       "actual                                                      3\n",
       "predict                                                    10\n",
       "Name: 0, dtype: object"
      ]
     },
     "execution_count": 13,
     "metadata": {},
     "output_type": "execute_result"
    }
   ],
   "source": [
    "df_all_375.iloc[0]"
   ]
  },
  {
   "cell_type": "code",
   "execution_count": null,
   "metadata": {},
   "outputs": [],
   "source": []
  }
 ],
 "metadata": {
  "kernelspec": {
   "display_name": "Python 3",
   "language": "python",
   "name": "python3"
  },
  "language_info": {
   "codemirror_mode": {
    "name": "ipython",
    "version": 3
   },
   "file_extension": ".py",
   "mimetype": "text/x-python",
   "name": "python",
   "nbconvert_exporter": "python",
   "pygments_lexer": "ipython3",
   "version": "3.7.4"
  }
 },
 "nbformat": 4,
 "nbformat_minor": 2
}
